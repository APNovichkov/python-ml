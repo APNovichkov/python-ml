{
 "cells": [
  {
   "cell_type": "code",
   "execution_count": 1,
   "metadata": {},
   "outputs": [],
   "source": [
    "import pandas as pd\n",
    "import numpy as np\n",
    "import matplotlib.pyplot as plt\n",
    "import seaborn as sns"
   ]
  },
  {
   "cell_type": "markdown",
   "metadata": {},
   "source": [
    "# Review of PCA\n",
    "PCA is a way to reduce dimensions in the problem. This means that if we have a lot of features, what we can do is reduce them to n PCA components(for example 2), and plot them to see what we get.\n",
    "\n",
    "PCA is used extensively to find anomalies in the data, because if we plot the 2 PCA components and we see that there is a small cluster of dots separated from the majority of data, we can consider those data points to be anomalies"
   ]
  },
  {
   "cell_type": "markdown",
   "metadata": {},
   "source": [
    "## What it does:\n",
    "- Reduces the number of features while keeping the features information\n",
    "- Removes correlation among features\n",
    "- Emphasizes variations of strong features, making the data easier to visualize"
   ]
  },
  {
   "cell_type": "markdown",
   "metadata": {},
   "source": [
    "**PCA finds n top eigenvectors based on their eigenvalues, and those n vectors represent the PCA components!**"
   ]
  },
  {
   "cell_type": "markdown",
   "metadata": {},
   "source": [
    "## Let's use Sklearn to get our PCA from a sample dataset"
   ]
  },
  {
   "cell_type": "code",
   "execution_count": 4,
   "metadata": {},
   "outputs": [
    {
     "data": {
      "text/html": [
       "<div>\n",
       "<style scoped>\n",
       "    .dataframe tbody tr th:only-of-type {\n",
       "        vertical-align: middle;\n",
       "    }\n",
       "\n",
       "    .dataframe tbody tr th {\n",
       "        vertical-align: top;\n",
       "    }\n",
       "\n",
       "    .dataframe thead th {\n",
       "        text-align: right;\n",
       "    }\n",
       "</style>\n",
       "<table border=\"1\" class=\"dataframe\">\n",
       "  <thead>\n",
       "    <tr style=\"text-align: right;\">\n",
       "      <th></th>\n",
       "      <th>England</th>\n",
       "      <th>N Ireland</th>\n",
       "      <th>Scotland</th>\n",
       "      <th>Wales</th>\n",
       "      <th>Features</th>\n",
       "    </tr>\n",
       "  </thead>\n",
       "  <tbody>\n",
       "    <tr>\n",
       "      <td>0</td>\n",
       "      <td>375</td>\n",
       "      <td>135</td>\n",
       "      <td>458</td>\n",
       "      <td>475</td>\n",
       "      <td>Alcoholic drinks</td>\n",
       "    </tr>\n",
       "    <tr>\n",
       "      <td>1</td>\n",
       "      <td>57</td>\n",
       "      <td>47</td>\n",
       "      <td>53</td>\n",
       "      <td>73</td>\n",
       "      <td>Beverages</td>\n",
       "    </tr>\n",
       "    <tr>\n",
       "      <td>2</td>\n",
       "      <td>245</td>\n",
       "      <td>267</td>\n",
       "      <td>242</td>\n",
       "      <td>227</td>\n",
       "      <td>Carcase meat</td>\n",
       "    </tr>\n",
       "    <tr>\n",
       "      <td>3</td>\n",
       "      <td>1472</td>\n",
       "      <td>1494</td>\n",
       "      <td>1462</td>\n",
       "      <td>1582</td>\n",
       "      <td>Cereals</td>\n",
       "    </tr>\n",
       "    <tr>\n",
       "      <td>4</td>\n",
       "      <td>105</td>\n",
       "      <td>66</td>\n",
       "      <td>103</td>\n",
       "      <td>103</td>\n",
       "      <td>Cheese</td>\n",
       "    </tr>\n",
       "  </tbody>\n",
       "</table>\n",
       "</div>"
      ],
      "text/plain": [
       "   England  N Ireland  Scotland  Wales          Features\n",
       "0      375        135       458    475  Alcoholic drinks\n",
       "1       57         47        53     73         Beverages\n",
       "2      245        267       242    227      Carcase meat\n",
       "3     1472       1494      1462   1582           Cereals\n",
       "4      105         66       103    103            Cheese"
      ]
     },
     "execution_count": 4,
     "metadata": {},
     "output_type": "execute_result"
    }
   ],
   "source": [
    "from sklearn.decomposition import PCA\n",
    "from sklearn import preprocessing\n",
    "\n",
    "df = pd.read_excel('pca_uk.xlsx')\n",
    "df.head()"
   ]
  },
  {
   "cell_type": "markdown",
   "metadata": {},
   "source": [
    "**Important Note:**\n",
    "When we are doing PCA, it is important that the X matrix that we give it has these qualities:\n",
    "- Each row is a speficific feature, in this case, it would be a country(England)\n",
    "- Each column represents a class, in this case it oculdn be \"Alcaholic Drinks\", or \"Beverages\", etc"
   ]
  },
  {
   "cell_type": "code",
   "execution_count": 10,
   "metadata": {},
   "outputs": [
    {
     "name": "stdout",
     "output_type": "stream",
     "text": [
      "X without transpose: [[ 375  135  458  475]\n",
      " [  57   47   53   73]\n",
      " [ 245  267  242  227]\n",
      " [1472 1494 1462 1582]\n",
      " [ 105   66  103  103]\n",
      " [  54   41   62   64]\n",
      " [ 193  209  184  235]\n",
      " [ 147   93  122  160]\n",
      " [1102  674  957 1137]\n",
      " [ 720 1033  566  874]\n",
      " [ 253  143  171  265]\n",
      " [ 685  586  750  803]\n",
      " [ 488  355  418  570]\n",
      " [ 198  187  220  203]\n",
      " [ 360  334  337  365]\n",
      " [1374 1506 1572 1256]\n",
      " [ 156  139  147  175]]\n",
      "X with transpose: [[ 375   57  245 1472  105   54  193  147 1102  720  253  685  488  198\n",
      "   360 1374  156]\n",
      " [ 135   47  267 1494   66   41  209   93  674 1033  143  586  355  187\n",
      "   334 1506  139]\n",
      " [ 458   53  242 1462  103   62  184  122  957  566  171  750  418  220\n",
      "   337 1572  147]\n",
      " [ 475   73  227 1582  103   64  235  160 1137  874  265  803  570  203\n",
      "   365 1256  175]]\n"
     ]
    }
   ],
   "source": [
    "feature_cols = ['England', 'N Ireland', 'Scotland', 'Wales']\n",
    "feature_df = df[feature_cols]\n",
    "\n",
    "X = feature_df.to_numpy()\n",
    "print(f'X without transpose: {X}')\n",
    "X = X.T\n",
    "print(f'X with transpose: {X}')"
   ]
  },
  {
   "cell_type": "code",
   "execution_count": 11,
   "metadata": {},
   "outputs": [],
   "source": [
    "pca = PCA(n_components=2)\n",
    "X_r = pca.fit_transform(X)"
   ]
  },
  {
   "cell_type": "markdown",
   "metadata": {},
   "source": [
    "\"X_r\" represents the new PCA matrix, where we have n rows where n is the number of features in the original data. "
   ]
  },
  {
   "cell_type": "code",
   "execution_count": 13,
   "metadata": {},
   "outputs": [
    {
     "data": {
      "text/plain": [
       "array([[-144.99315218,   -2.53299944],\n",
       "       [ 477.39163882,  -58.90186182],\n",
       "       [ -91.869339  ,  286.08178613],\n",
       "       [-240.52914764, -224.64692488]])"
      ]
     },
     "execution_count": 13,
     "metadata": {},
     "output_type": "execute_result"
    }
   ],
   "source": [
    "X_r"
   ]
  },
  {
   "cell_type": "code",
   "execution_count": 14,
   "metadata": {},
   "outputs": [
    {
     "data": {
      "image/png": "[encoded data removed]",
      "text/plain": [
       "<Figure size 432x288 with 1 Axes>"
      ]
     },
     "metadata": {
      "needs_background": "light"
     },
     "output_type": "display_data"
    }
   ],
   "source": [
    "for feature, (plot_x,plot_y) in enumerate(zip(X_r[:, 0], X_r[:, 1])):\n",
    "    plt.scatter(plot_x, plot_y)\n",
    "    plt.text(plot_x+0.5, plot_y+0.5, df.columns[:-1][feature])"
   ]
  },
  {
   "cell_type": "markdown",
   "metadata": {},
   "source": [
    "**What conclusions can we make from this plot?**  \n",
    "We can say that N. Ireland is more different from the others in it's food consumption"
   ]
  },
  {
   "cell_type": "markdown",
   "metadata": {},
   "source": [
    "### **Difference in distance among PCA1 axis is greater than distance among PCA2 axis**"
   ]
  },
  {
   "cell_type": "markdown",
   "metadata": {},
   "source": [
    "## PCA is an unsupervised learning algorithm"
   ]
  },
  {
   "cell_type": "markdown",
   "metadata": {},
   "source": [
    "## The steps that PCA does:\n",
    "1. Use the following matrix: X = np.array([[1, 1, 1], [1, 2, 1], [1, 3, 2], [1, 4, 3]])\n",
    "2. Subtract the column mean from the feature matrix -> this new matrix will be our centered matrix\n",
    "3. Calculate the covariance of the centered matrix.\n",
    "4. Calculate the eigenvalue and eigenvector of the covariance matrix. Remember how we did this in a previous activity!\n",
    "5. Sort the eigevalues so that they are in decresing order, and then find the top N (for example, 2) eigenvectors\n",
    "6. Dot multiply the centered matrix with the top N eigenvectors of the covariance matrix"
   ]
  },
  {
   "cell_type": "code",
   "execution_count": 19,
   "metadata": {},
   "outputs": [],
   "source": [
    "def get_pca(X, n_components=2):\n",
    "    \n",
    "    # Assert that we have enough features for the input components\n",
    "    assert X.shape[0] >= n_components\n",
    "    \n",
    "    # Get the column mean\n",
    "    col_mean = X.mean(axis=0)\n",
    "    \n",
    "    # Get the centered matrix\n",
    "    X_centered = X - col_mean\n",
    "    \n",
    "    # Get the covariance matrix of the centered array\n",
    "    # We want columns to be features and rows to be classes, so we take the Transpose\n",
    "    cov_matrix = np.cov(X_centered.T)\n",
    "    \n",
    "    # Want to obtain the eigen values and eigen vectors\n",
    "    eigen_values, eigen_vectors = np.linalg.eig(cov_matrix)\n",
    "    \n",
    "    # Sort the eigen values and get top 2 eigen vectors\n",
    "    eig_v_to_i = {}\n",
    "    for i, val in enumerate(eigen_values):\n",
    "        eig_v_to_i[val] = i\n",
    "        \n",
    "    eigen_values.sort()\n",
    "    top_eigen_values = eigen_values[::-1][:n_components]\n",
    "    \n",
    "    top_eigen_vectors = []\n",
    "    for val in top_eigen_values:\n",
    "        col_index = eig_v_to_i.get(val)\n",
    "        vector = eigen_vectors[:, col_index]\n",
    "        top_eigen_vectors.append(vector)\n",
    "    top_eigen_vectors = np.array(top_eigen_vectors)\n",
    "\n",
    "    pca_out = np.dot(X_centered, top_eigen_vectors[0:n_components].T)\n",
    "    return pca_out"
   ]
  },
  {
   "cell_type": "code",
   "execution_count": 22,
   "metadata": {},
   "outputs": [
    {
     "data": {
      "text/plain": [
       "array([[ 144.99315218+0.j,   -2.53299944+0.j],\n",
       "       [-477.39163882+0.j,  -58.90186182+0.j],\n",
       "       [  91.869339  +0.j,  286.08178613+0.j],\n",
       "       [ 240.52914764+0.j, -224.64692488+0.j]])"
      ]
     },
     "execution_count": 22,
     "metadata": {},
     "output_type": "execute_result"
    }
   ],
   "source": [
    "X = feature_df.to_numpy()\n",
    "get_pca(X.T)"
   ]
  },
  {
   "cell_type": "code",
   "execution_count": 23,
   "metadata": {},
   "outputs": [
    {
     "data": {
      "text/plain": [
       "array([[-144.99315218,   -2.53299944],\n",
       "       [ 477.39163882,  -58.90186182],\n",
       "       [ -91.869339  ,  286.08178613],\n",
       "       [-240.52914764, -224.64692488]])"
      ]
     },
     "execution_count": 23,
     "metadata": {},
     "output_type": "execute_result"
    }
   ],
   "source": [
    "X_r"
   ]
  },
  {
   "cell_type": "code",
   "execution_count": 29,
   "metadata": {},
   "outputs": [
    {
     "data": {
      "text/plain": [
       "array([[ 144.99315218+0.j,   -2.53299944+0.j],\n",
       "       [-477.39163882+0.j,  -58.90186182+0.j],\n",
       "       [  91.869339  +0.j,  286.08178613+0.j],\n",
       "       [ 240.52914764+0.j, -224.64692488+0.j]])"
      ]
     },
     "execution_count": 29,
     "metadata": {},
     "output_type": "execute_result"
    }
   ],
   "source": [
    "# Our function to compare \n",
    "def PCA_calculation(data, n_comp=2):\n",
    "    M = np.mean(data, axis=0)\n",
    "    # center columns by subtracting column means\n",
    "    C =  data - M\n",
    "    # calculate covariance matrix of centered matrix\n",
    "    V = np.cov(C.T)\n",
    "#     print(V)\n",
    "    # eigen decomposition of covariance matrix\n",
    "    eig_value, eig_vector = np.linalg.eig(V)\n",
    "    # sort eigenvalue in decreasing order\n",
    "    idx = np.argsort(eig_value)[::-1] \n",
    "    idx_n_comp = idx[:n_comp]\n",
    "    # eigenvectors according to top n_comp largest\n",
    "    eig_vector = eig_vector[:, idx_n_comp]\n",
    "    P = np.dot(C, eig_vector)\n",
    "    return P\n",
    "\n",
    "PCA_calculation(X.T)"
   ]
  },
  {
   "cell_type": "markdown",
   "metadata": {},
   "source": [
    "### Question for Office Hours:\n",
    "Why is this output different from sklearn? Should it be? We have complete opposite signs"
   ]
  },
  {
   "cell_type": "code",
   "execution_count": null,
   "metadata": {},
   "outputs": [],
   "source": []
  }
 ],
 "metadata": {
  "kernelspec": {
   "display_name": "Python 3",
   "language": "python",
   "name": "python3"
  },
  "language_info": {
   "codemirror_mode": {
    "name": "ipython",
    "version": 3
   },
   "file_extension": ".py",
   "mimetype": "text/x-python",
   "name": "python",
   "nbconvert_exporter": "python",
   "pygments_lexer": "ipython3",
   "version": "3.7.6"
  }
 },
 "nbformat": 4,
 "nbformat_minor": 2
}
