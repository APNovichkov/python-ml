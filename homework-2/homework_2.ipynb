{
 "cells": [
  {
   "cell_type": "code",
   "execution_count": 1,
   "metadata": {},
   "outputs": [],
   "source": [
    "from sklearn.datasets import load_breast_cancer\n",
    "import pandas as pd\n",
    "import numpy as np\n",
    "import matplotlib.pyplot as plt\n",
    "import seaborn as sns"
   ]
  },
  {
   "cell_type": "markdown",
   "metadata": {},
   "source": [
    "# Homework #2 - SVM classifier \n",
    "- Andrey Novichkov\n",
    "- DS 2.1\n",
    "- April 15, 2020"
   ]
  },
  {
   "cell_type": "code",
   "execution_count": 2,
   "metadata": {},
   "outputs": [
    {
     "data": {
      "text/plain": [
       "dict_keys(['data', 'target', 'target_names', 'DESCR', 'feature_names', 'filename'])"
      ]
     },
     "execution_count": 2,
     "metadata": {},
     "output_type": "execute_result"
    }
   ],
   "source": [
    "dataset = load_breast_cancer()\n",
    "\n",
    "dataset.keys()"
   ]
  },
  {
   "cell_type": "code",
   "execution_count": 3,
   "metadata": {},
   "outputs": [],
   "source": [
    "feature_df = pd.DataFrame(data=dataset['data'])\n",
    "target = data=dataset['target']"
   ]
  },
  {
   "cell_type": "markdown",
   "metadata": {},
   "source": [
    "### Build Clustered Correlation Map"
   ]
  },
  {
   "cell_type": "code",
   "execution_count": 4,
   "metadata": {},
   "outputs": [],
   "source": [
    "sns.set(rc={'figure.figsize':(30,20)})"
   ]
  },
  {
   "cell_type": "code",
   "execution_count": 5,
   "metadata": {},
   "outputs": [
    {
     "data": {
      "image/png": "[encoded data removed]",
      "text/plain": [
       "<Figure size 720x720 with 4 Axes>"
      ]
     },
     "metadata": {},
     "output_type": "display_data"
    }
   ],
   "source": [
    "_= sns.clustermap(feature_df.corr(), annot=False, xticklabels=feature_df.columns, yticklabels=feature_df.columns)"
   ]
  },
  {
   "cell_type": "markdown",
   "metadata": {},
   "source": [
    "### Let's do our initial analysis without removing any correlated features, and then refer back to this heatmap and try removing some features to see how that affects accuracy"
   ]
  },
  {
   "cell_type": "markdown",
   "metadata": {},
   "source": [
    "# 1. Scaling our data\n",
    "Going to use Standard Scaler from sklearn"
   ]
  },
  {
   "cell_type": "code",
   "execution_count": 6,
   "metadata": {},
   "outputs": [],
   "source": [
    "from sklearn import preprocessing\n",
    "\n",
    "ss = preprocessing.StandardScaler()\n",
    "\n",
    "X = ss.fit_transform(feature_df)\n",
    "y = target"
   ]
  },
  {
   "cell_type": "markdown",
   "metadata": {},
   "source": [
    "# 2. Split Data into Test and Train\n",
    "Going to use sklearn again"
   ]
  },
  {
   "cell_type": "code",
   "execution_count": 7,
   "metadata": {},
   "outputs": [],
   "source": [
    "from sklearn.model_selection import train_test_split\n",
    "\n",
    "X_train, X_test, y_train, y_test = train_test_split(X, y, test_size=.2, random_state=0)"
   ]
  },
  {
   "cell_type": "markdown",
   "metadata": {},
   "source": [
    "# 3. Create and train classification model with linear kernel\n",
    "Going to use sklearns Support Vector Machine(SVM) package"
   ]
  },
  {
   "cell_type": "code",
   "execution_count": 8,
   "metadata": {},
   "outputs": [],
   "source": [
    "from sklearn import svm\n",
    "\n",
    "svm_classifier = svm.SVC(kernel='linear', C=10)\n",
    "_= svm_classifier.fit(X_train, y_train)"
   ]
  },
  {
   "cell_type": "markdown",
   "metadata": {},
   "source": [
    "# 4. Make predictions using the model"
   ]
  },
  {
   "cell_type": "code",
   "execution_count": 9,
   "metadata": {},
   "outputs": [],
   "source": [
    "y_pred = svm_classifier.predict(X_test)"
   ]
  },
  {
   "cell_type": "markdown",
   "metadata": {},
   "source": [
    "# 5. Analize accuracy, recall and f1 score of the model\n",
    "Going to utilize sklearns package again"
   ]
  },
  {
   "cell_type": "code",
   "execution_count": 10,
   "metadata": {},
   "outputs": [
    {
     "name": "stdout",
     "output_type": "stream",
     "text": [
      "All accuracies:\t[0.95652174 0.95652174 0.96460177 0.96460177 0.99115044]\n",
      "Accuracy mean:\t0.9666794921123509\n"
     ]
    }
   ],
   "source": [
    "from sklearn.model_selection import cross_val_score \n",
    "\n",
    "accuracies = cross_val_score(estimator=svm_classifier, X=X, y=y, cv=5, scoring='accuracy')\n",
    "accuracy_mean = accuracies.mean()\n",
    "\n",
    "print(f'All accuracies:\\t{accuracies}')\n",
    "print(f'Accuracy mean:\\t{accuracy_mean}')"
   ]
  },
  {
   "cell_type": "code",
   "execution_count": 11,
   "metadata": {},
   "outputs": [
    {
     "name": "stdout",
     "output_type": "stream",
     "text": [
      "All f1_scores:\t [0.96503497 0.96503497 0.97260274 0.97183099 0.9929078 ]\n",
      "F1_score mean:\t 0.973482291425978\n"
     ]
    }
   ],
   "source": [
    "f1_scores = cross_val_score(estimator=svm_classifier, X=X, y=y, cv=5, scoring='f1')\n",
    "f1_score_mean = f1_scores.mean()\n",
    "\n",
    "print(f'All f1_scores:\\t {f1_scores}')\n",
    "print(f'F1_score mean:\\t {f1_score_mean}')"
   ]
  },
  {
   "cell_type": "markdown",
   "metadata": {},
   "source": [
    "That's a pretty good accuracy and f1_score!"
   ]
  },
  {
   "cell_type": "markdown",
   "metadata": {},
   "source": [
    "# 6. Let's do the same analysis but with our own scripts on the predicted data"
   ]
  },
  {
   "cell_type": "code",
   "execution_count": 12,
   "metadata": {},
   "outputs": [],
   "source": [
    "def generate_confusion_matrix(actual_list, predicted_list):\n",
    "    out = [[0., 0.],[0., 0.]]\n",
    "    # Predicted     0   1\n",
    "    # Actual:    0 TN  FP\n",
    "    # Actual:    1 FN  TP \n",
    "\n",
    "    assert(len(actual_list) == len(predicted_list))\n",
    "    \n",
    "    for actual,predicted in zip(actual_list, predicted_list):\n",
    "        # True Negatives/positives\n",
    "        if actual == predicted: # True {something}\n",
    "            if actual == 0: # True Negatices\n",
    "                out[0][0] += 1\n",
    "            else: # True Positives\n",
    "                out[1][1] += 1\n",
    "        else: # False {something}\n",
    "            if predicted == 1: # False Positives\n",
    "                out[0][1] += 1\n",
    "            else: # False negatives\n",
    "                out[1][0] += 1\n",
    "    \n",
    "    return pd.DataFrame(data=out, columns=[0, 1], index=[0, 1])\n",
    "\n",
    "def get_accuracy(confusion_matrix):\n",
    "    # TP + TN\n",
    "    total = confusion_matrix.sum().sum()\n",
    "    tp_plus_tn = confusion_matrix[1][1] + confusion_matrix[0][0]\n",
    "    return tp_plus_tn/total\n",
    "\n",
    "def get_error(confusion_matrix):\n",
    "    # FP + FN\n",
    "    total = confusion_matrix.sum().sum()\n",
    "    fp_plus_fn = confusion_matrix[0][1] + confusion_matrix[1][0]\n",
    "    return fp_plus_fn/total\n",
    "\n",
    "def get_recall(confusion_matrix):\n",
    "    # TP / (TP + FN)\n",
    "    tp_plus_tn = confusion_matrix[1][1] + confusion_matrix[0][1]\n",
    "    tp = confusion_matrix[1][1]\n",
    "    return tp/tp_plus_tn\n",
    "\n",
    "def get_specificity(confusion_matrix):\n",
    "    # TN / (TN + FN)\n",
    "    tn_plus_fn = confusion_matrix[0][0] + confusion_matrix[0][1]\n",
    "    tn = confusion_matrix[0][0]\n",
    "    return tn/tn_plus_fn\n",
    "\n",
    "def get_precision(confusion_matrix):\n",
    "    # TP / (TP + FP)\n",
    "    tp_plus_fp = confusion_matrix[1][1] + confusion_matrix[1][0]\n",
    "    tp = confusion_matrix[1][1]\n",
    "    return tp/tp_plus_fp\n",
    "\n",
    "def get_f1_score(confusion_matrix):\n",
    "    numerator = 2*get_precision(confusion_matrix) * get_recall(confusion_matrix)\n",
    "    denominator = get_precision(confusion_matrix) + get_recall(confusion_matrix)\n",
    "    return numerator/denominator"
   ]
  },
  {
   "cell_type": "code",
   "execution_count": 13,
   "metadata": {},
   "outputs": [
    {
     "name": "stdout",
     "output_type": "stream",
     "text": [
      "Accuracy: 0.956140350877193\n",
      "Error: 0.043859649122807015\n",
      "Recall: 0.9552238805970149\n",
      "Speceficity: 0.9375\n",
      "Precision: 0.9696969696969697\n",
      "F1_score: 0.9624060150375939\n"
     ]
    }
   ],
   "source": [
    "c_matrix = generate_confusion_matrix(y_test, y_pred)\n",
    "print(f'Accuracy: {get_accuracy(c_matrix)}')\n",
    "print(f'Error: {get_error(c_matrix)}')\n",
    "print(f'Recall: {get_recall(c_matrix)}')\n",
    "print(f'Speceficity: {get_specificity(c_matrix)}')\n",
    "print(f'Precision: {get_precision(c_matrix)}')\n",
    "print(f'F1_score: {get_f1_score(c_matrix)}')"
   ]
  },
  {
   "cell_type": "markdown",
   "metadata": {},
   "source": [
    "Got a very similar result! "
   ]
  },
  {
   "cell_type": "markdown",
   "metadata": {},
   "source": [
    "# 7. Let's play around with SVM parameters to try to improve the model\n",
    "Can mess with the C value and the kernels\n",
    "- We can use GridSearch to find the optimal values"
   ]
  },
  {
   "cell_type": "code",
   "execution_count": 14,
   "metadata": {},
   "outputs": [
    {
     "data": {
      "text/plain": [
       "{'C': 0.1, 'gamma': 0.001}"
      ]
     },
     "execution_count": 14,
     "metadata": {},
     "output_type": "execute_result"
    }
   ],
   "source": [
    "from sklearn.model_selection import GridSearchCV\n",
    "\n",
    "def svc_param_selection(X, y, nfolds):\n",
    "    Cs = [0.001, 0.01, 0.1, 1, 10]\n",
    "    gammas = [0.001, 0.01, 0.1, 1]\n",
    "    param_grid = {'C': Cs, 'gamma' : gammas}\n",
    "    grid_search = GridSearchCV(svm.SVC(kernel='linear'), param_grid, cv=nfolds)\n",
    "    grid_search.fit(X, y)\n",
    "    return grid_search.best_params_\n",
    "\n",
    "svc_param_selection(X, y, 5)"
   ]
  },
  {
   "cell_type": "markdown",
   "metadata": {},
   "source": [
    "Let's try those parameters"
   ]
  },
  {
   "cell_type": "code",
   "execution_count": 81,
   "metadata": {},
   "outputs": [
    {
     "name": "stdout",
     "output_type": "stream",
     "text": [
      "All accuracies:\t[0.97391304 0.97391304 0.98230088 0.96460177 0.98230088]\n",
      "Accuracy mean:\t0.975405925355906\n",
      "All f1_scores:\t [0.97931034 0.97959184 0.98611111 0.97222222 0.98591549]\n",
      "F1_score mean:\t 0.980630201570672\n"
     ]
    }
   ],
   "source": [
    "svm_classifier = svm.SVC(kernel='linear', C=.1)\n",
    "_= svm_classifier.fit(X_train, y_train)\n",
    "\n",
    "y_pred = svm_classifier.predict(X_test)\n",
    "\n",
    "accuracies = cross_val_score(estimator=svm_classifier, X=X, y=y, cv=5, scoring='accuracy')\n",
    "accuracy_mean = accuracies.mean()\n",
    "\n",
    "print(f'All accuracies:\\t{accuracies}')\n",
    "print(f'Accuracy mean:\\t{accuracy_mean}')\n",
    "\n",
    "f1_scores = cross_val_score(estimator=svm_classifier, X=X, y=y, cv=5, scoring='f1')\n",
    "f1_score_mean = f1_scores.mean()\n",
    "\n",
    "print(f'All f1_scores:\\t {f1_scores}')\n",
    "print(f'F1_score mean:\\t {f1_score_mean}')"
   ]
  },
  {
   "cell_type": "markdown",
   "metadata": {},
   "source": [
    "### So we managed to improve the f1 score to .98 from .97! Nice :)"
   ]
  }
 ],
 "metadata": {
  "kernelspec": {
   "display_name": "Python 3",
   "language": "python",
   "name": "python3"
  },
  "language_info": {
   "codemirror_mode": {
    "name": "ipython",
    "version": 3
   },
   "file_extension": ".py",
   "mimetype": "text/x-python",
   "name": "python",
   "nbconvert_exporter": "python",
   "pygments_lexer": "ipython3",
   "version": "3.7.6"
  }
 },
 "nbformat": 4,
 "nbformat_minor": 2
}
