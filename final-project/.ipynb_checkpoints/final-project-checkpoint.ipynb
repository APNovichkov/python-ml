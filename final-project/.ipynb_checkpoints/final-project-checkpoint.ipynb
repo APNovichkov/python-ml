{
 "cells": [
  {
   "cell_type": "code",
   "execution_count": 40,
   "metadata": {},
   "outputs": [],
   "source": [
    "import pandas as pd\n",
    "import numpy as np\n",
    "import matplotlib.pyplot as plt\n",
    "import seaborn as sns\n",
    "import altair as alt\n",
    "from vega_datasets import data"
   ]
  },
  {
   "cell_type": "code",
   "execution_count": 2,
   "metadata": {},
   "outputs": [],
   "source": [
    "df = pd.read_csv('student-mat.csv')"
   ]
  },
  {
   "cell_type": "code",
   "execution_count": 3,
   "metadata": {},
   "outputs": [
    {
     "data": {
      "text/html": [
       "<div>\n",
       "<style scoped>\n",
       "    .dataframe tbody tr th:only-of-type {\n",
       "        vertical-align: middle;\n",
       "    }\n",
       "\n",
       "    .dataframe tbody tr th {\n",
       "        vertical-align: top;\n",
       "    }\n",
       "\n",
       "    .dataframe thead th {\n",
       "        text-align: right;\n",
       "    }\n",
       "</style>\n",
       "<table border=\"1\" class=\"dataframe\">\n",
       "  <thead>\n",
       "    <tr style=\"text-align: right;\">\n",
       "      <th></th>\n",
       "      <th>school</th>\n",
       "      <th>sex</th>\n",
       "      <th>age</th>\n",
       "      <th>address</th>\n",
       "      <th>famsize</th>\n",
       "      <th>Pstatus</th>\n",
       "      <th>Medu</th>\n",
       "      <th>Fedu</th>\n",
       "      <th>Mjob</th>\n",
       "      <th>Fjob</th>\n",
       "      <th>...</th>\n",
       "      <th>famrel</th>\n",
       "      <th>freetime</th>\n",
       "      <th>goout</th>\n",
       "      <th>Dalc</th>\n",
       "      <th>Walc</th>\n",
       "      <th>health</th>\n",
       "      <th>absences</th>\n",
       "      <th>G1</th>\n",
       "      <th>G2</th>\n",
       "      <th>G3</th>\n",
       "    </tr>\n",
       "  </thead>\n",
       "  <tbody>\n",
       "    <tr>\n",
       "      <th>0</th>\n",
       "      <td>GP</td>\n",
       "      <td>F</td>\n",
       "      <td>18</td>\n",
       "      <td>U</td>\n",
       "      <td>GT3</td>\n",
       "      <td>A</td>\n",
       "      <td>4</td>\n",
       "      <td>4</td>\n",
       "      <td>at_home</td>\n",
       "      <td>teacher</td>\n",
       "      <td>...</td>\n",
       "      <td>4</td>\n",
       "      <td>3</td>\n",
       "      <td>4</td>\n",
       "      <td>1</td>\n",
       "      <td>1</td>\n",
       "      <td>3</td>\n",
       "      <td>6</td>\n",
       "      <td>5</td>\n",
       "      <td>6</td>\n",
       "      <td>6</td>\n",
       "    </tr>\n",
       "    <tr>\n",
       "      <th>1</th>\n",
       "      <td>GP</td>\n",
       "      <td>F</td>\n",
       "      <td>17</td>\n",
       "      <td>U</td>\n",
       "      <td>GT3</td>\n",
       "      <td>T</td>\n",
       "      <td>1</td>\n",
       "      <td>1</td>\n",
       "      <td>at_home</td>\n",
       "      <td>other</td>\n",
       "      <td>...</td>\n",
       "      <td>5</td>\n",
       "      <td>3</td>\n",
       "      <td>3</td>\n",
       "      <td>1</td>\n",
       "      <td>1</td>\n",
       "      <td>3</td>\n",
       "      <td>4</td>\n",
       "      <td>5</td>\n",
       "      <td>5</td>\n",
       "      <td>6</td>\n",
       "    </tr>\n",
       "    <tr>\n",
       "      <th>2</th>\n",
       "      <td>GP</td>\n",
       "      <td>F</td>\n",
       "      <td>15</td>\n",
       "      <td>U</td>\n",
       "      <td>LE3</td>\n",
       "      <td>T</td>\n",
       "      <td>1</td>\n",
       "      <td>1</td>\n",
       "      <td>at_home</td>\n",
       "      <td>other</td>\n",
       "      <td>...</td>\n",
       "      <td>4</td>\n",
       "      <td>3</td>\n",
       "      <td>2</td>\n",
       "      <td>2</td>\n",
       "      <td>3</td>\n",
       "      <td>3</td>\n",
       "      <td>10</td>\n",
       "      <td>7</td>\n",
       "      <td>8</td>\n",
       "      <td>10</td>\n",
       "    </tr>\n",
       "    <tr>\n",
       "      <th>3</th>\n",
       "      <td>GP</td>\n",
       "      <td>F</td>\n",
       "      <td>15</td>\n",
       "      <td>U</td>\n",
       "      <td>GT3</td>\n",
       "      <td>T</td>\n",
       "      <td>4</td>\n",
       "      <td>2</td>\n",
       "      <td>health</td>\n",
       "      <td>services</td>\n",
       "      <td>...</td>\n",
       "      <td>3</td>\n",
       "      <td>2</td>\n",
       "      <td>2</td>\n",
       "      <td>1</td>\n",
       "      <td>1</td>\n",
       "      <td>5</td>\n",
       "      <td>2</td>\n",
       "      <td>15</td>\n",
       "      <td>14</td>\n",
       "      <td>15</td>\n",
       "    </tr>\n",
       "    <tr>\n",
       "      <th>4</th>\n",
       "      <td>GP</td>\n",
       "      <td>F</td>\n",
       "      <td>16</td>\n",
       "      <td>U</td>\n",
       "      <td>GT3</td>\n",
       "      <td>T</td>\n",
       "      <td>3</td>\n",
       "      <td>3</td>\n",
       "      <td>other</td>\n",
       "      <td>other</td>\n",
       "      <td>...</td>\n",
       "      <td>4</td>\n",
       "      <td>3</td>\n",
       "      <td>2</td>\n",
       "      <td>1</td>\n",
       "      <td>2</td>\n",
       "      <td>5</td>\n",
       "      <td>4</td>\n",
       "      <td>6</td>\n",
       "      <td>10</td>\n",
       "      <td>10</td>\n",
       "    </tr>\n",
       "  </tbody>\n",
       "</table>\n",
       "<p>5 rows × 33 columns</p>\n",
       "</div>"
      ],
      "text/plain": [
       "  school sex  age address famsize Pstatus  Medu  Fedu     Mjob      Fjob  ...  \\\n",
       "0     GP   F   18       U     GT3       A     4     4  at_home   teacher  ...   \n",
       "1     GP   F   17       U     GT3       T     1     1  at_home     other  ...   \n",
       "2     GP   F   15       U     LE3       T     1     1  at_home     other  ...   \n",
       "3     GP   F   15       U     GT3       T     4     2   health  services  ...   \n",
       "4     GP   F   16       U     GT3       T     3     3    other     other  ...   \n",
       "\n",
       "  famrel freetime  goout  Dalc  Walc health absences  G1  G2  G3  \n",
       "0      4        3      4     1     1      3        6   5   6   6  \n",
       "1      5        3      3     1     1      3        4   5   5   6  \n",
       "2      4        3      2     2     3      3       10   7   8  10  \n",
       "3      3        2      2     1     1      5        2  15  14  15  \n",
       "4      4        3      2     1     2      5        4   6  10  10  \n",
       "\n",
       "[5 rows x 33 columns]"
      ]
     },
     "execution_count": 3,
     "metadata": {},
     "output_type": "execute_result"
    }
   ],
   "source": [
    "df.head()"
   ]
  },
  {
   "cell_type": "markdown",
   "metadata": {},
   "source": [
    "# Final project for DS 2.1 - Machine Learning - Andrey Novichkov\n",
    "## Dataset - Student Alcahol Consumption (Kaggle)\n",
    "\n",
    "**Questions I want to Answer:**\n",
    "- What are the trends amongs male vs female students\n",
    "- What are the overall correlations between the different features?\n",
    "- What is the one feature that is the best predictor for the final grade(random forest)\n",
    "- Build linear regression model that predicts grades\n",
    "- Build classification model that predicts pass/fail of a student\n",
    "- PCA to improve models\n",
    "- K-means clustering to see if we have clusters of pass/fail students\n",
    "- Build Decision Tree for model"
   ]
  },
  {
   "cell_type": "code",
   "execution_count": 4,
   "metadata": {},
   "outputs": [
    {
     "data": {
      "text/plain": [
       "(395, 33)"
      ]
     },
     "execution_count": 4,
     "metadata": {},
     "output_type": "execute_result"
    }
   ],
   "source": [
    "df.shape"
   ]
  },
  {
   "cell_type": "code",
   "execution_count": 5,
   "metadata": {},
   "outputs": [
    {
     "data": {
      "text/plain": [
       "Index(['school', 'sex', 'age', 'address', 'famsize', 'Pstatus', 'Medu', 'Fedu',\n",
       "       'Mjob', 'Fjob', 'reason', 'guardian', 'traveltime', 'studytime',\n",
       "       'failures', 'schoolsup', 'famsup', 'paid', 'activities', 'nursery',\n",
       "       'higher', 'internet', 'romantic', 'famrel', 'freetime', 'goout', 'Dalc',\n",
       "       'Walc', 'health', 'absences', 'G1', 'G2', 'G3'],\n",
       "      dtype='object')"
      ]
     },
     "execution_count": 5,
     "metadata": {},
     "output_type": "execute_result"
    }
   ],
   "source": [
    "df.columns"
   ]
  },
  {
   "cell_type": "code",
   "execution_count": 107,
   "metadata": {},
   "outputs": [],
   "source": [
    "feature_cols_small = ['sex', 'age', 'studytime', 'failures', 'goout', 'Dalc', 'Walc', 'absences', 'G3']\n",
    "feature_cols_big = ['sex', 'age', 'studytime', 'failures', 'goout', 'Dalc', 'Walc', 'absences', 'romantic', 'famrel', 'health', 'G1', 'G2', 'G3']"
   ]
  },
  {
   "cell_type": "markdown",
   "metadata": {},
   "source": [
    "## Let's get some general stats on male vs female datapoints\n",
    "This is just to get a sense of the data"
   ]
  },
  {
   "cell_type": "code",
   "execution_count": 58,
   "metadata": {},
   "outputs": [],
   "source": [
    "sml_feature_df = df[feature_cols_small]\n",
    "males = sml_feature_df[sml_feature_df['sex'] == 'M']\n",
    "females = sml_feature_df[sml_feature_df['sex'] == 'F']"
   ]
  },
  {
   "cell_type": "code",
   "execution_count": 59,
   "metadata": {},
   "outputs": [],
   "source": [
    "male_means = males.mean()\n",
    "data = {\n",
    "    'feature': male_means.index,\n",
    "    'average': male_means.values\n",
    "}\n",
    "male_df = pd.DataFrame(data)\n",
    "male_df['sex'] = 'male'\n",
    "\n",
    "female_means = females.mean()\n",
    "data = {\n",
    "    'feature': female_means.index,\n",
    "    'average': female_means.values\n",
    "}\n",
    "female_df = pd.DataFrame(data)\n",
    "female_df['sex'] = 'female'\n",
    "\n",
    "avg_feature_df = pd.concat([female_df, male_df])"
   ]
  },
  {
   "cell_type": "code",
   "execution_count": 60,
   "metadata": {},
   "outputs": [
    {
     "data": {
      "text/html": [
       "\n",
       "<div id=\"altair-viz-e9aac79f01044b929f56a773ee665d04\"></div>\n",
       "<script type=\"text/javascript\">\n",
       "  (function(spec, embedOpt){\n",
       "    let outputDiv = document.currentScript.previousElementSibling;\n",
       "    if (outputDiv.id !== \"altair-viz-e9aac79f01044b929f56a773ee665d04\") {\n",
       "      outputDiv = document.getElementById(\"altair-viz-e9aac79f01044b929f56a773ee665d04\");\n",
       "    }\n",
       "    const paths = {\n",
       "      \"vega\": \"https://cdn.jsdelivr.net/npm//vega@5?noext\",\n",
       "      \"vega-lib\": \"https://cdn.jsdelivr.net/npm//vega-lib?noext\",\n",
       "      \"vega-lite\": \"https://cdn.jsdelivr.net/npm//vega-lite@4.8.1?noext\",\n",
       "      \"vega-embed\": \"https://cdn.jsdelivr.net/npm//vega-embed@6?noext\",\n",
       "    };\n",
       "\n",
       "    function loadScript(lib) {\n",
       "      return new Promise(function(resolve, reject) {\n",
       "        var s = document.createElement('script');\n",
       "        s.src = paths[lib];\n",
       "        s.async = true;\n",
       "        s.onload = () => resolve(paths[lib]);\n",
       "        s.onerror = () => reject(`Error loading script: ${paths[lib]}`);\n",
       "        document.getElementsByTagName(\"head\")[0].appendChild(s);\n",
       "      });\n",
       "    }\n",
       "\n",
       "    function showError(err) {\n",
       "      outputDiv.innerHTML = `<div class=\"error\" style=\"color:red;\">${err}</div>`;\n",
       "      throw err;\n",
       "    }\n",
       "\n",
       "    function displayChart(vegaEmbed) {\n",
       "      vegaEmbed(outputDiv, spec, embedOpt)\n",
       "        .catch(err => showError(`Javascript Error: ${err.message}<br>This usually means there's a typo in your chart specification. See the javascript console for the full traceback.`));\n",
       "    }\n",
       "\n",
       "    if(typeof define === \"function\" && define.amd) {\n",
       "      requirejs.config({paths});\n",
       "      require([\"vega-embed\"], displayChart, err => showError(`Error loading script: ${err.message}`));\n",
       "    } else if (typeof vegaEmbed === \"function\") {\n",
       "      displayChart(vegaEmbed);\n",
       "    } else {\n",
       "      loadScript(\"vega\")\n",
       "        .then(() => loadScript(\"vega-lite\"))\n",
       "        .then(() => loadScript(\"vega-embed\"))\n",
       "        .catch(showError)\n",
       "        .then(() => displayChart(vegaEmbed));\n",
       "    }\n",
       "  })({\"config\": {\"view\": {\"continuousWidth\": 400, \"continuousHeight\": 300}}, \"data\": {\"name\": \"data-38ba6546d50bc731f78751ba46c98dd9\"}, \"mark\": \"bar\", \"encoding\": {\"color\": {\"type\": \"ordinal\", \"field\": \"sex\"}, \"column\": {\"type\": \"ordinal\", \"field\": \"feature\"}, \"x\": {\"type\": \"ordinal\", \"field\": \"sex\"}, \"y\": {\"type\": \"quantitative\", \"field\": \"average\"}}, \"$schema\": \"https://vega.github.io/schema/vega-lite/v4.8.1.json\", \"datasets\": {\"data-38ba6546d50bc731f78751ba46c98dd9\": [{\"feature\": \"age\", \"average\": 16.73076923076923, \"sex\": \"female\"}, {\"feature\": \"studytime\", \"average\": 2.2788461538461537, \"sex\": \"female\"}, {\"feature\": \"failures\", \"average\": 0.30288461538461536, \"sex\": \"female\"}, {\"feature\": \"goout\", \"average\": 3.0288461538461537, \"sex\": \"female\"}, {\"feature\": \"Dalc\", \"average\": 1.2548076923076923, \"sex\": \"female\"}, {\"feature\": \"Walc\", \"average\": 1.9567307692307692, \"sex\": \"female\"}, {\"feature\": \"absences\", \"average\": 6.216346153846154, \"sex\": \"female\"}, {\"feature\": \"G3\", \"average\": 9.966346153846153, \"sex\": \"female\"}, {\"feature\": \"age\", \"average\": 16.657754010695186, \"sex\": \"male\"}, {\"feature\": \"studytime\", \"average\": 1.7647058823529411, \"sex\": \"male\"}, {\"feature\": \"failures\", \"average\": 0.3689839572192513, \"sex\": \"male\"}, {\"feature\": \"goout\", \"average\": 3.197860962566845, \"sex\": \"male\"}, {\"feature\": \"Dalc\", \"average\": 1.732620320855615, \"sex\": \"male\"}, {\"feature\": \"Walc\", \"average\": 2.663101604278075, \"sex\": \"male\"}, {\"feature\": \"absences\", \"average\": 5.144385026737968, \"sex\": \"male\"}, {\"feature\": \"G3\", \"average\": 10.914438502673796, \"sex\": \"male\"}]}}, {\"mode\": \"vega-lite\"});\n",
       "</script>"
      ],
      "text/plain": [
       "alt.Chart(...)"
      ]
     },
     "execution_count": 60,
     "metadata": {},
     "output_type": "execute_result"
    }
   ],
   "source": [
    "alt.Chart(avg_feature_df).mark_bar().encode(\n",
    "    x='sex:O',\n",
    "    y='average:Q',\n",
    "    color='sex:O',\n",
    "    column='feature:O'\n",
    ")"
   ]
  },
  {
   "cell_type": "markdown",
   "metadata": {},
   "source": [
    "## Do we have correlation among features?\n",
    "To see if we want to do PCA in the future"
   ]
  },
  {
   "cell_type": "code",
   "execution_count": 63,
   "metadata": {},
   "outputs": [
    {
     "data": {
      "image/png": "[encoded data removed]",
      "text/plain": [
       "<Figure size 720x720 with 4 Axes>"
      ]
     },
     "metadata": {
      "needs_background": "light"
     },
     "output_type": "display_data"
    }
   ],
   "source": [
    "_= sns.clustermap(data=sml_feature_df.corr(), annot=True)"
   ]
  },
  {
   "cell_type": "markdown",
   "metadata": {},
   "source": [
    "**As we can see, no big correlation here which is good!**"
   ]
  },
  {
   "cell_type": "markdown",
   "metadata": {},
   "source": [
    "## Let's see if we can build a good Linear Regression model on the small feature dataset"
   ]
  },
  {
   "cell_type": "code",
   "execution_count": 68,
   "metadata": {},
   "outputs": [
    {
     "data": {
      "text/html": [
       "<div>\n",
       "<style scoped>\n",
       "    .dataframe tbody tr th:only-of-type {\n",
       "        vertical-align: middle;\n",
       "    }\n",
       "\n",
       "    .dataframe tbody tr th {\n",
       "        vertical-align: top;\n",
       "    }\n",
       "\n",
       "    .dataframe thead th {\n",
       "        text-align: right;\n",
       "    }\n",
       "</style>\n",
       "<table border=\"1\" class=\"dataframe\">\n",
       "  <thead>\n",
       "    <tr style=\"text-align: right;\">\n",
       "      <th></th>\n",
       "      <th>sex</th>\n",
       "      <th>age</th>\n",
       "      <th>studytime</th>\n",
       "      <th>failures</th>\n",
       "      <th>goout</th>\n",
       "      <th>Dalc</th>\n",
       "      <th>Walc</th>\n",
       "      <th>absences</th>\n",
       "      <th>G3</th>\n",
       "    </tr>\n",
       "  </thead>\n",
       "  <tbody>\n",
       "    <tr>\n",
       "      <th>0</th>\n",
       "      <td>F</td>\n",
       "      <td>18</td>\n",
       "      <td>2</td>\n",
       "      <td>0</td>\n",
       "      <td>4</td>\n",
       "      <td>1</td>\n",
       "      <td>1</td>\n",
       "      <td>6</td>\n",
       "      <td>6</td>\n",
       "    </tr>\n",
       "  </tbody>\n",
       "</table>\n",
       "</div>"
      ],
      "text/plain": [
       "  sex  age  studytime  failures  goout  Dalc  Walc  absences  G3\n",
       "0   F   18          2         0      4     1     1         6   6"
      ]
     },
     "execution_count": 68,
     "metadata": {},
     "output_type": "execute_result"
    }
   ],
   "source": [
    "sml_feature_df[:1]"
   ]
  },
  {
   "cell_type": "code",
   "execution_count": 79,
   "metadata": {},
   "outputs": [],
   "source": [
    "feature_cols = ['age', 'studytime', 'failures', 'goout', 'Dalc', 'Walc', 'absences']\n",
    "X = sml_feature_df[feature_cols]\n",
    "y = sml_feature_df['G3']"
   ]
  },
  {
   "cell_type": "markdown",
   "metadata": {},
   "source": [
    "I don't think there is a point in normalizing the data, it is all very similar in value"
   ]
  },
  {
   "cell_type": "code",
   "execution_count": 82,
   "metadata": {},
   "outputs": [
    {
     "name": "stdout",
     "output_type": "stream",
     "text": [
      "MSE error: 24.597125856592157\n",
      "r^2 score: 0.13109328407319654\n"
     ]
    }
   ],
   "source": [
    "from sklearn.linear_model import LinearRegression\n",
    "from sklearn.metrics import mean_squared_error, r2_score\n",
    "from sklearn.model_selection import train_test_split\n",
    "\n",
    "X_train, X_test, y_train, y_test = train_test_split(X,y, test_size=.25, random_state=0)\n",
    "\n",
    "lin_reg = LinearRegression()\n",
    "lin_reg.fit(X_train, y_train)\n",
    "y_pred = lin_reg.predict(X_test)\n",
    "print(f'MSE error: {mean_squared_error(y_test, y_pred)}')\n",
    "print(f'r^2 score: {r2_score(y_test, y_pred)}')"
   ]
  },
  {
   "cell_type": "markdown",
   "metadata": {},
   "source": [
    "**That is a pretty bad model! LOL**  \n",
    "Let's see if normalizing the data will actually help! "
   ]
  },
  {
   "cell_type": "code",
   "execution_count": 87,
   "metadata": {},
   "outputs": [
    {
     "name": "stdout",
     "output_type": "stream",
     "text": [
      "MSE error: 23.431019388434272\n",
      "r^2 score: 0.17228662298504827\n"
     ]
    }
   ],
   "source": [
    "from sklearn.preprocessing import normalize\n",
    "\n",
    "X_norm = normalize(X)\n",
    "\n",
    "X_train, X_test, y_train, y_test = train_test_split(X_norm,y, test_size=.25, random_state=0)\n",
    "\n",
    "lin_reg = LinearRegression()\n",
    "lin_reg.fit(X_train, y_train)\n",
    "y_pred = lin_reg.predict(X_test)\n",
    "print(f'MSE error: {mean_squared_error(y_test, y_pred)}')\n",
    "print(f'r^2 score: {r2_score(y_test, y_pred)}')"
   ]
  },
  {
   "cell_type": "markdown",
   "metadata": {},
   "source": [
    "**Ok well, it improved a little bit, but not by that much!**  \n",
    "Let's see if giving it more features will help!\n",
    "Let's also encode the non-numerical features!"
   ]
  },
  {
   "cell_type": "code",
   "execution_count": 108,
   "metadata": {},
   "outputs": [
    {
     "data": {
      "text/html": [
       "<div>\n",
       "<style scoped>\n",
       "    .dataframe tbody tr th:only-of-type {\n",
       "        vertical-align: middle;\n",
       "    }\n",
       "\n",
       "    .dataframe tbody tr th {\n",
       "        vertical-align: top;\n",
       "    }\n",
       "\n",
       "    .dataframe thead th {\n",
       "        text-align: right;\n",
       "    }\n",
       "</style>\n",
       "<table border=\"1\" class=\"dataframe\">\n",
       "  <thead>\n",
       "    <tr style=\"text-align: right;\">\n",
       "      <th></th>\n",
       "      <th>sex</th>\n",
       "      <th>age</th>\n",
       "      <th>studytime</th>\n",
       "      <th>failures</th>\n",
       "      <th>goout</th>\n",
       "      <th>Dalc</th>\n",
       "      <th>Walc</th>\n",
       "      <th>absences</th>\n",
       "      <th>romantic</th>\n",
       "      <th>famrel</th>\n",
       "      <th>health</th>\n",
       "      <th>G1</th>\n",
       "      <th>G2</th>\n",
       "      <th>G3</th>\n",
       "    </tr>\n",
       "  </thead>\n",
       "  <tbody>\n",
       "    <tr>\n",
       "      <th>0</th>\n",
       "      <td>F</td>\n",
       "      <td>18</td>\n",
       "      <td>2</td>\n",
       "      <td>0</td>\n",
       "      <td>4</td>\n",
       "      <td>1</td>\n",
       "      <td>1</td>\n",
       "      <td>6</td>\n",
       "      <td>no</td>\n",
       "      <td>4</td>\n",
       "      <td>3</td>\n",
       "      <td>5</td>\n",
       "      <td>6</td>\n",
       "      <td>6</td>\n",
       "    </tr>\n",
       "  </tbody>\n",
       "</table>\n",
       "</div>"
      ],
      "text/plain": [
       "  sex  age  studytime  failures  goout  Dalc  Walc  absences romantic  famrel  \\\n",
       "0   F   18          2         0      4     1     1         6       no       4   \n",
       "\n",
       "   health  G1  G2  G3  \n",
       "0       3   5   6   6  "
      ]
     },
     "execution_count": 108,
     "metadata": {},
     "output_type": "execute_result"
    }
   ],
   "source": [
    "big_feature_df = df[feature_cols_big]\n",
    "big_feature_df[:1]"
   ]
  },
  {
   "cell_type": "code",
   "execution_count": 109,
   "metadata": {},
   "outputs": [
    {
     "data": {
      "text/html": [
       "<div>\n",
       "<style scoped>\n",
       "    .dataframe tbody tr th:only-of-type {\n",
       "        vertical-align: middle;\n",
       "    }\n",
       "\n",
       "    .dataframe tbody tr th {\n",
       "        vertical-align: top;\n",
       "    }\n",
       "\n",
       "    .dataframe thead th {\n",
       "        text-align: right;\n",
       "    }\n",
       "</style>\n",
       "<table border=\"1\" class=\"dataframe\">\n",
       "  <thead>\n",
       "    <tr style=\"text-align: right;\">\n",
       "      <th></th>\n",
       "      <th>age</th>\n",
       "      <th>studytime</th>\n",
       "      <th>failures</th>\n",
       "      <th>goout</th>\n",
       "      <th>Dalc</th>\n",
       "      <th>Walc</th>\n",
       "      <th>absences</th>\n",
       "      <th>famrel</th>\n",
       "      <th>health</th>\n",
       "      <th>G1</th>\n",
       "      <th>G2</th>\n",
       "      <th>G3</th>\n",
       "      <th>sex_F</th>\n",
       "      <th>sex_M</th>\n",
       "      <th>romantic_no</th>\n",
       "      <th>romantic_yes</th>\n",
       "    </tr>\n",
       "  </thead>\n",
       "  <tbody>\n",
       "    <tr>\n",
       "      <th>0</th>\n",
       "      <td>18</td>\n",
       "      <td>2</td>\n",
       "      <td>0</td>\n",
       "      <td>4</td>\n",
       "      <td>1</td>\n",
       "      <td>1</td>\n",
       "      <td>6</td>\n",
       "      <td>4</td>\n",
       "      <td>3</td>\n",
       "      <td>5</td>\n",
       "      <td>6</td>\n",
       "      <td>6</td>\n",
       "      <td>1</td>\n",
       "      <td>0</td>\n",
       "      <td>1</td>\n",
       "      <td>0</td>\n",
       "    </tr>\n",
       "  </tbody>\n",
       "</table>\n",
       "</div>"
      ],
      "text/plain": [
       "   age  studytime  failures  goout  Dalc  Walc  absences  famrel  health  G1  \\\n",
       "0   18          2         0      4     1     1         6       4       3   5   \n",
       "\n",
       "   G2  G3  sex_F  sex_M  romantic_no  romantic_yes  \n",
       "0   6   6      1      0            1             0  "
      ]
     },
     "execution_count": 109,
     "metadata": {},
     "output_type": "execute_result"
    }
   ],
   "source": [
    "big_feature_df = pd.get_dummies(big_feature_df)\n",
    "big_feature_df[:1]"
   ]
  },
  {
   "cell_type": "code",
   "execution_count": 110,
   "metadata": {},
   "outputs": [],
   "source": [
    "y = big_feature_df['G3']\n",
    "X = big_feature_df.drop(['G3', 'G2', 'G1'], axis=1)"
   ]
  },
  {
   "cell_type": "code",
   "execution_count": 111,
   "metadata": {},
   "outputs": [
    {
     "name": "stdout",
     "output_type": "stream",
     "text": [
      "MSE error: 21.8997194674222\n",
      "r^2 score: 0.22638061726808256\n"
     ]
    }
   ],
   "source": [
    "X_norm = normalize(X)\n",
    "\n",
    "X_train, X_test, y_train, y_test = train_test_split(X_norm,y, test_size=.25, random_state=0)\n",
    "\n",
    "lin_reg = LinearRegression()\n",
    "lin_reg.fit(X_train, y_train)\n",
    "y_pred = lin_reg.predict(X_test)\n",
    "print(f'MSE error: {mean_squared_error(y_test, y_pred)}')\n",
    "print(f'r^2 score: {r2_score(y_test, y_pred)}')"
   ]
  },
  {
   "cell_type": "markdown",
   "metadata": {},
   "source": [
    "**A little better.. But ehhh. Maybe there just isnt a good correlation between these features and the final grade..**"
   ]
  },
  {
   "cell_type": "markdown",
   "metadata": {},
   "source": [
    "## Let's at least try PCA to see if we can improve the model even more!\n",
    "This way we can reduce the number of features just to 2 or 3, instead of 11"
   ]
  },
  {
   "cell_type": "code",
   "execution_count": 114,
   "metadata": {},
   "outputs": [
    {
     "data": {
      "text/plain": [
       "array([[ 0.03878894, -0.06691985],\n",
       "       [-0.04997754, -0.07965824]])"
      ]
     },
     "execution_count": 114,
     "metadata": {},
     "output_type": "execute_result"
    }
   ],
   "source": [
    "from sklearn.decomposition import PCA\n",
    "\n",
    "pca = PCA(n_components=2)\n",
    "X_red = pca.fit_transform(X_norm)\n",
    "X_red[:2]"
   ]
  },
  {
   "cell_type": "code",
   "execution_count": null,
   "metadata": {},
   "outputs": [],
   "source": []
  },
  {
   "cell_type": "code",
   "execution_count": null,
   "metadata": {},
   "outputs": [],
   "source": [
    "data = {\n",
    "    'pca1': X_red[:,0],\n",
    "    'pca2': X_red[:,1]\n",
    "}\n",
    "pca_df = pd.DataFrame()"
   ]
  },
  {
   "cell_type": "code",
   "execution_count": 115,
   "metadata": {},
   "outputs": [
    {
     "name": "stdout",
     "output_type": "stream",
     "text": [
      "MSE error: 27.85960790687035\n",
      "r^2 score: 0.01584434886812547\n"
     ]
    }
   ],
   "source": [
    "X_train, X_test, y_train, y_test = train_test_split(X_red,y, test_size=.25, random_state=0)\n",
    "\n",
    "lin_reg = LinearRegression()\n",
    "lin_reg.fit(X_train, y_train)\n",
    "y_pred = lin_reg.predict(X_test)\n",
    "print(f'MSE error: {mean_squared_error(y_test, y_pred)}')\n",
    "print(f'r^2 score: {r2_score(y_test, y_pred)}')"
   ]
  },
  {
   "cell_type": "markdown",
   "metadata": {},
   "source": [
    "**Well... that definetly did not make it any better :)**"
   ]
  },
  {
   "cell_type": "markdown",
   "metadata": {},
   "source": [
    "## Let's see if we can now classify students into pass/fail groups and see if we can build a good classification model instead of a regression one! "
   ]
  },
  {
   "cell_type": "code",
   "execution_count": 132,
   "metadata": {},
   "outputs": [
    {
     "data": {
      "text/html": [
       "<div>\n",
       "<style scoped>\n",
       "    .dataframe tbody tr th:only-of-type {\n",
       "        vertical-align: middle;\n",
       "    }\n",
       "\n",
       "    .dataframe tbody tr th {\n",
       "        vertical-align: top;\n",
       "    }\n",
       "\n",
       "    .dataframe thead th {\n",
       "        text-align: right;\n",
       "    }\n",
       "</style>\n",
       "<table border=\"1\" class=\"dataframe\">\n",
       "  <thead>\n",
       "    <tr style=\"text-align: right;\">\n",
       "      <th></th>\n",
       "      <th>age</th>\n",
       "      <th>studytime</th>\n",
       "      <th>failures</th>\n",
       "      <th>goout</th>\n",
       "      <th>Dalc</th>\n",
       "      <th>Walc</th>\n",
       "      <th>absences</th>\n",
       "      <th>famrel</th>\n",
       "      <th>health</th>\n",
       "      <th>G3</th>\n",
       "      <th>sex_F</th>\n",
       "      <th>sex_M</th>\n",
       "      <th>romantic_no</th>\n",
       "      <th>romantic_yes</th>\n",
       "    </tr>\n",
       "  </thead>\n",
       "  <tbody>\n",
       "    <tr>\n",
       "      <th>0</th>\n",
       "      <td>18</td>\n",
       "      <td>2</td>\n",
       "      <td>0</td>\n",
       "      <td>4</td>\n",
       "      <td>1</td>\n",
       "      <td>1</td>\n",
       "      <td>6</td>\n",
       "      <td>4</td>\n",
       "      <td>3</td>\n",
       "      <td>6</td>\n",
       "      <td>1</td>\n",
       "      <td>0</td>\n",
       "      <td>1</td>\n",
       "      <td>0</td>\n",
       "    </tr>\n",
       "  </tbody>\n",
       "</table>\n",
       "</div>"
      ],
      "text/plain": [
       "   age  studytime  failures  goout  Dalc  Walc  absences  famrel  health  G3  \\\n",
       "0   18          2         0      4     1     1         6       4       3   6   \n",
       "\n",
       "   sex_F  sex_M  romantic_no  romantic_yes  \n",
       "0      1      0            1             0  "
      ]
     },
     "execution_count": 132,
     "metadata": {},
     "output_type": "execute_result"
    }
   ],
   "source": [
    "big_feature_df = df[feature_cols_big]\n",
    "big_feature_df = big_feature_df.drop(['G1', 'G2'], axis=1)\n",
    "big_feature_df = pd.get_dummies(big_feature_df)\n",
    "big_feature_df[:1]"
   ]
  },
  {
   "cell_type": "markdown",
   "metadata": {},
   "source": [
    "**Let's say that if G3 is >= 10 the person is passing, but if < 10 person is failing**"
   ]
  },
  {
   "cell_type": "code",
   "execution_count": 133,
   "metadata": {},
   "outputs": [
    {
     "name": "stderr",
     "output_type": "stream",
     "text": [
      "/opt/miniconda3/lib/python3.7/site-packages/ipykernel_launcher.py:2: SettingWithCopyWarning: \n",
      "A value is trying to be set on a copy of a slice from a DataFrame.\n",
      "Try using .loc[row_indexer,col_indexer] = value instead\n",
      "\n",
      "See the caveats in the documentation: https://pandas.pydata.org/pandas-docs/stable/user_guide/indexing.html#returning-a-view-versus-a-copy\n",
      "  \n",
      "/opt/miniconda3/lib/python3.7/site-packages/ipykernel_launcher.py:4: SettingWithCopyWarning: \n",
      "A value is trying to be set on a copy of a slice from a DataFrame.\n",
      "Try using .loc[row_indexer,col_indexer] = value instead\n",
      "\n",
      "See the caveats in the documentation: https://pandas.pydata.org/pandas-docs/stable/user_guide/indexing.html#returning-a-view-versus-a-copy\n",
      "  after removing the cwd from sys.path.\n"
     ]
    },
    {
     "data": {
      "text/html": [
       "<div>\n",
       "<style scoped>\n",
       "    .dataframe tbody tr th:only-of-type {\n",
       "        vertical-align: middle;\n",
       "    }\n",
       "\n",
       "    .dataframe tbody tr th {\n",
       "        vertical-align: top;\n",
       "    }\n",
       "\n",
       "    .dataframe thead th {\n",
       "        text-align: right;\n",
       "    }\n",
       "</style>\n",
       "<table border=\"1\" class=\"dataframe\">\n",
       "  <thead>\n",
       "    <tr style=\"text-align: right;\">\n",
       "      <th></th>\n",
       "      <th>age</th>\n",
       "      <th>studytime</th>\n",
       "      <th>failures</th>\n",
       "      <th>goout</th>\n",
       "      <th>Dalc</th>\n",
       "      <th>Walc</th>\n",
       "      <th>absences</th>\n",
       "      <th>famrel</th>\n",
       "      <th>health</th>\n",
       "      <th>G3</th>\n",
       "      <th>sex_F</th>\n",
       "      <th>sex_M</th>\n",
       "      <th>romantic_no</th>\n",
       "      <th>romantic_yes</th>\n",
       "      <th>result</th>\n",
       "    </tr>\n",
       "  </thead>\n",
       "  <tbody>\n",
       "    <tr>\n",
       "      <th>2</th>\n",
       "      <td>15</td>\n",
       "      <td>2</td>\n",
       "      <td>3</td>\n",
       "      <td>2</td>\n",
       "      <td>2</td>\n",
       "      <td>3</td>\n",
       "      <td>10</td>\n",
       "      <td>4</td>\n",
       "      <td>3</td>\n",
       "      <td>10</td>\n",
       "      <td>1</td>\n",
       "      <td>0</td>\n",
       "      <td>1</td>\n",
       "      <td>0</td>\n",
       "      <td>0</td>\n",
       "    </tr>\n",
       "  </tbody>\n",
       "</table>\n",
       "</div>"
      ],
      "text/plain": [
       "   age  studytime  failures  goout  Dalc  Walc  absences  famrel  health  G3  \\\n",
       "2   15          2         3      2     2     3        10       4       3  10   \n",
       "\n",
       "   sex_F  sex_M  romantic_no  romantic_yes  result  \n",
       "2      1      0            1             0       0  "
      ]
     },
     "execution_count": 133,
     "metadata": {},
     "output_type": "execute_result"
    }
   ],
   "source": [
    "pass_df = big_feature_df[big_feature_df['G3'] >= 10]\n",
    "pass_df['result'] = 0\n",
    "fail_df = big_feature_df[big_feature_df['G3'] < 10]\n",
    "fail_df['result'] = 1\n",
    "big_feature_df = pd.concat([pass_df, fail_df])\n",
    "big_feature_df[:1]"
   ]
  },
  {
   "cell_type": "markdown",
   "metadata": {},
   "source": [
    "## Let's start with SVM (Support Vector Machine)"
   ]
  },
  {
   "cell_type": "markdown",
   "metadata": {},
   "source": [
    "First we want to get the best hyper parameters using Grid Search"
   ]
  },
  {
   "cell_type": "code",
   "execution_count": 134,
   "metadata": {},
   "outputs": [],
   "source": [
    "y = big_feature_df['result']\n",
    "X = big_feature_df.drop(['G3', 'result'], axis=1)"
   ]
  },
  {
   "cell_type": "code",
   "execution_count": 136,
   "metadata": {},
   "outputs": [
    {
     "data": {
      "text/plain": [
       "{'C': 0.1, 'gamma': 0.001}"
      ]
     },
     "execution_count": 136,
     "metadata": {},
     "output_type": "execute_result"
    }
   ],
   "source": [
    "from sklearn.model_selection import GridSearchCV\n",
    "from sklearn import svm\n",
    "\n",
    "def svc_param_selection(X, y, nfolds):\n",
    "    Cs = [0.001, 0.01, 0.1, 1, 10]\n",
    "    gammas = [0.001, 0.01, 0.1, 1]\n",
    "    param_grid = {'C': Cs, 'gamma' : gammas}\n",
    "    grid_search = GridSearchCV(svm.SVC(kernel='linear'), param_grid, cv=nfolds)\n",
    "    grid_search.fit(X, y)\n",
    "    return grid_search.best_params_\n",
    "\n",
    "svc_param_selection(X, y, 5)"
   ]
  },
  {
   "cell_type": "markdown",
   "metadata": {},
   "source": [
    "**Perfect! Now we can use .1 as our C parameters for best results!**"
   ]
  },
  {
   "cell_type": "code",
   "execution_count": null,
   "metadata": {},
   "outputs": [],
   "source": [
    "svm_clf = svm.SVC(kernel='linear', )"
   ]
  },
  {
   "cell_type": "code",
   "execution_count": null,
   "metadata": {},
   "outputs": [],
   "source": []
  },
  {
   "cell_type": "code",
   "execution_count": null,
   "metadata": {},
   "outputs": [],
   "source": []
  },
  {
   "cell_type": "code",
   "execution_count": 64,
   "metadata": {},
   "outputs": [
    {
     "data": {
      "text/plain": [
       "F    208\n",
       "M    187\n",
       "Name: sex, dtype: int64"
      ]
     },
     "execution_count": 64,
     "metadata": {},
     "output_type": "execute_result"
    }
   ],
   "source": [
    "df['sex'].value_counts()"
   ]
  },
  {
   "cell_type": "code",
   "execution_count": 65,
   "metadata": {},
   "outputs": [],
   "source": [
    "m_f_features = ['sex', 'age', 'studytime', 'failures', 'goout', 'Dalc', 'Walc', 'absences', 'G3']"
   ]
  },
  {
   "cell_type": "code",
   "execution_count": 66,
   "metadata": {},
   "outputs": [
    {
     "data": {
      "text/html": [
       "<div>\n",
       "<style scoped>\n",
       "    .dataframe tbody tr th:only-of-type {\n",
       "        vertical-align: middle;\n",
       "    }\n",
       "\n",
       "    .dataframe tbody tr th {\n",
       "        vertical-align: top;\n",
       "    }\n",
       "\n",
       "    .dataframe thead th {\n",
       "        text-align: right;\n",
       "    }\n",
       "</style>\n",
       "<table border=\"1\" class=\"dataframe\">\n",
       "  <thead>\n",
       "    <tr style=\"text-align: right;\">\n",
       "      <th></th>\n",
       "      <th>school</th>\n",
       "      <th>sex</th>\n",
       "      <th>age</th>\n",
       "      <th>address</th>\n",
       "      <th>famsize</th>\n",
       "      <th>Pstatus</th>\n",
       "      <th>Medu</th>\n",
       "      <th>Fedu</th>\n",
       "      <th>Mjob</th>\n",
       "      <th>Fjob</th>\n",
       "      <th>...</th>\n",
       "      <th>famrel</th>\n",
       "      <th>freetime</th>\n",
       "      <th>goout</th>\n",
       "      <th>Dalc</th>\n",
       "      <th>Walc</th>\n",
       "      <th>health</th>\n",
       "      <th>absences</th>\n",
       "      <th>G1</th>\n",
       "      <th>G2</th>\n",
       "      <th>G3</th>\n",
       "    </tr>\n",
       "  </thead>\n",
       "  <tbody>\n",
       "    <tr>\n",
       "      <th>0</th>\n",
       "      <td>GP</td>\n",
       "      <td>F</td>\n",
       "      <td>18</td>\n",
       "      <td>U</td>\n",
       "      <td>GT3</td>\n",
       "      <td>A</td>\n",
       "      <td>4</td>\n",
       "      <td>4</td>\n",
       "      <td>at_home</td>\n",
       "      <td>teacher</td>\n",
       "      <td>...</td>\n",
       "      <td>4</td>\n",
       "      <td>3</td>\n",
       "      <td>4</td>\n",
       "      <td>1</td>\n",
       "      <td>1</td>\n",
       "      <td>3</td>\n",
       "      <td>6</td>\n",
       "      <td>5</td>\n",
       "      <td>6</td>\n",
       "      <td>6</td>\n",
       "    </tr>\n",
       "    <tr>\n",
       "      <th>1</th>\n",
       "      <td>GP</td>\n",
       "      <td>F</td>\n",
       "      <td>17</td>\n",
       "      <td>U</td>\n",
       "      <td>GT3</td>\n",
       "      <td>T</td>\n",
       "      <td>1</td>\n",
       "      <td>1</td>\n",
       "      <td>at_home</td>\n",
       "      <td>other</td>\n",
       "      <td>...</td>\n",
       "      <td>5</td>\n",
       "      <td>3</td>\n",
       "      <td>3</td>\n",
       "      <td>1</td>\n",
       "      <td>1</td>\n",
       "      <td>3</td>\n",
       "      <td>4</td>\n",
       "      <td>5</td>\n",
       "      <td>5</td>\n",
       "      <td>6</td>\n",
       "    </tr>\n",
       "    <tr>\n",
       "      <th>2</th>\n",
       "      <td>GP</td>\n",
       "      <td>F</td>\n",
       "      <td>15</td>\n",
       "      <td>U</td>\n",
       "      <td>LE3</td>\n",
       "      <td>T</td>\n",
       "      <td>1</td>\n",
       "      <td>1</td>\n",
       "      <td>at_home</td>\n",
       "      <td>other</td>\n",
       "      <td>...</td>\n",
       "      <td>4</td>\n",
       "      <td>3</td>\n",
       "      <td>2</td>\n",
       "      <td>2</td>\n",
       "      <td>3</td>\n",
       "      <td>3</td>\n",
       "      <td>10</td>\n",
       "      <td>7</td>\n",
       "      <td>8</td>\n",
       "      <td>10</td>\n",
       "    </tr>\n",
       "    <tr>\n",
       "      <th>3</th>\n",
       "      <td>GP</td>\n",
       "      <td>F</td>\n",
       "      <td>15</td>\n",
       "      <td>U</td>\n",
       "      <td>GT3</td>\n",
       "      <td>T</td>\n",
       "      <td>4</td>\n",
       "      <td>2</td>\n",
       "      <td>health</td>\n",
       "      <td>services</td>\n",
       "      <td>...</td>\n",
       "      <td>3</td>\n",
       "      <td>2</td>\n",
       "      <td>2</td>\n",
       "      <td>1</td>\n",
       "      <td>1</td>\n",
       "      <td>5</td>\n",
       "      <td>2</td>\n",
       "      <td>15</td>\n",
       "      <td>14</td>\n",
       "      <td>15</td>\n",
       "    </tr>\n",
       "    <tr>\n",
       "      <th>4</th>\n",
       "      <td>GP</td>\n",
       "      <td>F</td>\n",
       "      <td>16</td>\n",
       "      <td>U</td>\n",
       "      <td>GT3</td>\n",
       "      <td>T</td>\n",
       "      <td>3</td>\n",
       "      <td>3</td>\n",
       "      <td>other</td>\n",
       "      <td>other</td>\n",
       "      <td>...</td>\n",
       "      <td>4</td>\n",
       "      <td>3</td>\n",
       "      <td>2</td>\n",
       "      <td>1</td>\n",
       "      <td>2</td>\n",
       "      <td>5</td>\n",
       "      <td>4</td>\n",
       "      <td>6</td>\n",
       "      <td>10</td>\n",
       "      <td>10</td>\n",
       "    </tr>\n",
       "  </tbody>\n",
       "</table>\n",
       "<p>5 rows × 33 columns</p>\n",
       "</div>"
      ],
      "text/plain": [
       "  school sex  age address famsize Pstatus  Medu  Fedu     Mjob      Fjob  ...  \\\n",
       "0     GP   F   18       U     GT3       A     4     4  at_home   teacher  ...   \n",
       "1     GP   F   17       U     GT3       T     1     1  at_home     other  ...   \n",
       "2     GP   F   15       U     LE3       T     1     1  at_home     other  ...   \n",
       "3     GP   F   15       U     GT3       T     4     2   health  services  ...   \n",
       "4     GP   F   16       U     GT3       T     3     3    other     other  ...   \n",
       "\n",
       "  famrel freetime  goout  Dalc  Walc health absences  G1  G2  G3  \n",
       "0      4        3      4     1     1      3        6   5   6   6  \n",
       "1      5        3      3     1     1      3        4   5   5   6  \n",
       "2      4        3      2     2     3      3       10   7   8  10  \n",
       "3      3        2      2     1     1      5        2  15  14  15  \n",
       "4      4        3      2     1     2      5        4   6  10  10  \n",
       "\n",
       "[5 rows x 33 columns]"
      ]
     },
     "execution_count": 66,
     "metadata": {},
     "output_type": "execute_result"
    }
   ],
   "source": [
    "df.head()"
   ]
  },
  {
   "cell_type": "code",
   "execution_count": 60,
   "metadata": {},
   "outputs": [
    {
     "data": {
      "text/html": [
       "<div>\n",
       "<style scoped>\n",
       "    .dataframe tbody tr th:only-of-type {\n",
       "        vertical-align: middle;\n",
       "    }\n",
       "\n",
       "    .dataframe tbody tr th {\n",
       "        vertical-align: top;\n",
       "    }\n",
       "\n",
       "    .dataframe thead th {\n",
       "        text-align: right;\n",
       "    }\n",
       "</style>\n",
       "<table border=\"1\" class=\"dataframe\">\n",
       "  <thead>\n",
       "    <tr style=\"text-align: right;\">\n",
       "      <th></th>\n",
       "      <th>sex</th>\n",
       "      <th>age</th>\n",
       "      <th>studytime</th>\n",
       "      <th>failures</th>\n",
       "      <th>goout</th>\n",
       "      <th>Dalc</th>\n",
       "      <th>Walc</th>\n",
       "      <th>absences</th>\n",
       "      <th>G3</th>\n",
       "    </tr>\n",
       "  </thead>\n",
       "  <tbody>\n",
       "    <tr>\n",
       "      <th>0</th>\n",
       "      <td>F</td>\n",
       "      <td>18</td>\n",
       "      <td>2</td>\n",
       "      <td>0</td>\n",
       "      <td>4</td>\n",
       "      <td>1</td>\n",
       "      <td>1</td>\n",
       "      <td>6</td>\n",
       "      <td>6</td>\n",
       "    </tr>\n",
       "    <tr>\n",
       "      <th>1</th>\n",
       "      <td>F</td>\n",
       "      <td>17</td>\n",
       "      <td>2</td>\n",
       "      <td>0</td>\n",
       "      <td>3</td>\n",
       "      <td>1</td>\n",
       "      <td>1</td>\n",
       "      <td>4</td>\n",
       "      <td>6</td>\n",
       "    </tr>\n",
       "    <tr>\n",
       "      <th>2</th>\n",
       "      <td>F</td>\n",
       "      <td>15</td>\n",
       "      <td>2</td>\n",
       "      <td>3</td>\n",
       "      <td>2</td>\n",
       "      <td>2</td>\n",
       "      <td>3</td>\n",
       "      <td>10</td>\n",
       "      <td>10</td>\n",
       "    </tr>\n",
       "    <tr>\n",
       "      <th>3</th>\n",
       "      <td>F</td>\n",
       "      <td>15</td>\n",
       "      <td>3</td>\n",
       "      <td>0</td>\n",
       "      <td>2</td>\n",
       "      <td>1</td>\n",
       "      <td>1</td>\n",
       "      <td>2</td>\n",
       "      <td>15</td>\n",
       "    </tr>\n",
       "    <tr>\n",
       "      <th>4</th>\n",
       "      <td>F</td>\n",
       "      <td>16</td>\n",
       "      <td>2</td>\n",
       "      <td>0</td>\n",
       "      <td>2</td>\n",
       "      <td>1</td>\n",
       "      <td>2</td>\n",
       "      <td>4</td>\n",
       "      <td>10</td>\n",
       "    </tr>\n",
       "  </tbody>\n",
       "</table>\n",
       "</div>"
      ],
      "text/plain": [
       "  sex  age  studytime  failures  goout  Dalc  Walc  absences  G3\n",
       "0   F   18          2         0      4     1     1         6   6\n",
       "1   F   17          2         0      3     1     1         4   6\n",
       "2   F   15          2         3      2     2     3        10  10\n",
       "3   F   15          3         0      2     1     1         2  15\n",
       "4   F   16          2         0      2     1     2         4  10"
      ]
     },
     "execution_count": 60,
     "metadata": {},
     "output_type": "execute_result"
    }
   ],
   "source": [
    "feature_df = df[m_f_features]\n",
    "feature_df.head()"
   ]
  },
  {
   "cell_type": "code",
   "execution_count": 61,
   "metadata": {},
   "outputs": [
    {
     "data": {
      "text/plain": [
       "sex          object\n",
       "age           int64\n",
       "studytime     int64\n",
       "failures      int64\n",
       "goout         int64\n",
       "Dalc          int64\n",
       "Walc          int64\n",
       "absences      int64\n",
       "G3            int64\n",
       "dtype: object"
      ]
     },
     "execution_count": 61,
     "metadata": {},
     "output_type": "execute_result"
    }
   ],
   "source": [
    "feature_df.dtypes"
   ]
  },
  {
   "cell_type": "code",
   "execution_count": 63,
   "metadata": {},
   "outputs": [
    {
     "name": "stderr",
     "output_type": "stream",
     "text": [
      "/opt/miniconda3/lib/python3.7/site-packages/ipykernel_launcher.py:4: SettingWithCopyWarning: \n",
      "A value is trying to be set on a copy of a slice from a DataFrame.\n",
      "Try using .loc[row_indexer,col_indexer] = value instead\n",
      "\n",
      "See the caveats in the documentation: https://pandas.pydata.org/pandas-docs/stable/user_guide/indexing.html#returning-a-view-versus-a-copy\n",
      "  after removing the cwd from sys.path.\n"
     ]
    },
    {
     "data": {
      "text/html": [
       "<div>\n",
       "<style scoped>\n",
       "    .dataframe tbody tr th:only-of-type {\n",
       "        vertical-align: middle;\n",
       "    }\n",
       "\n",
       "    .dataframe tbody tr th {\n",
       "        vertical-align: top;\n",
       "    }\n",
       "\n",
       "    .dataframe thead th {\n",
       "        text-align: right;\n",
       "    }\n",
       "</style>\n",
       "<table border=\"1\" class=\"dataframe\">\n",
       "  <thead>\n",
       "    <tr style=\"text-align: right;\">\n",
       "      <th></th>\n",
       "      <th>sex</th>\n",
       "      <th>age</th>\n",
       "      <th>studytime</th>\n",
       "      <th>failures</th>\n",
       "      <th>goout</th>\n",
       "      <th>Dalc</th>\n",
       "      <th>Walc</th>\n",
       "      <th>absences</th>\n",
       "      <th>G3</th>\n",
       "      <th>result</th>\n",
       "    </tr>\n",
       "  </thead>\n",
       "  <tbody>\n",
       "    <tr>\n",
       "      <th>2</th>\n",
       "      <td>F</td>\n",
       "      <td>15</td>\n",
       "      <td>2</td>\n",
       "      <td>3</td>\n",
       "      <td>2</td>\n",
       "      <td>2</td>\n",
       "      <td>3</td>\n",
       "      <td>10</td>\n",
       "      <td>10</td>\n",
       "      <td>pass</td>\n",
       "    </tr>\n",
       "    <tr>\n",
       "      <th>3</th>\n",
       "      <td>F</td>\n",
       "      <td>15</td>\n",
       "      <td>3</td>\n",
       "      <td>0</td>\n",
       "      <td>2</td>\n",
       "      <td>1</td>\n",
       "      <td>1</td>\n",
       "      <td>2</td>\n",
       "      <td>15</td>\n",
       "      <td>pass</td>\n",
       "    </tr>\n",
       "    <tr>\n",
       "      <th>4</th>\n",
       "      <td>F</td>\n",
       "      <td>16</td>\n",
       "      <td>2</td>\n",
       "      <td>0</td>\n",
       "      <td>2</td>\n",
       "      <td>1</td>\n",
       "      <td>2</td>\n",
       "      <td>4</td>\n",
       "      <td>10</td>\n",
       "      <td>pass</td>\n",
       "    </tr>\n",
       "    <tr>\n",
       "      <th>5</th>\n",
       "      <td>M</td>\n",
       "      <td>16</td>\n",
       "      <td>2</td>\n",
       "      <td>0</td>\n",
       "      <td>2</td>\n",
       "      <td>1</td>\n",
       "      <td>2</td>\n",
       "      <td>10</td>\n",
       "      <td>15</td>\n",
       "      <td>pass</td>\n",
       "    </tr>\n",
       "    <tr>\n",
       "      <th>6</th>\n",
       "      <td>M</td>\n",
       "      <td>16</td>\n",
       "      <td>2</td>\n",
       "      <td>0</td>\n",
       "      <td>4</td>\n",
       "      <td>1</td>\n",
       "      <td>1</td>\n",
       "      <td>0</td>\n",
       "      <td>11</td>\n",
       "      <td>pass</td>\n",
       "    </tr>\n",
       "    <tr>\n",
       "      <th>...</th>\n",
       "      <td>...</td>\n",
       "      <td>...</td>\n",
       "      <td>...</td>\n",
       "      <td>...</td>\n",
       "      <td>...</td>\n",
       "      <td>...</td>\n",
       "      <td>...</td>\n",
       "      <td>...</td>\n",
       "      <td>...</td>\n",
       "      <td>...</td>\n",
       "    </tr>\n",
       "    <tr>\n",
       "      <th>388</th>\n",
       "      <td>F</td>\n",
       "      <td>18</td>\n",
       "      <td>2</td>\n",
       "      <td>0</td>\n",
       "      <td>4</td>\n",
       "      <td>1</td>\n",
       "      <td>1</td>\n",
       "      <td>0</td>\n",
       "      <td>8</td>\n",
       "      <td>fail</td>\n",
       "    </tr>\n",
       "    <tr>\n",
       "      <th>389</th>\n",
       "      <td>F</td>\n",
       "      <td>18</td>\n",
       "      <td>2</td>\n",
       "      <td>1</td>\n",
       "      <td>1</td>\n",
       "      <td>1</td>\n",
       "      <td>1</td>\n",
       "      <td>0</td>\n",
       "      <td>0</td>\n",
       "      <td>fail</td>\n",
       "    </tr>\n",
       "    <tr>\n",
       "      <th>390</th>\n",
       "      <td>M</td>\n",
       "      <td>20</td>\n",
       "      <td>2</td>\n",
       "      <td>2</td>\n",
       "      <td>4</td>\n",
       "      <td>4</td>\n",
       "      <td>5</td>\n",
       "      <td>11</td>\n",
       "      <td>9</td>\n",
       "      <td>fail</td>\n",
       "    </tr>\n",
       "    <tr>\n",
       "      <th>392</th>\n",
       "      <td>M</td>\n",
       "      <td>21</td>\n",
       "      <td>1</td>\n",
       "      <td>3</td>\n",
       "      <td>3</td>\n",
       "      <td>3</td>\n",
       "      <td>3</td>\n",
       "      <td>3</td>\n",
       "      <td>7</td>\n",
       "      <td>fail</td>\n",
       "    </tr>\n",
       "    <tr>\n",
       "      <th>394</th>\n",
       "      <td>M</td>\n",
       "      <td>19</td>\n",
       "      <td>1</td>\n",
       "      <td>0</td>\n",
       "      <td>3</td>\n",
       "      <td>3</td>\n",
       "      <td>3</td>\n",
       "      <td>5</td>\n",
       "      <td>9</td>\n",
       "      <td>fail</td>\n",
       "    </tr>\n",
       "  </tbody>\n",
       "</table>\n",
       "<p>395 rows × 10 columns</p>\n",
       "</div>"
      ],
      "text/plain": [
       "    sex  age  studytime  failures  goout  Dalc  Walc  absences  G3 result\n",
       "2     F   15          2         3      2     2     3        10  10   pass\n",
       "3     F   15          3         0      2     1     1         2  15   pass\n",
       "4     F   16          2         0      2     1     2         4  10   pass\n",
       "5     M   16          2         0      2     1     2        10  15   pass\n",
       "6     M   16          2         0      4     1     1         0  11   pass\n",
       "..   ..  ...        ...       ...    ...   ...   ...       ...  ..    ...\n",
       "388   F   18          2         0      4     1     1         0   8   fail\n",
       "389   F   18          2         1      1     1     1         0   0   fail\n",
       "390   M   20          2         2      4     4     5        11   9   fail\n",
       "392   M   21          1         3      3     3     3         3   7   fail\n",
       "394   M   19          1         0      3     3     3         5   9   fail\n",
       "\n",
       "[395 rows x 10 columns]"
      ]
     },
     "execution_count": 63,
     "metadata": {},
     "output_type": "execute_result"
    }
   ],
   "source": [
    "pass_df = feature_df[feature_df['G3'] >= 10]\n",
    "pass_df['result'] = 'pass'\n",
    "fail_df = feature_df[feature_df['G3'] < 10]\n",
    "fail_df['result'] = 'fail'\n",
    "feature_df = pd.concat([pass_df, fail_df])\n",
    "feature_df"
   ]
  },
  {
   "cell_type": "code",
   "execution_count": 65,
   "metadata": {},
   "outputs": [
    {
     "data": {
      "text/html": [
       "\n",
       "<div id=\"altair-viz-ff7064bb63d8465ab3145f3a9172edd2\"></div>\n",
       "<script type=\"text/javascript\">\n",
       "  (function(spec, embedOpt){\n",
       "    let outputDiv = document.currentScript.previousElementSibling;\n",
       "    if (outputDiv.id !== \"altair-viz-ff7064bb63d8465ab3145f3a9172edd2\") {\n",
       "      outputDiv = document.getElementById(\"altair-viz-ff7064bb63d8465ab3145f3a9172edd2\");\n",
       "    }\n",
       "    const paths = {\n",
       "      \"vega\": \"https://cdn.jsdelivr.net/npm//vega@5?noext\",\n",
       "      \"vega-lib\": \"https://cdn.jsdelivr.net/npm//vega-lib?noext\",\n",
       "      \"vega-lite\": \"https://cdn.jsdelivr.net/npm//vega-lite@4.8.1?noext\",\n",
       "      \"vega-embed\": \"https://cdn.jsdelivr.net/npm//vega-embed@6?noext\",\n",
       "    };\n",
       "\n",
       "    function loadScript(lib) {\n",
       "      return new Promise(function(resolve, reject) {\n",
       "        var s = document.createElement('script');\n",
       "        s.src = paths[lib];\n",
       "        s.async = true;\n",
       "        s.onload = () => resolve(paths[lib]);\n",
       "        s.onerror = () => reject(`Error loading script: ${paths[lib]}`);\n",
       "        document.getElementsByTagName(\"head\")[0].appendChild(s);\n",
       "      });\n",
       "    }\n",
       "\n",
       "    function showError(err) {\n",
       "      outputDiv.innerHTML = `<div class=\"error\" style=\"color:red;\">${err}</div>`;\n",
       "      throw err;\n",
       "    }\n",
       "\n",
       "    function displayChart(vegaEmbed) {\n",
       "      vegaEmbed(outputDiv, spec, embedOpt)\n",
       "        .catch(err => showError(`Javascript Error: ${err.message}<br>This usually means there's a typo in your chart specification. See the javascript console for the full traceback.`));\n",
       "    }\n",
       "\n",
       "    if(typeof define === \"function\" && define.amd) {\n",
       "      requirejs.config({paths});\n",
       "      require([\"vega-embed\"], displayChart, err => showError(`Error loading script: ${err.message}`));\n",
       "    } else if (typeof vegaEmbed === \"function\") {\n",
       "      displayChart(vegaEmbed);\n",
       "    } else {\n",
       "      loadScript(\"vega\")\n",
       "        .then(() => loadScript(\"vega-lite\"))\n",
       "        .then(() => loadScript(\"vega-embed\"))\n",
       "        .catch(showError)\n",
       "        .then(() => displayChart(vegaEmbed));\n",
       "    }\n",
       "  })({\"config\": {\"view\": {\"continuousWidth\": 400, \"continuousHeight\": 300}}, \"data\": {\"name\": \"data-ea72f5dcaea5cc0f15329fc2e06c629f\"}, \"mark\": \"bar\", \"encoding\": {\"color\": {\"type\": \"nominal\", \"field\": \"sex\"}, \"column\": {\"type\": \"nominal\", \"field\": \"result\"}, \"x\": {\"type\": \"nominal\", \"field\": \"age\"}, \"y\": {\"type\": \"quantitative\", \"aggregate\": \"mean\", \"field\": \"Dalc\"}}, \"$schema\": \"https://vega.github.io/schema/vega-lite/v4.8.1.json\", \"datasets\": {\"data-ea72f5dcaea5cc0f15329fc2e06c629f\": [{\"sex\": \"F\", \"age\": 15, \"studytime\": 2, \"failures\": 3, \"goout\": 2, \"Dalc\": 2, \"Walc\": 3, \"absences\": 10, \"G3\": 10, \"result\": \"pass\"}, {\"sex\": \"F\", \"age\": 15, \"studytime\": 3, \"failures\": 0, \"goout\": 2, \"Dalc\": 1, \"Walc\": 1, \"absences\": 2, \"G3\": 15, \"result\": \"pass\"}, {\"sex\": \"F\", \"age\": 16, \"studytime\": 2, \"failures\": 0, \"goout\": 2, \"Dalc\": 1, \"Walc\": 2, \"absences\": 4, \"G3\": 10, \"result\": \"pass\"}, {\"sex\": \"M\", \"age\": 16, \"studytime\": 2, \"failures\": 0, \"goout\": 2, \"Dalc\": 1, \"Walc\": 2, \"absences\": 10, \"G3\": 15, \"result\": \"pass\"}, {\"sex\": \"M\", \"age\": 16, \"studytime\": 2, \"failures\": 0, \"goout\": 4, \"Dalc\": 1, \"Walc\": 1, \"absences\": 0, \"G3\": 11, \"result\": \"pass\"}, {\"sex\": \"M\", \"age\": 15, \"studytime\": 2, \"failures\": 0, \"goout\": 2, \"Dalc\": 1, \"Walc\": 1, \"absences\": 0, \"G3\": 19, \"result\": \"pass\"}, {\"sex\": \"M\", \"age\": 15, \"studytime\": 2, \"failures\": 0, \"goout\": 1, \"Dalc\": 1, \"Walc\": 1, \"absences\": 0, \"G3\": 15, \"result\": \"pass\"}, {\"sex\": \"F\", \"age\": 15, \"studytime\": 3, \"failures\": 0, \"goout\": 2, \"Dalc\": 1, \"Walc\": 1, \"absences\": 4, \"G3\": 12, \"result\": \"pass\"}, {\"sex\": \"M\", \"age\": 15, \"studytime\": 1, \"failures\": 0, \"goout\": 3, \"Dalc\": 1, \"Walc\": 3, \"absences\": 2, \"G3\": 14, \"result\": \"pass\"}, {\"sex\": \"M\", \"age\": 15, \"studytime\": 2, \"failures\": 0, \"goout\": 3, \"Dalc\": 1, \"Walc\": 2, \"absences\": 2, \"G3\": 11, \"result\": \"pass\"}, {\"sex\": \"M\", \"age\": 15, \"studytime\": 3, \"failures\": 0, \"goout\": 2, \"Dalc\": 1, \"Walc\": 1, \"absences\": 0, \"G3\": 16, \"result\": \"pass\"}, {\"sex\": \"F\", \"age\": 16, \"studytime\": 1, \"failures\": 0, \"goout\": 4, \"Dalc\": 1, \"Walc\": 2, \"absences\": 4, \"G3\": 14, \"result\": \"pass\"}, {\"sex\": \"F\", \"age\": 16, \"studytime\": 3, \"failures\": 0, \"goout\": 3, \"Dalc\": 1, \"Walc\": 2, \"absences\": 6, \"G3\": 14, \"result\": \"pass\"}, {\"sex\": \"F\", \"age\": 16, \"studytime\": 2, \"failures\": 0, \"goout\": 2, \"Dalc\": 1, \"Walc\": 1, \"absences\": 4, \"G3\": 10, \"result\": \"pass\"}, {\"sex\": \"M\", \"age\": 16, \"studytime\": 1, \"failures\": 0, \"goout\": 3, \"Dalc\": 1, \"Walc\": 3, \"absences\": 4, \"G3\": 10, \"result\": \"pass\"}, {\"sex\": \"M\", \"age\": 15, \"studytime\": 2, \"failures\": 0, \"goout\": 1, \"Dalc\": 1, \"Walc\": 1, \"absences\": 0, \"G3\": 15, \"result\": \"pass\"}, {\"sex\": \"M\", \"age\": 15, \"studytime\": 1, \"failures\": 0, \"goout\": 2, \"Dalc\": 1, \"Walc\": 1, \"absences\": 0, \"G3\": 15, \"result\": \"pass\"}, {\"sex\": \"M\", \"age\": 16, \"studytime\": 2, \"failures\": 0, \"goout\": 1, \"Dalc\": 1, \"Walc\": 3, \"absences\": 2, \"G3\": 16, \"result\": \"pass\"}, {\"sex\": \"M\", \"age\": 16, \"studytime\": 2, \"failures\": 0, \"goout\": 4, \"Dalc\": 2, \"Walc\": 4, \"absences\": 0, \"G3\": 12, \"result\": \"pass\"}, {\"sex\": \"M\", \"age\": 15, \"studytime\": 1, \"failures\": 0, \"goout\": 2, \"Dalc\": 1, \"Walc\": 2, \"absences\": 2, \"G3\": 11, \"result\": \"pass\"}, {\"sex\": \"M\", \"age\": 15, \"studytime\": 1, \"failures\": 0, \"goout\": 4, \"Dalc\": 2, \"Walc\": 4, \"absences\": 4, \"G3\": 15, \"result\": \"pass\"}, {\"sex\": \"M\", \"age\": 16, \"studytime\": 2, \"failures\": 0, \"goout\": 3, \"Dalc\": 1, \"Walc\": 1, \"absences\": 4, \"G3\": 11, \"result\": \"pass\"}, {\"sex\": \"M\", \"age\": 16, \"studytime\": 2, \"failures\": 0, \"goout\": 5, \"Dalc\": 5, \"Walc\": 5, \"absences\": 16, \"G3\": 11, \"result\": \"pass\"}, {\"sex\": \"M\", \"age\": 15, \"studytime\": 2, \"failures\": 0, \"goout\": 2, \"Dalc\": 3, \"Walc\": 4, \"absences\": 0, \"G3\": 12, \"result\": \"pass\"}, {\"sex\": \"M\", \"age\": 15, \"studytime\": 2, \"failures\": 0, \"goout\": 1, \"Dalc\": 1, \"Walc\": 1, \"absences\": 0, \"G3\": 17, \"result\": \"pass\"}, {\"sex\": \"M\", \"age\": 15, \"studytime\": 2, \"failures\": 0, \"goout\": 2, \"Dalc\": 1, \"Walc\": 1, \"absences\": 0, \"G3\": 16, \"result\": \"pass\"}, {\"sex\": \"M\", \"age\": 15, \"studytime\": 2, \"failures\": 0, \"goout\": 2, \"Dalc\": 1, \"Walc\": 1, \"absences\": 0, \"G3\": 12, \"result\": \"pass\"}, {\"sex\": \"M\", \"age\": 16, \"studytime\": 1, \"failures\": 0, \"goout\": 3, \"Dalc\": 1, \"Walc\": 1, \"absences\": 0, \"G3\": 15, \"result\": \"pass\"}, {\"sex\": \"M\", \"age\": 15, \"studytime\": 3, \"failures\": 0, \"goout\": 3, \"Dalc\": 1, \"Walc\": 1, \"absences\": 2, \"G3\": 18, \"result\": \"pass\"}, {\"sex\": \"M\", \"age\": 16, \"studytime\": 3, \"failures\": 0, \"goout\": 3, \"Dalc\": 1, \"Walc\": 1, \"absences\": 7, \"G3\": 15, \"result\": \"pass\"}, {\"sex\": \"F\", \"age\": 15, \"studytime\": 3, \"failures\": 0, \"goout\": 2, \"Dalc\": 1, \"Walc\": 1, \"absences\": 2, \"G3\": 11, \"result\": \"pass\"}, {\"sex\": \"F\", \"age\": 15, \"studytime\": 1, \"failures\": 0, \"goout\": 1, \"Dalc\": 1, \"Walc\": 1, \"absences\": 8, \"G3\": 13, \"result\": \"pass\"}, {\"sex\": \"F\", \"age\": 16, \"studytime\": 2, \"failures\": 1, \"goout\": 3, \"Dalc\": 1, \"Walc\": 2, \"absences\": 25, \"G3\": 11, \"result\": \"pass\"}, {\"sex\": \"M\", \"age\": 15, \"studytime\": 1, \"failures\": 0, \"goout\": 3, \"Dalc\": 2, \"Walc\": 4, \"absences\": 8, \"G3\": 12, \"result\": \"pass\"}, {\"sex\": \"M\", \"age\": 15, \"studytime\": 2, \"failures\": 0, \"goout\": 3, \"Dalc\": 1, \"Walc\": 1, \"absences\": 2, \"G3\": 18, \"result\": \"pass\"}, {\"sex\": \"M\", \"age\": 15, \"studytime\": 1, \"failures\": 0, \"goout\": 1, \"Dalc\": 1, \"Walc\": 1, \"absences\": 0, \"G3\": 11, \"result\": \"pass\"}, {\"sex\": \"F\", \"age\": 16, \"studytime\": 2, \"failures\": 0, \"goout\": 5, \"Dalc\": 1, \"Walc\": 4, \"absences\": 12, \"G3\": 11, \"result\": \"pass\"}, {\"sex\": \"M\", \"age\": 16, \"studytime\": 4, \"failures\": 0, \"goout\": 2, \"Dalc\": 1, \"Walc\": 1, \"absences\": 4, \"G3\": 20, \"result\": \"pass\"}, {\"sex\": \"M\", \"age\": 15, \"studytime\": 2, \"failures\": 0, \"goout\": 3, \"Dalc\": 2, \"Walc\": 2, \"absences\": 2, \"G3\": 14, \"result\": \"pass\"}, {\"sex\": \"F\", \"age\": 16, \"studytime\": 2, \"failures\": 0, \"goout\": 3, \"Dalc\": 2, \"Walc\": 3, \"absences\": 2, \"G3\": 13, \"result\": \"pass\"}, {\"sex\": \"F\", \"age\": 15, \"studytime\": 2, \"failures\": 0, \"goout\": 3, \"Dalc\": 1, \"Walc\": 1, \"absences\": 2, \"G3\": 13, \"result\": \"pass\"}, {\"sex\": \"M\", \"age\": 15, \"studytime\": 1, \"failures\": 1, \"goout\": 5, \"Dalc\": 3, \"Walc\": 4, \"absences\": 6, \"G3\": 10, \"result\": \"pass\"}, {\"sex\": \"F\", \"age\": 15, \"studytime\": 1, \"failures\": 0, \"goout\": 4, \"Dalc\": 2, \"Walc\": 3, \"absences\": 0, \"G3\": 11, \"result\": \"pass\"}, {\"sex\": \"F\", \"age\": 15, \"studytime\": 1, \"failures\": 0, \"goout\": 4, \"Dalc\": 4, \"Walc\": 4, \"absences\": 6, \"G3\": 13, \"result\": \"pass\"}, {\"sex\": \"F\", \"age\": 16, \"studytime\": 2, \"failures\": 0, \"goout\": 4, \"Dalc\": 1, \"Walc\": 1, \"absences\": 8, \"G3\": 10, \"result\": \"pass\"}, {\"sex\": \"F\", \"age\": 15, \"studytime\": 2, \"failures\": 0, \"goout\": 2, \"Dalc\": 1, \"Walc\": 1, \"absences\": 0, \"G3\": 15, \"result\": \"pass\"}, {\"sex\": \"M\", \"age\": 15, \"studytime\": 2, \"failures\": 0, \"goout\": 2, \"Dalc\": 1, \"Walc\": 1, \"absences\": 4, \"G3\": 15, \"result\": \"pass\"}, {\"sex\": \"F\", \"age\": 16, \"studytime\": 2, \"failures\": 0, \"goout\": 3, \"Dalc\": 1, \"Walc\": 1, \"absences\": 2, \"G3\": 16, \"result\": \"pass\"}, {\"sex\": \"F\", \"age\": 16, \"studytime\": 2, \"failures\": 0, \"goout\": 4, \"Dalc\": 2, \"Walc\": 3, \"absences\": 6, \"G3\": 11, \"result\": \"pass\"}, {\"sex\": \"F\", \"age\": 16, \"studytime\": 1, \"failures\": 0, \"goout\": 5, \"Dalc\": 5, \"Walc\": 5, \"absences\": 6, \"G3\": 11, \"result\": \"pass\"}, {\"sex\": \"F\", \"age\": 15, \"studytime\": 2, \"failures\": 0, \"goout\": 4, \"Dalc\": 2, \"Walc\": 4, \"absences\": 0, \"G3\": 10, \"result\": \"pass\"}, {\"sex\": \"F\", \"age\": 16, \"studytime\": 2, \"failures\": 0, \"goout\": 3, \"Dalc\": 1, \"Walc\": 2, \"absences\": 2, \"G3\": 15, \"result\": \"pass\"}, {\"sex\": \"M\", \"age\": 15, \"studytime\": 4, \"failures\": 0, \"goout\": 3, \"Dalc\": 5, \"Walc\": 5, \"absences\": 4, \"G3\": 12, \"result\": \"pass\"}, {\"sex\": \"F\", \"age\": 15, \"studytime\": 4, \"failures\": 0, \"goout\": 2, \"Dalc\": 2, \"Walc\": 3, \"absences\": 12, \"G3\": 16, \"result\": \"pass\"}, {\"sex\": \"M\", \"age\": 16, \"studytime\": 4, \"failures\": 0, \"goout\": 2, \"Dalc\": 1, \"Walc\": 1, \"absences\": 0, \"G3\": 15, \"result\": \"pass\"}, {\"sex\": \"M\", \"age\": 15, \"studytime\": 4, \"failures\": 0, \"goout\": 3, \"Dalc\": 1, \"Walc\": 1, \"absences\": 0, \"G3\": 10, \"result\": \"pass\"}, {\"sex\": \"M\", \"age\": 16, \"studytime\": 1, \"failures\": 0, \"goout\": 2, \"Dalc\": 2, \"Walc\": 2, \"absences\": 2, \"G3\": 14, \"result\": \"pass\"}, {\"sex\": \"F\", \"age\": 16, \"studytime\": 2, \"failures\": 0, \"goout\": 3, \"Dalc\": 2, \"Walc\": 4, \"absences\": 54, \"G3\": 11, \"result\": \"pass\"}, {\"sex\": \"M\", \"age\": 15, \"studytime\": 2, \"failures\": 0, \"goout\": 3, \"Dalc\": 2, \"Walc\": 3, \"absences\": 6, \"G3\": 10, \"result\": \"pass\"}, {\"sex\": \"M\", \"age\": 15, \"studytime\": 4, \"failures\": 0, \"goout\": 3, \"Dalc\": 1, \"Walc\": 1, \"absences\": 8, \"G3\": 10, \"result\": \"pass\"}, {\"sex\": \"F\", \"age\": 16, \"studytime\": 4, \"failures\": 0, \"goout\": 3, \"Dalc\": 1, \"Walc\": 3, \"absences\": 0, \"G3\": 11, \"result\": \"pass\"}, {\"sex\": \"M\", \"age\": 17, \"studytime\": 1, \"failures\": 3, \"goout\": 1, \"Dalc\": 1, \"Walc\": 1, \"absences\": 2, \"G3\": 10, \"result\": \"pass\"}, {\"sex\": \"M\", \"age\": 15, \"studytime\": 1, \"failures\": 0, \"goout\": 2, \"Dalc\": 1, \"Walc\": 3, \"absences\": 2, \"G3\": 12, \"result\": \"pass\"}, {\"sex\": \"M\", \"age\": 15, \"studytime\": 3, \"failures\": 0, \"goout\": 2, \"Dalc\": 1, \"Walc\": 2, \"absences\": 4, \"G3\": 11, \"result\": \"pass\"}, {\"sex\": \"M\", \"age\": 15, \"studytime\": 2, \"failures\": 0, \"goout\": 3, \"Dalc\": 1, \"Walc\": 3, \"absences\": 4, \"G3\": 15, \"result\": \"pass\"}, {\"sex\": \"F\", \"age\": 15, \"studytime\": 2, \"failures\": 0, \"goout\": 2, \"Dalc\": 2, \"Walc\": 3, \"absences\": 2, \"G3\": 10, \"result\": \"pass\"}, {\"sex\": \"F\", \"age\": 15, \"studytime\": 3, \"failures\": 0, \"goout\": 3, \"Dalc\": 1, \"Walc\": 3, \"absences\": 4, \"G3\": 14, \"result\": \"pass\"}, {\"sex\": \"M\", \"age\": 16, \"studytime\": 2, \"failures\": 1, \"goout\": 2, \"Dalc\": 1, \"Walc\": 1, \"absences\": 12, \"G3\": 10, \"result\": \"pass\"}, {\"sex\": \"F\", \"age\": 15, \"studytime\": 1, \"failures\": 0, \"goout\": 5, \"Dalc\": 1, \"Walc\": 3, \"absences\": 4, \"G3\": 18, \"result\": \"pass\"}, {\"sex\": \"F\", \"age\": 16, \"studytime\": 2, \"failures\": 0, \"goout\": 3, \"Dalc\": 1, \"Walc\": 1, \"absences\": 0, \"G3\": 10, \"result\": \"pass\"}, {\"sex\": \"M\", \"age\": 15, \"studytime\": 4, \"failures\": 0, \"goout\": 4, \"Dalc\": 1, \"Walc\": 1, \"absences\": 6, \"G3\": 14, \"result\": \"pass\"}, {\"sex\": \"F\", \"age\": 15, \"studytime\": 4, \"failures\": 1, \"goout\": 2, \"Dalc\": 1, \"Walc\": 1, \"absences\": 2, \"G3\": 10, \"result\": \"pass\"}, {\"sex\": \"M\", \"age\": 16, \"studytime\": 1, \"failures\": 0, \"goout\": 3, \"Dalc\": 1, \"Walc\": 1, \"absences\": 2, \"G3\": 15, \"result\": \"pass\"}, {\"sex\": \"F\", \"age\": 16, \"studytime\": 2, \"failures\": 0, \"goout\": 5, \"Dalc\": 1, \"Walc\": 1, \"absences\": 2, \"G3\": 10, \"result\": \"pass\"}, {\"sex\": \"F\", \"age\": 16, \"studytime\": 1, \"failures\": 0, \"goout\": 4, \"Dalc\": 1, \"Walc\": 2, \"absences\": 6, \"G3\": 14, \"result\": \"pass\"}, {\"sex\": \"M\", \"age\": 16, \"studytime\": 3, \"failures\": 0, \"goout\": 3, \"Dalc\": 1, \"Walc\": 1, \"absences\": 0, \"G3\": 17, \"result\": \"pass\"}, {\"sex\": \"M\", \"age\": 15, \"studytime\": 1, \"failures\": 0, \"goout\": 3, \"Dalc\": 1, \"Walc\": 1, \"absences\": 4, \"G3\": 14, \"result\": \"pass\"}, {\"sex\": \"M\", \"age\": 15, \"studytime\": 2, \"failures\": 0, \"goout\": 4, \"Dalc\": 1, \"Walc\": 1, \"absences\": 0, \"G3\": 18, \"result\": \"pass\"}, {\"sex\": \"F\", \"age\": 15, \"studytime\": 4, \"failures\": 0, \"goout\": 3, \"Dalc\": 1, \"Walc\": 1, \"absences\": 10, \"G3\": 11, \"result\": \"pass\"}, {\"sex\": \"M\", \"age\": 16, \"studytime\": 3, \"failures\": 0, \"goout\": 3, \"Dalc\": 1, \"Walc\": 1, \"absences\": 2, \"G3\": 18, \"result\": \"pass\"}, {\"sex\": \"M\", \"age\": 15, \"studytime\": 4, \"failures\": 0, \"goout\": 5, \"Dalc\": 3, \"Walc\": 5, \"absences\": 6, \"G3\": 13, \"result\": \"pass\"}, {\"sex\": \"F\", \"age\": 16, \"studytime\": 3, \"failures\": 0, \"goout\": 5, \"Dalc\": 1, \"Walc\": 1, \"absences\": 4, \"G3\": 16, \"result\": \"pass\"}, {\"sex\": \"M\", \"age\": 15, \"studytime\": 1, \"failures\": 0, \"goout\": 3, \"Dalc\": 1, \"Walc\": 1, \"absences\": 6, \"G3\": 19, \"result\": \"pass\"}, {\"sex\": \"F\", \"age\": 16, \"studytime\": 3, \"failures\": 1, \"goout\": 2, \"Dalc\": 1, \"Walc\": 1, \"absences\": 0, \"G3\": 10, \"result\": \"pass\"}, {\"sex\": \"F\", \"age\": 16, \"studytime\": 2, \"failures\": 1, \"goout\": 2, \"Dalc\": 1, \"Walc\": 1, \"absences\": 6, \"G3\": 13, \"result\": \"pass\"}, {\"sex\": \"M\", \"age\": 15, \"studytime\": 1, \"failures\": 0, \"goout\": 2, \"Dalc\": 1, \"Walc\": 1, \"absences\": 10, \"G3\": 19, \"result\": \"pass\"}, {\"sex\": \"M\", \"age\": 16, \"studytime\": 2, \"failures\": 0, \"goout\": 4, \"Dalc\": 1, \"Walc\": 2, \"absences\": 2, \"G3\": 16, \"result\": \"pass\"}, {\"sex\": \"M\", \"age\": 15, \"studytime\": 2, \"failures\": 0, \"goout\": 3, \"Dalc\": 1, \"Walc\": 1, \"absences\": 2, \"G3\": 14, \"result\": \"pass\"}, {\"sex\": \"M\", \"age\": 16, \"studytime\": 1, \"failures\": 0, \"goout\": 2, \"Dalc\": 1, \"Walc\": 1, \"absences\": 0, \"G3\": 13, \"result\": \"pass\"}, {\"sex\": \"M\", \"age\": 15, \"studytime\": 1, \"failures\": 0, \"goout\": 3, \"Dalc\": 1, \"Walc\": 2, \"absences\": 6, \"G3\": 13, \"result\": \"pass\"}, {\"sex\": \"F\", \"age\": 15, \"studytime\": 2, \"failures\": 0, \"goout\": 3, \"Dalc\": 1, \"Walc\": 2, \"absences\": 2, \"G3\": 15, \"result\": \"pass\"}, {\"sex\": \"M\", \"age\": 15, \"studytime\": 4, \"failures\": 0, \"goout\": 4, \"Dalc\": 1, \"Walc\": 2, \"absences\": 6, \"G3\": 15, \"result\": \"pass\"}, {\"sex\": \"F\", \"age\": 16, \"studytime\": 2, \"failures\": 0, \"goout\": 2, \"Dalc\": 1, \"Walc\": 2, \"absences\": 2, \"G3\": 13, \"result\": \"pass\"}, {\"sex\": \"M\", \"age\": 16, \"studytime\": 1, \"failures\": 0, \"goout\": 4, \"Dalc\": 1, \"Walc\": 4, \"absences\": 18, \"G3\": 13, \"result\": \"pass\"}, {\"sex\": \"M\", \"age\": 15, \"studytime\": 1, \"failures\": 0, \"goout\": 5, \"Dalc\": 3, \"Walc\": 2, \"absences\": 0, \"G3\": 12, \"result\": \"pass\"}, {\"sex\": \"F\", \"age\": 15, \"studytime\": 2, \"failures\": 0, \"goout\": 2, \"Dalc\": 1, \"Walc\": 1, \"absences\": 0, \"G3\": 11, \"result\": \"pass\"}, {\"sex\": \"M\", \"age\": 16, \"studytime\": 1, \"failures\": 0, \"goout\": 5, \"Dalc\": 2, \"Walc\": 5, \"absences\": 8, \"G3\": 18, \"result\": \"pass\"}, {\"sex\": \"F\", \"age\": 17, \"studytime\": 1, \"failures\": 0, \"goout\": 4, \"Dalc\": 1, \"Walc\": 3, \"absences\": 12, \"G3\": 12, \"result\": \"pass\"}, {\"sex\": \"F\", \"age\": 16, \"studytime\": 1, \"failures\": 0, \"goout\": 1, \"Dalc\": 1, \"Walc\": 4, \"absences\": 16, \"G3\": 11, \"result\": \"pass\"}, {\"sex\": \"M\", \"age\": 16, \"studytime\": 2, \"failures\": 1, \"goout\": 4, \"Dalc\": 1, \"Walc\": 3, \"absences\": 0, \"G3\": 12, \"result\": \"pass\"}, {\"sex\": \"F\", \"age\": 15, \"studytime\": 1, \"failures\": 0, \"goout\": 2, \"Dalc\": 1, \"Walc\": 1, \"absences\": 0, \"G3\": 15, \"result\": \"pass\"}, {\"sex\": \"F\", \"age\": 15, \"studytime\": 3, \"failures\": 0, \"goout\": 2, \"Dalc\": 1, \"Walc\": 1, \"absences\": 2, \"G3\": 11, \"result\": \"pass\"}, {\"sex\": \"F\", \"age\": 16, \"studytime\": 1, \"failures\": 0, \"goout\": 4, \"Dalc\": 3, \"Walc\": 3, \"absences\": 2, \"G3\": 13, \"result\": \"pass\"}, {\"sex\": \"F\", \"age\": 15, \"studytime\": 2, \"failures\": 0, \"goout\": 2, \"Dalc\": 1, \"Walc\": 2, \"absences\": 0, \"G3\": 11, \"result\": \"pass\"}, {\"sex\": \"F\", \"age\": 15, \"studytime\": 2, \"failures\": 0, \"goout\": 2, \"Dalc\": 1, \"Walc\": 1, \"absences\": 2, \"G3\": 11, \"result\": \"pass\"}, {\"sex\": \"M\", \"age\": 15, \"studytime\": 1, \"failures\": 3, \"goout\": 5, \"Dalc\": 2, \"Walc\": 5, \"absences\": 0, \"G3\": 10, \"result\": \"pass\"}, {\"sex\": \"M\", \"age\": 16, \"studytime\": 1, \"failures\": 1, \"goout\": 4, \"Dalc\": 3, \"Walc\": 5, \"absences\": 6, \"G3\": 14, \"result\": \"pass\"}, {\"sex\": \"F\", \"age\": 15, \"studytime\": 3, \"failures\": 2, \"goout\": 1, \"Dalc\": 2, \"Walc\": 3, \"absences\": 8, \"G3\": 10, \"result\": \"pass\"}, {\"sex\": \"F\", \"age\": 17, \"studytime\": 1, \"failures\": 0, \"goout\": 1, \"Dalc\": 1, \"Walc\": 1, \"absences\": 0, \"G3\": 12, \"result\": \"pass\"}, {\"sex\": \"M\", \"age\": 17, \"studytime\": 1, \"failures\": 0, \"goout\": 2, \"Dalc\": 3, \"Walc\": 3, \"absences\": 8, \"G3\": 13, \"result\": \"pass\"}, {\"sex\": \"F\", \"age\": 18, \"studytime\": 1, \"failures\": 3, \"goout\": 5, \"Dalc\": 1, \"Walc\": 5, \"absences\": 6, \"G3\": 10, \"result\": \"pass\"}, {\"sex\": \"M\", \"age\": 16, \"studytime\": 1, \"failures\": 0, \"goout\": 2, \"Dalc\": 1, \"Walc\": 2, \"absences\": 2, \"G3\": 15, \"result\": \"pass\"}, {\"sex\": \"M\", \"age\": 16, \"studytime\": 2, \"failures\": 1, \"goout\": 5, \"Dalc\": 4, \"Walc\": 4, \"absences\": 4, \"G3\": 12, \"result\": \"pass\"}, {\"sex\": \"M\", \"age\": 17, \"studytime\": 1, \"failures\": 0, \"goout\": 3, \"Dalc\": 1, \"Walc\": 4, \"absences\": 2, \"G3\": 10, \"result\": \"pass\"}, {\"sex\": \"M\", \"age\": 16, \"studytime\": 1, \"failures\": 1, \"goout\": 2, \"Dalc\": 1, \"Walc\": 1, \"absences\": 16, \"G3\": 12, \"result\": \"pass\"}, {\"sex\": \"M\", \"age\": 16, \"studytime\": 2, \"failures\": 0, \"goout\": 5, \"Dalc\": 2, \"Walc\": 4, \"absences\": 4, \"G3\": 10, \"result\": \"pass\"}, {\"sex\": \"F\", \"age\": 16, \"studytime\": 2, \"failures\": 0, \"goout\": 3, \"Dalc\": 1, \"Walc\": 1, \"absences\": 0, \"G3\": 16, \"result\": \"pass\"}, {\"sex\": \"F\", \"age\": 16, \"studytime\": 2, \"failures\": 0, \"goout\": 2, \"Dalc\": 1, \"Walc\": 1, \"absences\": 0, \"G3\": 14, \"result\": \"pass\"}, {\"sex\": \"M\", \"age\": 16, \"studytime\": 2, \"failures\": 0, \"goout\": 2, \"Dalc\": 1, \"Walc\": 1, \"absences\": 2, \"G3\": 16, \"result\": \"pass\"}, {\"sex\": \"M\", \"age\": 17, \"studytime\": 2, \"failures\": 0, \"goout\": 4, \"Dalc\": 1, \"Walc\": 3, \"absences\": 0, \"G3\": 10, \"result\": \"pass\"}, {\"sex\": \"F\", \"age\": 16, \"studytime\": 2, \"failures\": 0, \"goout\": 4, \"Dalc\": 1, \"Walc\": 4, \"absences\": 2, \"G3\": 11, \"result\": \"pass\"}, {\"sex\": \"M\", \"age\": 17, \"studytime\": 2, \"failures\": 0, \"goout\": 3, \"Dalc\": 1, \"Walc\": 1, \"absences\": 4, \"G3\": 11, \"result\": \"pass\"}, {\"sex\": \"M\", \"age\": 16, \"studytime\": 2, \"failures\": 0, \"goout\": 3, \"Dalc\": 1, \"Walc\": 2, \"absences\": 2, \"G3\": 12, \"result\": \"pass\"}, {\"sex\": \"F\", \"age\": 17, \"studytime\": 2, \"failures\": 0, \"goout\": 2, \"Dalc\": 2, \"Walc\": 3, \"absences\": 0, \"G3\": 17, \"result\": \"pass\"}, {\"sex\": \"F\", \"age\": 16, \"studytime\": 2, \"failures\": 0, \"goout\": 2, \"Dalc\": 1, \"Walc\": 2, \"absences\": 14, \"G3\": 12, \"result\": \"pass\"}, {\"sex\": \"M\", \"age\": 17, \"studytime\": 2, \"failures\": 0, \"goout\": 4, \"Dalc\": 2, \"Walc\": 3, \"absences\": 12, \"G3\": 11, \"result\": \"pass\"}, {\"sex\": \"M\", \"age\": 16, \"studytime\": 1, \"failures\": 0, \"goout\": 3, \"Dalc\": 1, \"Walc\": 2, \"absences\": 2, \"G3\": 11, \"result\": \"pass\"}, {\"sex\": \"M\", \"age\": 16, \"studytime\": 2, \"failures\": 0, \"goout\": 3, \"Dalc\": 1, \"Walc\": 2, \"absences\": 0, \"G3\": 15, \"result\": \"pass\"}, {\"sex\": \"M\", \"age\": 17, \"studytime\": 2, \"failures\": 0, \"goout\": 3, \"Dalc\": 1, \"Walc\": 5, \"absences\": 4, \"G3\": 10, \"result\": \"pass\"}, {\"sex\": \"F\", \"age\": 16, \"studytime\": 2, \"failures\": 0, \"goout\": 3, \"Dalc\": 1, \"Walc\": 1, \"absences\": 10, \"G3\": 13, \"result\": \"pass\"}, {\"sex\": \"M\", \"age\": 16, \"studytime\": 1, \"failures\": 0, \"goout\": 2, \"Dalc\": 3, \"Walc\": 4, \"absences\": 8, \"G3\": 10, \"result\": \"pass\"}, {\"sex\": \"M\", \"age\": 16, \"studytime\": 1, \"failures\": 0, \"goout\": 3, \"Dalc\": 1, \"Walc\": 1, \"absences\": 0, \"G3\": 14, \"result\": \"pass\"}, {\"sex\": \"F\", \"age\": 17, \"studytime\": 2, \"failures\": 0, \"goout\": 2, \"Dalc\": 1, \"Walc\": 1, \"absences\": 0, \"G3\": 15, \"result\": \"pass\"}, {\"sex\": \"M\", \"age\": 17, \"studytime\": 1, \"failures\": 0, \"goout\": 3, \"Dalc\": 1, \"Walc\": 2, \"absences\": 4, \"G3\": 16, \"result\": \"pass\"}, {\"sex\": \"M\", \"age\": 16, \"studytime\": 1, \"failures\": 0, \"goout\": 4, \"Dalc\": 3, \"Walc\": 5, \"absences\": 8, \"G3\": 10, \"result\": \"pass\"}, {\"sex\": \"F\", \"age\": 17, \"studytime\": 1, \"failures\": 1, \"goout\": 4, \"Dalc\": 2, \"Walc\": 3, \"absences\": 24, \"G3\": 18, \"result\": \"pass\"}, {\"sex\": \"F\", \"age\": 16, \"studytime\": 2, \"failures\": 0, \"goout\": 2, \"Dalc\": 1, \"Walc\": 2, \"absences\": 0, \"G3\": 10, \"result\": \"pass\"}, {\"sex\": \"F\", \"age\": 16, \"studytime\": 2, \"failures\": 0, \"goout\": 5, \"Dalc\": 1, \"Walc\": 5, \"absences\": 2, \"G3\": 16, \"result\": \"pass\"}, {\"sex\": \"F\", \"age\": 16, \"studytime\": 2, \"failures\": 0, \"goout\": 3, \"Dalc\": 1, \"Walc\": 3, \"absences\": 6, \"G3\": 10, \"result\": \"pass\"}, {\"sex\": \"F\", \"age\": 17, \"studytime\": 2, \"failures\": 0, \"goout\": 4, \"Dalc\": 1, \"Walc\": 3, \"absences\": 4, \"G3\": 10, \"result\": \"pass\"}, {\"sex\": \"F\", \"age\": 16, \"studytime\": 4, \"failures\": 0, \"goout\": 5, \"Dalc\": 1, \"Walc\": 1, \"absences\": 6, \"G3\": 11, \"result\": \"pass\"}, {\"sex\": \"F\", \"age\": 16, \"studytime\": 2, \"failures\": 0, \"goout\": 2, \"Dalc\": 1, \"Walc\": 1, \"absences\": 10, \"G3\": 13, \"result\": \"pass\"}, {\"sex\": \"F\", \"age\": 16, \"studytime\": 1, \"failures\": 0, \"goout\": 2, \"Dalc\": 1, \"Walc\": 4, \"absences\": 6, \"G3\": 10, \"result\": \"pass\"}, {\"sex\": \"M\", \"age\": 17, \"studytime\": 2, \"failures\": 0, \"goout\": 5, \"Dalc\": 4, \"Walc\": 5, \"absences\": 13, \"G3\": 13, \"result\": \"pass\"}, {\"sex\": \"F\", \"age\": 16, \"studytime\": 2, \"failures\": 0, \"goout\": 4, \"Dalc\": 1, \"Walc\": 1, \"absences\": 0, \"G3\": 14, \"result\": \"pass\"}, {\"sex\": \"F\", \"age\": 17, \"studytime\": 1, \"failures\": 0, \"goout\": 1, \"Dalc\": 1, \"Walc\": 2, \"absences\": 12, \"G3\": 10, \"result\": \"pass\"}, {\"sex\": \"F\", \"age\": 17, \"studytime\": 2, \"failures\": 0, \"goout\": 4, \"Dalc\": 1, \"Walc\": 3, \"absences\": 2, \"G3\": 15, \"result\": \"pass\"}, {\"sex\": \"F\", \"age\": 17, \"studytime\": 3, \"failures\": 0, \"goout\": 3, \"Dalc\": 1, \"Walc\": 1, \"absences\": 4, \"G3\": 10, \"result\": \"pass\"}, {\"sex\": \"F\", \"age\": 16, \"studytime\": 2, \"failures\": 0, \"goout\": 1, \"Dalc\": 1, \"Walc\": 1, \"absences\": 2, \"G3\": 17, \"result\": \"pass\"}, {\"sex\": \"M\", \"age\": 18, \"studytime\": 2, \"failures\": 0, \"goout\": 3, \"Dalc\": 5, \"Walc\": 5, \"absences\": 0, \"G3\": 13, \"result\": \"pass\"}, {\"sex\": \"F\", \"age\": 16, \"studytime\": 3, \"failures\": 0, \"goout\": 2, \"Dalc\": 1, \"Walc\": 1, \"absences\": 0, \"G3\": 14, \"result\": \"pass\"}, {\"sex\": \"F\", \"age\": 17, \"studytime\": 2, \"failures\": 0, \"goout\": 4, \"Dalc\": 1, \"Walc\": 3, \"absences\": 10, \"G3\": 15, \"result\": \"pass\"}, {\"sex\": \"M\", \"age\": 17, \"studytime\": 2, \"failures\": 0, \"goout\": 3, \"Dalc\": 1, \"Walc\": 3, \"absences\": 2, \"G3\": 12, \"result\": \"pass\"}, {\"sex\": \"F\", \"age\": 17, \"studytime\": 3, \"failures\": 0, \"goout\": 3, \"Dalc\": 1, \"Walc\": 2, \"absences\": 10, \"G3\": 12, \"result\": \"pass\"}, {\"sex\": \"F\", \"age\": 17, \"studytime\": 2, \"failures\": 0, \"goout\": 3, \"Dalc\": 1, \"Walc\": 2, \"absences\": 14, \"G3\": 14, \"result\": \"pass\"}, {\"sex\": \"M\", \"age\": 17, \"studytime\": 2, \"failures\": 0, \"goout\": 2, \"Dalc\": 1, \"Walc\": 1, \"absences\": 4, \"G3\": 11, \"result\": \"pass\"}, {\"sex\": \"M\", \"age\": 16, \"studytime\": 2, \"failures\": 0, \"goout\": 4, \"Dalc\": 2, \"Walc\": 4, \"absences\": 2, \"G3\": 13, \"result\": \"pass\"}, {\"sex\": \"M\", \"age\": 16, \"studytime\": 3, \"failures\": 0, \"goout\": 3, \"Dalc\": 1, \"Walc\": 3, \"absences\": 10, \"G3\": 10, \"result\": \"pass\"}, {\"sex\": \"M\", \"age\": 17, \"studytime\": 2, \"failures\": 0, \"goout\": 2, \"Dalc\": 5, \"Walc\": 5, \"absences\": 4, \"G3\": 13, \"result\": \"pass\"}, {\"sex\": \"F\", \"age\": 16, \"studytime\": 1, \"failures\": 0, \"goout\": 2, \"Dalc\": 1, \"Walc\": 1, \"absences\": 20, \"G3\": 12, \"result\": \"pass\"}, {\"sex\": \"F\", \"age\": 17, \"studytime\": 2, \"failures\": 0, \"goout\": 1, \"Dalc\": 1, \"Walc\": 1, \"absences\": 2, \"G3\": 11, \"result\": \"pass\"}, {\"sex\": \"M\", \"age\": 17, \"studytime\": 2, \"failures\": 0, \"goout\": 5, \"Dalc\": 1, \"Walc\": 4, \"absences\": 14, \"G3\": 12, \"result\": \"pass\"}, {\"sex\": \"M\", \"age\": 17, \"studytime\": 2, \"failures\": 0, \"goout\": 3, \"Dalc\": 2, \"Walc\": 3, \"absences\": 2, \"G3\": 12, \"result\": \"pass\"}, {\"sex\": \"M\", \"age\": 16, \"studytime\": 1, \"failures\": 0, \"goout\": 2, \"Dalc\": 1, \"Walc\": 2, \"absences\": 0, \"G3\": 12, \"result\": \"pass\"}, {\"sex\": \"M\", \"age\": 16, \"studytime\": 1, \"failures\": 0, \"goout\": 3, \"Dalc\": 1, \"Walc\": 1, \"absences\": 6, \"G3\": 18, \"result\": \"pass\"}, {\"sex\": \"M\", \"age\": 17, \"studytime\": 1, \"failures\": 0, \"goout\": 2, \"Dalc\": 1, \"Walc\": 1, \"absences\": 4, \"G3\": 13, \"result\": \"pass\"}, {\"sex\": \"M\", \"age\": 16, \"studytime\": 1, \"failures\": 0, \"goout\": 2, \"Dalc\": 2, \"Walc\": 4, \"absences\": 0, \"G3\": 15, \"result\": \"pass\"}, {\"sex\": \"M\", \"age\": 16, \"studytime\": 2, \"failures\": 0, \"goout\": 3, \"Dalc\": 1, \"Walc\": 3, \"absences\": 6, \"G3\": 10, \"result\": \"pass\"}, {\"sex\": \"M\", \"age\": 17, \"studytime\": 1, \"failures\": 0, \"goout\": 2, \"Dalc\": 2, \"Walc\": 4, \"absences\": 0, \"G3\": 12, \"result\": \"pass\"}, {\"sex\": \"F\", \"age\": 17, \"studytime\": 4, \"failures\": 0, \"goout\": 3, \"Dalc\": 1, \"Walc\": 1, \"absences\": 6, \"G3\": 13, \"result\": \"pass\"}, {\"sex\": \"M\", \"age\": 19, \"studytime\": 2, \"failures\": 0, \"goout\": 1, \"Dalc\": 1, \"Walc\": 1, \"absences\": 12, \"G3\": 11, \"result\": \"pass\"}, {\"sex\": \"M\", \"age\": 18, \"studytime\": 2, \"failures\": 0, \"goout\": 4, \"Dalc\": 1, \"Walc\": 2, \"absences\": 8, \"G3\": 14, \"result\": \"pass\"}, {\"sex\": \"F\", \"age\": 18, \"studytime\": 2, \"failures\": 0, \"goout\": 2, \"Dalc\": 1, \"Walc\": 3, \"absences\": 21, \"G3\": 18, \"result\": \"pass\"}, {\"sex\": \"M\", \"age\": 18, \"studytime\": 3, \"failures\": 0, \"goout\": 2, \"Dalc\": 1, \"Walc\": 1, \"absences\": 1, \"G3\": 12, \"result\": \"pass\"}, {\"sex\": \"M\", \"age\": 18, \"studytime\": 2, \"failures\": 0, \"goout\": 5, \"Dalc\": 3, \"Walc\": 4, \"absences\": 13, \"G3\": 17, \"result\": \"pass\"}, {\"sex\": \"M\", \"age\": 17, \"studytime\": 2, \"failures\": 0, \"goout\": 4, \"Dalc\": 3, \"Walc\": 4, \"absences\": 2, \"G3\": 10, \"result\": \"pass\"}, {\"sex\": \"F\", \"age\": 18, \"studytime\": 2, \"failures\": 0, \"goout\": 4, \"Dalc\": 2, \"Walc\": 2, \"absences\": 8, \"G3\": 11, \"result\": \"pass\"}, {\"sex\": \"M\", \"age\": 18, \"studytime\": 2, \"failures\": 0, \"goout\": 5, \"Dalc\": 1, \"Walc\": 3, \"absences\": 10, \"G3\": 10, \"result\": \"pass\"}, {\"sex\": \"F\", \"age\": 18, \"studytime\": 4, \"failures\": 0, \"goout\": 5, \"Dalc\": 1, \"Walc\": 3, \"absences\": 4, \"G3\": 14, \"result\": \"pass\"}, {\"sex\": \"F\", \"age\": 18, \"studytime\": 2, \"failures\": 0, \"goout\": 3, \"Dalc\": 1, \"Walc\": 1, \"absences\": 2, \"G3\": 11, \"result\": \"pass\"}, {\"sex\": \"M\", \"age\": 17, \"studytime\": 2, \"failures\": 0, \"goout\": 2, \"Dalc\": 2, \"Walc\": 2, \"absences\": 2, \"G3\": 14, \"result\": \"pass\"}, {\"sex\": \"F\", \"age\": 17, \"studytime\": 2, \"failures\": 0, \"goout\": 3, \"Dalc\": 1, \"Walc\": 1, \"absences\": 2, \"G3\": 10, \"result\": \"pass\"}, {\"sex\": \"F\", \"age\": 17, \"studytime\": 2, \"failures\": 0, \"goout\": 4, \"Dalc\": 2, \"Walc\": 3, \"absences\": 6, \"G3\": 12, \"result\": \"pass\"}, {\"sex\": \"M\", \"age\": 18, \"studytime\": 1, \"failures\": 0, \"goout\": 3, \"Dalc\": 1, \"Walc\": 2, \"absences\": 8, \"G3\": 10, \"result\": \"pass\"}, {\"sex\": \"M\", \"age\": 17, \"studytime\": 1, \"failures\": 1, \"goout\": 4, \"Dalc\": 3, \"Walc\": 4, \"absences\": 19, \"G3\": 10, \"result\": \"pass\"}, {\"sex\": \"F\", \"age\": 18, \"studytime\": 4, \"failures\": 0, \"goout\": 2, \"Dalc\": 1, \"Walc\": 1, \"absences\": 1, \"G3\": 12, \"result\": \"pass\"}, {\"sex\": \"F\", \"age\": 18, \"studytime\": 2, \"failures\": 0, \"goout\": 4, \"Dalc\": 1, \"Walc\": 1, \"absences\": 4, \"G3\": 10, \"result\": \"pass\"}, {\"sex\": \"F\", \"age\": 17, \"studytime\": 2, \"failures\": 0, \"goout\": 5, \"Dalc\": 1, \"Walc\": 2, \"absences\": 4, \"G3\": 11, \"result\": \"pass\"}, {\"sex\": \"M\", \"age\": 17, \"studytime\": 2, \"failures\": 0, \"goout\": 3, \"Dalc\": 1, \"Walc\": 2, \"absences\": 2, \"G3\": 11, \"result\": \"pass\"}, {\"sex\": \"F\", \"age\": 18, \"studytime\": 3, \"failures\": 0, \"goout\": 3, \"Dalc\": 1, \"Walc\": 2, \"absences\": 5, \"G3\": 19, \"result\": \"pass\"}, {\"sex\": \"F\", \"age\": 17, \"studytime\": 3, \"failures\": 0, \"goout\": 3, \"Dalc\": 1, \"Walc\": 1, \"absences\": 6, \"G3\": 12, \"result\": \"pass\"}, {\"sex\": \"M\", \"age\": 18, \"studytime\": 3, \"failures\": 0, \"goout\": 4, \"Dalc\": 1, \"Walc\": 3, \"absences\": 6, \"G3\": 14, \"result\": \"pass\"}, {\"sex\": \"M\", \"age\": 18, \"studytime\": 2, \"failures\": 0, \"goout\": 3, \"Dalc\": 1, \"Walc\": 1, \"absences\": 9, \"G3\": 15, \"result\": \"pass\"}, {\"sex\": \"M\", \"age\": 18, \"studytime\": 2, \"failures\": 0, \"goout\": 2, \"Dalc\": 1, \"Walc\": 4, \"absences\": 11, \"G3\": 11, \"result\": \"pass\"}, {\"sex\": \"F\", \"age\": 17, \"studytime\": 3, \"failures\": 0, \"goout\": 2, \"Dalc\": 1, \"Walc\": 2, \"absences\": 0, \"G3\": 15, \"result\": \"pass\"}, {\"sex\": \"F\", \"age\": 18, \"studytime\": 2, \"failures\": 1, \"goout\": 3, \"Dalc\": 1, \"Walc\": 1, \"absences\": 12, \"G3\": 13, \"result\": \"pass\"}, {\"sex\": \"F\", \"age\": 17, \"studytime\": 4, \"failures\": 0, \"goout\": 2, \"Dalc\": 1, \"Walc\": 1, \"absences\": 6, \"G3\": 18, \"result\": \"pass\"}, {\"sex\": \"M\", \"age\": 18, \"studytime\": 3, \"failures\": 0, \"goout\": 2, \"Dalc\": 1, \"Walc\": 1, \"absences\": 8, \"G3\": 14, \"result\": \"pass\"}, {\"sex\": \"M\", \"age\": 17, \"studytime\": 1, \"failures\": 0, \"goout\": 3, \"Dalc\": 1, \"Walc\": 3, \"absences\": 4, \"G3\": 11, \"result\": \"pass\"}, {\"sex\": \"F\", \"age\": 18, \"studytime\": 4, \"failures\": 0, \"goout\": 3, \"Dalc\": 1, \"Walc\": 1, \"absences\": 0, \"G3\": 14, \"result\": \"pass\"}, {\"sex\": \"M\", \"age\": 18, \"studytime\": 1, \"failures\": 0, \"goout\": 2, \"Dalc\": 2, \"Walc\": 2, \"absences\": 5, \"G3\": 16, \"result\": \"pass\"}, {\"sex\": \"F\", \"age\": 18, \"studytime\": 2, \"failures\": 0, \"goout\": 4, \"Dalc\": 1, \"Walc\": 1, \"absences\": 14, \"G3\": 11, \"result\": \"pass\"}, {\"sex\": \"M\", \"age\": 17, \"studytime\": 1, \"failures\": 0, \"goout\": 1, \"Dalc\": 2, \"Walc\": 2, \"absences\": 0, \"G3\": 10, \"result\": \"pass\"}, {\"sex\": \"F\", \"age\": 17, \"studytime\": 3, \"failures\": 0, \"goout\": 3, \"Dalc\": 1, \"Walc\": 1, \"absences\": 0, \"G3\": 14, \"result\": \"pass\"}, {\"sex\": \"F\", \"age\": 17, \"studytime\": 4, \"failures\": 0, \"goout\": 2, \"Dalc\": 1, \"Walc\": 2, \"absences\": 0, \"G3\": 18, \"result\": \"pass\"}, {\"sex\": \"M\", \"age\": 19, \"studytime\": 2, \"failures\": 1, \"goout\": 4, \"Dalc\": 1, \"Walc\": 1, \"absences\": 20, \"G3\": 13, \"result\": \"pass\"}, {\"sex\": \"F\", \"age\": 18, \"studytime\": 2, \"failures\": 1, \"goout\": 3, \"Dalc\": 1, \"Walc\": 1, \"absences\": 8, \"G3\": 12, \"result\": \"pass\"}, {\"sex\": \"M\", \"age\": 20, \"studytime\": 1, \"failures\": 0, \"goout\": 3, \"Dalc\": 1, \"Walc\": 1, \"absences\": 0, \"G3\": 18, \"result\": \"pass\"}, {\"sex\": \"M\", \"age\": 19, \"studytime\": 2, \"failures\": 1, \"goout\": 3, \"Dalc\": 1, \"Walc\": 2, \"absences\": 0, \"G3\": 12, \"result\": \"pass\"}, {\"sex\": \"F\", \"age\": 19, \"studytime\": 2, \"failures\": 1, \"goout\": 3, \"Dalc\": 1, \"Walc\": 3, \"absences\": 18, \"G3\": 10, \"result\": \"pass\"}, {\"sex\": \"F\", \"age\": 19, \"studytime\": 2, \"failures\": 0, \"goout\": 1, \"Dalc\": 1, \"Walc\": 1, \"absences\": 20, \"G3\": 13, \"result\": \"pass\"}, {\"sex\": \"M\", \"age\": 19, \"studytime\": 2, \"failures\": 1, \"goout\": 2, \"Dalc\": 2, \"Walc\": 2, \"absences\": 3, \"G3\": 11, \"result\": \"pass\"}, {\"sex\": \"F\", \"age\": 19, \"studytime\": 2, \"failures\": 1, \"goout\": 2, \"Dalc\": 1, \"Walc\": 2, \"absences\": 22, \"G3\": 11, \"result\": \"pass\"}, {\"sex\": \"F\", \"age\": 19, \"studytime\": 3, \"failures\": 2, \"goout\": 2, \"Dalc\": 1, \"Walc\": 1, \"absences\": 14, \"G3\": 13, \"result\": \"pass\"}, {\"sex\": \"F\", \"age\": 19, \"studytime\": 3, \"failures\": 1, \"goout\": 2, \"Dalc\": 1, \"Walc\": 1, \"absences\": 40, \"G3\": 11, \"result\": \"pass\"}, {\"sex\": \"F\", \"age\": 17, \"studytime\": 3, \"failures\": 0, \"goout\": 4, \"Dalc\": 2, \"Walc\": 5, \"absences\": 0, \"G3\": 10, \"result\": \"pass\"}, {\"sex\": \"F\", \"age\": 18, \"studytime\": 2, \"failures\": 0, \"goout\": 4, \"Dalc\": 3, \"Walc\": 3, \"absences\": 2, \"G3\": 11, \"result\": \"pass\"}, {\"sex\": \"F\", \"age\": 17, \"studytime\": 2, \"failures\": 0, \"goout\": 2, \"Dalc\": 1, \"Walc\": 2, \"absences\": 23, \"G3\": 13, \"result\": \"pass\"}, {\"sex\": \"F\", \"age\": 17, \"studytime\": 3, \"failures\": 0, \"goout\": 2, \"Dalc\": 2, \"Walc\": 2, \"absences\": 3, \"G3\": 11, \"result\": \"pass\"}, {\"sex\": \"F\", \"age\": 17, \"studytime\": 3, \"failures\": 0, \"goout\": 3, \"Dalc\": 2, \"Walc\": 3, \"absences\": 1, \"G3\": 15, \"result\": \"pass\"}, {\"sex\": \"F\", \"age\": 17, \"studytime\": 3, \"failures\": 0, \"goout\": 3, \"Dalc\": 2, \"Walc\": 3, \"absences\": 0, \"G3\": 15, \"result\": \"pass\"}, {\"sex\": \"M\", \"age\": 18, \"studytime\": 3, \"failures\": 0, \"goout\": 3, \"Dalc\": 2, \"Walc\": 2, \"absences\": 3, \"G3\": 11, \"result\": \"pass\"}, {\"sex\": \"M\", \"age\": 17, \"studytime\": 1, \"failures\": 0, \"goout\": 5, \"Dalc\": 3, \"Walc\": 5, \"absences\": 3, \"G3\": 16, \"result\": \"pass\"}, {\"sex\": \"M\", \"age\": 17, \"studytime\": 1, \"failures\": 0, \"goout\": 5, \"Dalc\": 5, \"Walc\": 5, \"absences\": 8, \"G3\": 10, \"result\": \"pass\"}, {\"sex\": \"F\", \"age\": 17, \"studytime\": 3, \"failures\": 0, \"goout\": 3, \"Dalc\": 1, \"Walc\": 2, \"absences\": 4, \"G3\": 14, \"result\": \"pass\"}, {\"sex\": \"F\", \"age\": 17, \"studytime\": 3, \"failures\": 0, \"goout\": 3, \"Dalc\": 1, \"Walc\": 1, \"absences\": 7, \"G3\": 14, \"result\": \"pass\"}, {\"sex\": \"F\", \"age\": 17, \"studytime\": 3, \"failures\": 0, \"goout\": 5, \"Dalc\": 1, \"Walc\": 3, \"absences\": 16, \"G3\": 15, \"result\": \"pass\"}, {\"sex\": \"F\", \"age\": 19, \"studytime\": 3, \"failures\": 1, \"goout\": 3, \"Dalc\": 1, \"Walc\": 2, \"absences\": 12, \"G3\": 13, \"result\": \"pass\"}, {\"sex\": \"F\", \"age\": 18, \"studytime\": 4, \"failures\": 0, \"goout\": 3, \"Dalc\": 1, \"Walc\": 1, \"absences\": 7, \"G3\": 17, \"result\": \"pass\"}, {\"sex\": \"F\", \"age\": 17, \"studytime\": 2, \"failures\": 0, \"goout\": 3, \"Dalc\": 2, \"Walc\": 3, \"absences\": 4, \"G3\": 10, \"result\": \"pass\"}, {\"sex\": \"F\", \"age\": 19, \"studytime\": 3, \"failures\": 1, \"goout\": 4, \"Dalc\": 1, \"Walc\": 3, \"absences\": 4, \"G3\": 11, \"result\": \"pass\"}, {\"sex\": \"M\", \"age\": 18, \"studytime\": 2, \"failures\": 0, \"goout\": 3, \"Dalc\": 1, \"Walc\": 3, \"absences\": 11, \"G3\": 15, \"result\": \"pass\"}, {\"sex\": \"F\", \"age\": 18, \"studytime\": 3, \"failures\": 0, \"goout\": 3, \"Dalc\": 1, \"Walc\": 2, \"absences\": 4, \"G3\": 10, \"result\": \"pass\"}, {\"sex\": \"F\", \"age\": 18, \"studytime\": 3, \"failures\": 0, \"goout\": 3, \"Dalc\": 2, \"Walc\": 3, \"absences\": 7, \"G3\": 14, \"result\": \"pass\"}, {\"sex\": \"M\", \"age\": 18, \"studytime\": 3, \"failures\": 0, \"goout\": 2, \"Dalc\": 1, \"Walc\": 2, \"absences\": 9, \"G3\": 16, \"result\": \"pass\"}, {\"sex\": \"F\", \"age\": 17, \"studytime\": 3, \"failures\": 0, \"goout\": 3, \"Dalc\": 1, \"Walc\": 3, \"absences\": 0, \"G3\": 15, \"result\": \"pass\"}, {\"sex\": \"M\", \"age\": 18, \"studytime\": 1, \"failures\": 1, \"goout\": 5, \"Dalc\": 5, \"Walc\": 5, \"absences\": 10, \"G3\": 13, \"result\": \"pass\"}, {\"sex\": \"M\", \"age\": 17, \"studytime\": 2, \"failures\": 0, \"goout\": 4, \"Dalc\": 2, \"Walc\": 3, \"absences\": 2, \"G3\": 13, \"result\": \"pass\"}, {\"sex\": \"M\", \"age\": 17, \"studytime\": 2, \"failures\": 0, \"goout\": 5, \"Dalc\": 1, \"Walc\": 3, \"absences\": 4, \"G3\": 11, \"result\": \"pass\"}, {\"sex\": \"F\", \"age\": 17, \"studytime\": 2, \"failures\": 0, \"goout\": 3, \"Dalc\": 1, \"Walc\": 2, \"absences\": 4, \"G3\": 13, \"result\": \"pass\"}, {\"sex\": \"F\", \"age\": 17, \"studytime\": 2, \"failures\": 0, \"goout\": 3, \"Dalc\": 1, \"Walc\": 2, \"absences\": 2, \"G3\": 11, \"result\": \"pass\"}, {\"sex\": \"M\", \"age\": 18, \"studytime\": 1, \"failures\": 0, \"goout\": 2, \"Dalc\": 1, \"Walc\": 2, \"absences\": 4, \"G3\": 10, \"result\": \"pass\"}, {\"sex\": \"F\", \"age\": 18, \"studytime\": 3, \"failures\": 0, \"goout\": 2, \"Dalc\": 1, \"Walc\": 1, \"absences\": 0, \"G3\": 16, \"result\": \"pass\"}, {\"sex\": \"F\", \"age\": 18, \"studytime\": 2, \"failures\": 0, \"goout\": 4, \"Dalc\": 1, \"Walc\": 4, \"absences\": 0, \"G3\": 13, \"result\": \"pass\"}, {\"sex\": \"M\", \"age\": 18, \"studytime\": 2, \"failures\": 1, \"goout\": 3, \"Dalc\": 2, \"Walc\": 3, \"absences\": 2, \"G3\": 12, \"result\": \"pass\"}, {\"sex\": \"F\", \"age\": 18, \"studytime\": 2, \"failures\": 0, \"goout\": 2, \"Dalc\": 1, \"Walc\": 3, \"absences\": 0, \"G3\": 10, \"result\": \"pass\"}, {\"sex\": \"F\", \"age\": 17, \"studytime\": 2, \"failures\": 0, \"goout\": 4, \"Dalc\": 1, \"Walc\": 1, \"absences\": 0, \"G3\": 15, \"result\": \"pass\"}, {\"sex\": \"F\", \"age\": 17, \"studytime\": 2, \"failures\": 0, \"goout\": 2, \"Dalc\": 1, \"Walc\": 2, \"absences\": 0, \"G3\": 12, \"result\": \"pass\"}, {\"sex\": \"M\", \"age\": 18, \"studytime\": 2, \"failures\": 0, \"goout\": 4, \"Dalc\": 2, \"Walc\": 4, \"absences\": 4, \"G3\": 10, \"result\": \"pass\"}, {\"sex\": \"M\", \"age\": 18, \"studytime\": 3, \"failures\": 0, \"goout\": 2, \"Dalc\": 2, \"Walc\": 2, \"absences\": 0, \"G3\": 13, \"result\": \"pass\"}, {\"sex\": \"F\", \"age\": 18, \"studytime\": 1, \"failures\": 0, \"goout\": 3, \"Dalc\": 1, \"Walc\": 2, \"absences\": 0, \"G3\": 10, \"result\": \"pass\"}, {\"sex\": \"F\", \"age\": 18, \"studytime\": 2, \"failures\": 0, \"goout\": 2, \"Dalc\": 4, \"Walc\": 2, \"absences\": 10, \"G3\": 11, \"result\": \"pass\"}, {\"sex\": \"M\", \"age\": 18, \"studytime\": 1, \"failures\": 0, \"goout\": 3, \"Dalc\": 2, \"Walc\": 3, \"absences\": 3, \"G3\": 12, \"result\": \"pass\"}, {\"sex\": \"F\", \"age\": 17, \"studytime\": 3, \"failures\": 0, \"goout\": 3, \"Dalc\": 1, \"Walc\": 1, \"absences\": 8, \"G3\": 11, \"result\": \"pass\"}, {\"sex\": \"F\", \"age\": 18, \"studytime\": 3, \"failures\": 0, \"goout\": 4, \"Dalc\": 1, \"Walc\": 1, \"absences\": 0, \"G3\": 19, \"result\": \"pass\"}, {\"sex\": \"F\", \"age\": 18, \"studytime\": 3, \"failures\": 0, \"goout\": 2, \"Dalc\": 1, \"Walc\": 2, \"absences\": 2, \"G3\": 10, \"result\": \"pass\"}, {\"sex\": \"F\", \"age\": 20, \"studytime\": 3, \"failures\": 2, \"goout\": 3, \"Dalc\": 1, \"Walc\": 1, \"absences\": 4, \"G3\": 15, \"result\": \"pass\"}, {\"sex\": \"F\", \"age\": 18, \"studytime\": 2, \"failures\": 0, \"goout\": 3, \"Dalc\": 3, \"Walc\": 4, \"absences\": 4, \"G3\": 10, \"result\": \"pass\"}, {\"sex\": \"F\", \"age\": 18, \"studytime\": 2, \"failures\": 0, \"goout\": 3, \"Dalc\": 1, \"Walc\": 2, \"absences\": 0, \"G3\": 15, \"result\": \"pass\"}, {\"sex\": \"F\", \"age\": 17, \"studytime\": 2, \"failures\": 0, \"goout\": 4, \"Dalc\": 2, \"Walc\": 3, \"absences\": 17, \"G3\": 10, \"result\": \"pass\"}, {\"sex\": \"M\", \"age\": 18, \"studytime\": 2, \"failures\": 0, \"goout\": 4, \"Dalc\": 1, \"Walc\": 4, \"absences\": 4, \"G3\": 14, \"result\": \"pass\"}, {\"sex\": \"M\", \"age\": 17, \"studytime\": 2, \"failures\": 0, \"goout\": 3, \"Dalc\": 1, \"Walc\": 1, \"absences\": 2, \"G3\": 10, \"result\": \"pass\"}, {\"sex\": \"F\", \"age\": 18, \"studytime\": 3, \"failures\": 0, \"goout\": 3, \"Dalc\": 1, \"Walc\": 3, \"absences\": 2, \"G3\": 10, \"result\": \"pass\"}, {\"sex\": \"M\", \"age\": 17, \"studytime\": 1, \"failures\": 0, \"goout\": 5, \"Dalc\": 3, \"Walc\": 4, \"absences\": 3, \"G3\": 16, \"result\": \"pass\"}, {\"sex\": \"M\", \"age\": 18, \"studytime\": 1, \"failures\": 0, \"goout\": 1, \"Dalc\": 3, \"Walc\": 4, \"absences\": 0, \"G3\": 10, \"result\": \"pass\"}, {\"sex\": \"F\", \"age\": 18, \"studytime\": 2, \"failures\": 0, \"goout\": 4, \"Dalc\": 1, \"Walc\": 1, \"absences\": 6, \"G3\": 6, \"result\": \"fail\"}, {\"sex\": \"F\", \"age\": 17, \"studytime\": 2, \"failures\": 0, \"goout\": 3, \"Dalc\": 1, \"Walc\": 1, \"absences\": 4, \"G3\": 6, \"result\": \"fail\"}, {\"sex\": \"F\", \"age\": 17, \"studytime\": 2, \"failures\": 0, \"goout\": 4, \"Dalc\": 1, \"Walc\": 1, \"absences\": 6, \"G3\": 6, \"result\": \"fail\"}, {\"sex\": \"F\", \"age\": 15, \"studytime\": 2, \"failures\": 0, \"goout\": 3, \"Dalc\": 1, \"Walc\": 2, \"absences\": 0, \"G3\": 9, \"result\": \"fail\"}, {\"sex\": \"M\", \"age\": 17, \"studytime\": 1, \"failures\": 3, \"goout\": 5, \"Dalc\": 2, \"Walc\": 4, \"absences\": 16, \"G3\": 5, \"result\": \"fail\"}, {\"sex\": \"F\", \"age\": 15, \"studytime\": 3, \"failures\": 0, \"goout\": 2, \"Dalc\": 1, \"Walc\": 1, \"absences\": 2, \"G3\": 8, \"result\": \"fail\"}, {\"sex\": \"F\", \"age\": 16, \"studytime\": 1, \"failures\": 2, \"goout\": 2, \"Dalc\": 1, \"Walc\": 3, \"absences\": 14, \"G3\": 8, \"result\": \"fail\"}, {\"sex\": \"F\", \"age\": 15, \"studytime\": 1, \"failures\": 0, \"goout\": 1, \"Dalc\": 1, \"Walc\": 1, \"absences\": 0, \"G3\": 6, \"result\": \"fail\"}, {\"sex\": \"F\", \"age\": 16, \"studytime\": 2, \"failures\": 1, \"goout\": 3, \"Dalc\": 2, \"Walc\": 2, \"absences\": 14, \"G3\": 9, \"result\": \"fail\"}, {\"sex\": \"F\", \"age\": 15, \"studytime\": 2, \"failures\": 0, \"goout\": 2, \"Dalc\": 1, \"Walc\": 1, \"absences\": 8, \"G3\": 6, \"result\": \"fail\"}, {\"sex\": \"F\", \"age\": 15, \"studytime\": 2, \"failures\": 1, \"goout\": 4, \"Dalc\": 1, \"Walc\": 1, \"absences\": 2, \"G3\": 7, \"result\": \"fail\"}, {\"sex\": \"M\", \"age\": 15, \"studytime\": 2, \"failures\": 0, \"goout\": 2, \"Dalc\": 1, \"Walc\": 1, \"absences\": 2, \"G3\": 9, \"result\": \"fail\"}, {\"sex\": \"F\", \"age\": 16, \"studytime\": 2, \"failures\": 0, \"goout\": 3, \"Dalc\": 1, \"Walc\": 1, \"absences\": 4, \"G3\": 9, \"result\": \"fail\"}, {\"sex\": \"F\", \"age\": 16, \"studytime\": 3, \"failures\": 0, \"goout\": 4, \"Dalc\": 2, \"Walc\": 4, \"absences\": 2, \"G3\": 9, \"result\": \"fail\"}, {\"sex\": \"F\", \"age\": 16, \"studytime\": 4, \"failures\": 0, \"goout\": 3, \"Dalc\": 1, \"Walc\": 2, \"absences\": 4, \"G3\": 6, \"result\": \"fail\"}, {\"sex\": \"F\", \"age\": 15, \"studytime\": 2, \"failures\": 0, \"goout\": 3, \"Dalc\": 1, \"Walc\": 3, \"absences\": 2, \"G3\": 8, \"result\": \"fail\"}, {\"sex\": \"F\", \"age\": 15, \"studytime\": 2, \"failures\": 2, \"goout\": 4, \"Dalc\": 2, \"Walc\": 4, \"absences\": 2, \"G3\": 5, \"result\": \"fail\"}, {\"sex\": \"F\", \"age\": 16, \"studytime\": 2, \"failures\": 0, \"goout\": 3, \"Dalc\": 1, \"Walc\": 2, \"absences\": 12, \"G3\": 5, \"result\": \"fail\"}, {\"sex\": \"F\", \"age\": 15, \"studytime\": 2, \"failures\": 0, \"goout\": 4, \"Dalc\": 1, \"Walc\": 1, \"absences\": 10, \"G3\": 6, \"result\": \"fail\"}, {\"sex\": \"F\", \"age\": 15, \"studytime\": 2, \"failures\": 2, \"goout\": 4, \"Dalc\": 2, \"Walc\": 3, \"absences\": 6, \"G3\": 8, \"result\": \"fail\"}, {\"sex\": \"F\", \"age\": 16, \"studytime\": 2, \"failures\": 0, \"goout\": 4, \"Dalc\": 1, \"Walc\": 2, \"absences\": 4, \"G3\": 6, \"result\": \"fail\"}, {\"sex\": \"M\", \"age\": 16, \"studytime\": 2, \"failures\": 0, \"goout\": 3, \"Dalc\": 3, \"Walc\": 5, \"absences\": 18, \"G3\": 7, \"result\": \"fail\"}, {\"sex\": \"F\", \"age\": 16, \"studytime\": 3, \"failures\": 0, \"goout\": 3, \"Dalc\": 1, \"Walc\": 3, \"absences\": 0, \"G3\": 8, \"result\": \"fail\"}, {\"sex\": \"F\", \"age\": 16, \"studytime\": 2, \"failures\": 0, \"goout\": 3, \"Dalc\": 2, \"Walc\": 3, \"absences\": 4, \"G3\": 6, \"result\": \"fail\"}, {\"sex\": \"F\", \"age\": 16, \"studytime\": 3, \"failures\": 0, \"goout\": 5, \"Dalc\": 1, \"Walc\": 1, \"absences\": 0, \"G3\": 8, \"result\": \"fail\"}, {\"sex\": \"M\", \"age\": 16, \"studytime\": 1, \"failures\": 0, \"goout\": 5, \"Dalc\": 5, \"Walc\": 5, \"absences\": 14, \"G3\": 5, \"result\": \"fail\"}, {\"sex\": \"F\", \"age\": 15, \"studytime\": 2, \"failures\": 0, \"goout\": 5, \"Dalc\": 1, \"Walc\": 1, \"absences\": 26, \"G3\": 6, \"result\": \"fail\"}, {\"sex\": \"F\", \"age\": 15, \"studytime\": 4, \"failures\": 0, \"goout\": 2, \"Dalc\": 1, \"Walc\": 1, \"absences\": 8, \"G3\": 8, \"result\": \"fail\"}, {\"sex\": \"M\", \"age\": 15, \"studytime\": 2, \"failures\": 0, \"goout\": 2, \"Dalc\": 1, \"Walc\": 1, \"absences\": 8, \"G3\": 9, \"result\": \"fail\"}, {\"sex\": \"M\", \"age\": 17, \"studytime\": 2, \"failures\": 1, \"goout\": 4, \"Dalc\": 1, \"Walc\": 4, \"absences\": 20, \"G3\": 8, \"result\": \"fail\"}, {\"sex\": \"F\", \"age\": 16, \"studytime\": 2, \"failures\": 0, \"goout\": 4, \"Dalc\": 1, \"Walc\": 1, \"absences\": 0, \"G3\": 8, \"result\": \"fail\"}, {\"sex\": \"F\", \"age\": 19, \"studytime\": 2, \"failures\": 3, \"goout\": 2, \"Dalc\": 1, \"Walc\": 1, \"absences\": 2, \"G3\": 9, \"result\": \"fail\"}, {\"sex\": \"M\", \"age\": 18, \"studytime\": 1, \"failures\": 2, \"goout\": 3, \"Dalc\": 1, \"Walc\": 2, \"absences\": 0, \"G3\": 0, \"result\": \"fail\"}, {\"sex\": \"F\", \"age\": 15, \"studytime\": 3, \"failures\": 2, \"goout\": 2, \"Dalc\": 2, \"Walc\": 2, \"absences\": 0, \"G3\": 0, \"result\": \"fail\"}, {\"sex\": \"F\", \"age\": 15, \"studytime\": 1, \"failures\": 0, \"goout\": 3, \"Dalc\": 1, \"Walc\": 2, \"absences\": 0, \"G3\": 0, \"result\": \"fail\"}, {\"sex\": \"M\", \"age\": 15, \"studytime\": 2, \"failures\": 0, \"goout\": 3, \"Dalc\": 1, \"Walc\": 1, \"absences\": 0, \"G3\": 0, \"result\": \"fail\"}, {\"sex\": \"F\", \"age\": 15, \"studytime\": 3, \"failures\": 0, \"goout\": 3, \"Dalc\": 1, \"Walc\": 1, \"absences\": 0, \"G3\": 0, \"result\": \"fail\"}, {\"sex\": \"M\", \"age\": 17, \"studytime\": 2, \"failures\": 0, \"goout\": 5, \"Dalc\": 2, \"Walc\": 4, \"absences\": 0, \"G3\": 0, \"result\": \"fail\"}, {\"sex\": \"F\", \"age\": 16, \"studytime\": 1, \"failures\": 2, \"goout\": 2, \"Dalc\": 1, \"Walc\": 1, \"absences\": 0, \"G3\": 0, \"result\": \"fail\"}, {\"sex\": \"M\", \"age\": 15, \"studytime\": 4, \"failures\": 0, \"goout\": 2, \"Dalc\": 1, \"Walc\": 1, \"absences\": 0, \"G3\": 0, \"result\": \"fail\"}, {\"sex\": \"M\", \"age\": 16, \"studytime\": 1, \"failures\": 2, \"goout\": 3, \"Dalc\": 2, \"Walc\": 2, \"absences\": 8, \"G3\": 9, \"result\": \"fail\"}, {\"sex\": \"M\", \"age\": 17, \"studytime\": 1, \"failures\": 3, \"goout\": 5, \"Dalc\": 1, \"Walc\": 2, \"absences\": 0, \"G3\": 0, \"result\": \"fail\"}, {\"sex\": \"F\", \"age\": 15, \"studytime\": 2, \"failures\": 3, \"goout\": 2, \"Dalc\": 1, \"Walc\": 1, \"absences\": 0, \"G3\": 0, \"result\": \"fail\"}, {\"sex\": \"M\", \"age\": 16, \"studytime\": 1, \"failures\": 0, \"goout\": 2, \"Dalc\": 2, \"Walc\": 1, \"absences\": 0, \"G3\": 0, \"result\": \"fail\"}, {\"sex\": \"M\", \"age\": 18, \"studytime\": 1, \"failures\": 3, \"goout\": 5, \"Dalc\": 2, \"Walc\": 5, \"absences\": 0, \"G3\": 0, \"result\": \"fail\"}, {\"sex\": \"M\", \"age\": 19, \"studytime\": 1, \"failures\": 3, \"goout\": 4, \"Dalc\": 1, \"Walc\": 1, \"absences\": 0, \"G3\": 0, \"result\": \"fail\"}, {\"sex\": \"M\", \"age\": 15, \"studytime\": 2, \"failures\": 0, \"goout\": 4, \"Dalc\": 1, \"Walc\": 1, \"absences\": 2, \"G3\": 8, \"result\": \"fail\"}, {\"sex\": \"M\", \"age\": 17, \"studytime\": 1, \"failures\": 2, \"goout\": 2, \"Dalc\": 2, \"Walc\": 2, \"absences\": 0, \"G3\": 0, \"result\": \"fail\"}, {\"sex\": \"M\", \"age\": 15, \"studytime\": 2, \"failures\": 2, \"goout\": 4, \"Dalc\": 1, \"Walc\": 4, \"absences\": 6, \"G3\": 7, \"result\": \"fail\"}, {\"sex\": \"M\", \"age\": 16, \"studytime\": 1, \"failures\": 1, \"goout\": 4, \"Dalc\": 2, \"Walc\": 4, \"absences\": 0, \"G3\": 0, \"result\": \"fail\"}, {\"sex\": \"M\", \"age\": 17, \"studytime\": 2, \"failures\": 3, \"goout\": 5, \"Dalc\": 1, \"Walc\": 5, \"absences\": 0, \"G3\": 7, \"result\": \"fail\"}, {\"sex\": \"F\", \"age\": 16, \"studytime\": 2, \"failures\": 0, \"goout\": 5, \"Dalc\": 1, \"Walc\": 1, \"absences\": 0, \"G3\": 0, \"result\": \"fail\"}, {\"sex\": \"M\", \"age\": 16, \"studytime\": 1, \"failures\": 2, \"goout\": 5, \"Dalc\": 2, \"Walc\": 4, \"absences\": 0, \"G3\": 0, \"result\": \"fail\"}, {\"sex\": \"F\", \"age\": 16, \"studytime\": 2, \"failures\": 3, \"goout\": 5, \"Dalc\": 1, \"Walc\": 1, \"absences\": 0, \"G3\": 0, \"result\": \"fail\"}, {\"sex\": \"F\", \"age\": 16, \"studytime\": 2, \"failures\": 0, \"goout\": 5, \"Dalc\": 1, \"Walc\": 1, \"absences\": 4, \"G3\": 9, \"result\": \"fail\"}, {\"sex\": \"M\", \"age\": 17, \"studytime\": 2, \"failures\": 0, \"goout\": 4, \"Dalc\": 4, \"Walc\": 4, \"absences\": 4, \"G3\": 9, \"result\": \"fail\"}, {\"sex\": \"M\", \"age\": 17, \"studytime\": 2, \"failures\": 0, \"goout\": 4, \"Dalc\": 1, \"Walc\": 4, \"absences\": 4, \"G3\": 6, \"result\": \"fail\"}, {\"sex\": \"M\", \"age\": 16, \"studytime\": 1, \"failures\": 0, \"goout\": 3, \"Dalc\": 3, \"Walc\": 4, \"absences\": 10, \"G3\": 9, \"result\": \"fail\"}, {\"sex\": \"M\", \"age\": 16, \"studytime\": 2, \"failures\": 0, \"goout\": 3, \"Dalc\": 2, \"Walc\": 3, \"absences\": 10, \"G3\": 8, \"result\": \"fail\"}, {\"sex\": \"F\", \"age\": 17, \"studytime\": 2, \"failures\": 0, \"goout\": 3, \"Dalc\": 2, \"Walc\": 3, \"absences\": 56, \"G3\": 8, \"result\": \"fail\"}, {\"sex\": \"F\", \"age\": 17, \"studytime\": 2, \"failures\": 0, \"goout\": 3, \"Dalc\": 1, \"Walc\": 3, \"absences\": 6, \"G3\": 9, \"result\": \"fail\"}, {\"sex\": \"F\", \"age\": 17, \"studytime\": 2, \"failures\": 0, \"goout\": 3, \"Dalc\": 1, \"Walc\": 1, \"absences\": 0, \"G3\": 9, \"result\": \"fail\"}, {\"sex\": \"M\", \"age\": 17, \"studytime\": 2, \"failures\": 0, \"goout\": 4, \"Dalc\": 4, \"Walc\": 5, \"absences\": 12, \"G3\": 8, \"result\": \"fail\"}, {\"sex\": \"F\", \"age\": 17, \"studytime\": 1, \"failures\": 0, \"goout\": 2, \"Dalc\": 1, \"Walc\": 2, \"absences\": 18, \"G3\": 6, \"result\": \"fail\"}, {\"sex\": \"F\", \"age\": 17, \"studytime\": 3, \"failures\": 1, \"goout\": 3, \"Dalc\": 3, \"Walc\": 4, \"absences\": 28, \"G3\": 9, \"result\": \"fail\"}, {\"sex\": \"F\", \"age\": 16, \"studytime\": 2, \"failures\": 3, \"goout\": 3, \"Dalc\": 2, \"Walc\": 2, \"absences\": 5, \"G3\": 7, \"result\": \"fail\"}, {\"sex\": \"F\", \"age\": 17, \"studytime\": 3, \"failures\": 0, \"goout\": 2, \"Dalc\": 1, \"Walc\": 1, \"absences\": 6, \"G3\": 7, \"result\": \"fail\"}, {\"sex\": \"F\", \"age\": 19, \"studytime\": 4, \"failures\": 0, \"goout\": 3, \"Dalc\": 1, \"Walc\": 2, \"absences\": 10, \"G3\": 8, \"result\": \"fail\"}, {\"sex\": \"M\", \"age\": 18, \"studytime\": 2, \"failures\": 1, \"goout\": 4, \"Dalc\": 2, \"Walc\": 4, \"absences\": 15, \"G3\": 8, \"result\": \"fail\"}, {\"sex\": \"F\", \"age\": 17, \"studytime\": 2, \"failures\": 2, \"goout\": 5, \"Dalc\": 2, \"Walc\": 4, \"absences\": 22, \"G3\": 4, \"result\": \"fail\"}, {\"sex\": \"M\", \"age\": 18, \"studytime\": 2, \"failures\": 1, \"goout\": 4, \"Dalc\": 2, \"Walc\": 4, \"absences\": 13, \"G3\": 8, \"result\": \"fail\"}, {\"sex\": \"F\", \"age\": 17, \"studytime\": 1, \"failures\": 0, \"goout\": 3, \"Dalc\": 1, \"Walc\": 4, \"absences\": 3, \"G3\": 8, \"result\": \"fail\"}, {\"sex\": \"F\", \"age\": 17, \"studytime\": 2, \"failures\": 0, \"goout\": 5, \"Dalc\": 1, \"Walc\": 2, \"absences\": 2, \"G3\": 6, \"result\": \"fail\"}, {\"sex\": \"F\", \"age\": 17, \"studytime\": 3, \"failures\": 1, \"goout\": 4, \"Dalc\": 1, \"Walc\": 1, \"absences\": 0, \"G3\": 0, \"result\": \"fail\"}, {\"sex\": \"F\", \"age\": 18, \"studytime\": 2, \"failures\": 1, \"goout\": 3, \"Dalc\": 1, \"Walc\": 1, \"absences\": 16, \"G3\": 7, \"result\": \"fail\"}, {\"sex\": \"M\", \"age\": 18, \"studytime\": 2, \"failures\": 0, \"goout\": 2, \"Dalc\": 4, \"Walc\": 5, \"absences\": 14, \"G3\": 9, \"result\": \"fail\"}, {\"sex\": \"M\", \"age\": 17, \"studytime\": 2, \"failures\": 0, \"goout\": 5, \"Dalc\": 1, \"Walc\": 3, \"absences\": 14, \"G3\": 9, \"result\": \"fail\"}, {\"sex\": \"M\", \"age\": 16, \"studytime\": 2, \"failures\": 0, \"goout\": 2, \"Dalc\": 1, \"Walc\": 1, \"absences\": 18, \"G3\": 6, \"result\": \"fail\"}, {\"sex\": \"M\", \"age\": 18, \"studytime\": 2, \"failures\": 1, \"goout\": 4, \"Dalc\": 3, \"Walc\": 5, \"absences\": 0, \"G3\": 0, \"result\": \"fail\"}, {\"sex\": \"M\", \"age\": 16, \"studytime\": 1, \"failures\": 0, \"goout\": 5, \"Dalc\": 1, \"Walc\": 1, \"absences\": 0, \"G3\": 0, \"result\": \"fail\"}, {\"sex\": \"F\", \"age\": 18, \"studytime\": 3, \"failures\": 0, \"goout\": 4, \"Dalc\": 1, \"Walc\": 1, \"absences\": 0, \"G3\": 0, \"result\": \"fail\"}, {\"sex\": \"M\", \"age\": 22, \"studytime\": 1, \"failures\": 3, \"goout\": 5, \"Dalc\": 5, \"Walc\": 5, \"absences\": 16, \"G3\": 8, \"result\": \"fail\"}, {\"sex\": \"M\", \"age\": 18, \"studytime\": 2, \"failures\": 1, \"goout\": 3, \"Dalc\": 1, \"Walc\": 3, \"absences\": 8, \"G3\": 5, \"result\": \"fail\"}, {\"sex\": \"M\", \"age\": 18, \"studytime\": 1, \"failures\": 1, \"goout\": 5, \"Dalc\": 2, \"Walc\": 4, \"absences\": 0, \"G3\": 8, \"result\": \"fail\"}, {\"sex\": \"M\", \"age\": 18, \"studytime\": 1, \"failures\": 1, \"goout\": 5, \"Dalc\": 2, \"Walc\": 5, \"absences\": 4, \"G3\": 8, \"result\": \"fail\"}, {\"sex\": \"M\", \"age\": 16, \"studytime\": 1, \"failures\": 0, \"goout\": 2, \"Dalc\": 1, \"Walc\": 3, \"absences\": 0, \"G3\": 8, \"result\": \"fail\"}, {\"sex\": \"M\", \"age\": 17, \"studytime\": 1, \"failures\": 1, \"goout\": 4, \"Dalc\": 1, \"Walc\": 2, \"absences\": 2, \"G3\": 8, \"result\": \"fail\"}, {\"sex\": \"F\", \"age\": 17, \"studytime\": 4, \"failures\": 0, \"goout\": 1, \"Dalc\": 1, \"Walc\": 1, \"absences\": 0, \"G3\": 0, \"result\": \"fail\"}, {\"sex\": \"M\", \"age\": 18, \"studytime\": 2, \"failures\": 0, \"goout\": 2, \"Dalc\": 1, \"Walc\": 1, \"absences\": 2, \"G3\": 8, \"result\": \"fail\"}, {\"sex\": \"F\", \"age\": 17, \"studytime\": 3, \"failures\": 0, \"goout\": 3, \"Dalc\": 1, \"Walc\": 1, \"absences\": 4, \"G3\": 9, \"result\": \"fail\"}, {\"sex\": \"F\", \"age\": 18, \"studytime\": 3, \"failures\": 0, \"goout\": 3, \"Dalc\": 1, \"Walc\": 1, \"absences\": 0, \"G3\": 0, \"result\": \"fail\"}, {\"sex\": \"F\", \"age\": 18, \"studytime\": 2, \"failures\": 0, \"goout\": 5, \"Dalc\": 1, \"Walc\": 2, \"absences\": 0, \"G3\": 0, \"result\": \"fail\"}, {\"sex\": \"F\", \"age\": 19, \"studytime\": 2, \"failures\": 2, \"goout\": 5, \"Dalc\": 3, \"Walc\": 3, \"absences\": 15, \"G3\": 9, \"result\": \"fail\"}, {\"sex\": \"F\", \"age\": 18, \"studytime\": 2, \"failures\": 0, \"goout\": 1, \"Dalc\": 1, \"Walc\": 1, \"absences\": 75, \"G3\": 9, \"result\": \"fail\"}, {\"sex\": \"M\", \"age\": 18, \"studytime\": 1, \"failures\": 0, \"goout\": 4, \"Dalc\": 1, \"Walc\": 4, \"absences\": 22, \"G3\": 9, \"result\": \"fail\"}, {\"sex\": \"F\", \"age\": 18, \"studytime\": 2, \"failures\": 1, \"goout\": 4, \"Dalc\": 1, \"Walc\": 1, \"absences\": 15, \"G3\": 8, \"result\": \"fail\"}, {\"sex\": \"M\", \"age\": 17, \"studytime\": 1, \"failures\": 0, \"goout\": 4, \"Dalc\": 2, \"Walc\": 4, \"absences\": 30, \"G3\": 8, \"result\": \"fail\"}, {\"sex\": \"F\", \"age\": 19, \"studytime\": 2, \"failures\": 0, \"goout\": 4, \"Dalc\": 2, \"Walc\": 3, \"absences\": 0, \"G3\": 0, \"result\": \"fail\"}, {\"sex\": \"F\", \"age\": 18, \"studytime\": 2, \"failures\": 0, \"goout\": 5, \"Dalc\": 1, \"Walc\": 2, \"absences\": 10, \"G3\": 8, \"result\": \"fail\"}, {\"sex\": \"M\", \"age\": 19, \"studytime\": 1, \"failures\": 1, \"goout\": 4, \"Dalc\": 1, \"Walc\": 1, \"absences\": 38, \"G3\": 8, \"result\": \"fail\"}, {\"sex\": \"F\", \"age\": 19, \"studytime\": 2, \"failures\": 1, \"goout\": 4, \"Dalc\": 2, \"Walc\": 2, \"absences\": 0, \"G3\": 0, \"result\": \"fail\"}, {\"sex\": \"F\", \"age\": 18, \"studytime\": 2, \"failures\": 0, \"goout\": 3, \"Dalc\": 1, \"Walc\": 2, \"absences\": 0, \"G3\": 0, \"result\": \"fail\"}, {\"sex\": \"F\", \"age\": 18, \"studytime\": 3, \"failures\": 0, \"goout\": 4, \"Dalc\": 1, \"Walc\": 1, \"absences\": 9, \"G3\": 9, \"result\": \"fail\"}, {\"sex\": \"F\", \"age\": 17, \"studytime\": 2, \"failures\": 0, \"goout\": 2, \"Dalc\": 1, \"Walc\": 1, \"absences\": 12, \"G3\": 9, \"result\": \"fail\"}, {\"sex\": \"F\", \"age\": 17, \"studytime\": 3, \"failures\": 0, \"goout\": 4, \"Dalc\": 1, \"Walc\": 3, \"absences\": 7, \"G3\": 9, \"result\": \"fail\"}, {\"sex\": \"M\", \"age\": 18, \"studytime\": 4, \"failures\": 0, \"goout\": 5, \"Dalc\": 2, \"Walc\": 4, \"absences\": 2, \"G3\": 8, \"result\": \"fail\"}, {\"sex\": \"F\", \"age\": 18, \"studytime\": 2, \"failures\": 0, \"goout\": 4, \"Dalc\": 1, \"Walc\": 1, \"absences\": 0, \"G3\": 0, \"result\": \"fail\"}, {\"sex\": \"F\", \"age\": 18, \"studytime\": 2, \"failures\": 0, \"goout\": 3, \"Dalc\": 1, \"Walc\": 1, \"absences\": 0, \"G3\": 0, \"result\": \"fail\"}, {\"sex\": \"F\", \"age\": 18, \"studytime\": 4, \"failures\": 0, \"goout\": 4, \"Dalc\": 1, \"Walc\": 1, \"absences\": 0, \"G3\": 0, \"result\": \"fail\"}, {\"sex\": \"F\", \"age\": 17, \"studytime\": 2, \"failures\": 0, \"goout\": 2, \"Dalc\": 2, \"Walc\": 3, \"absences\": 0, \"G3\": 0, \"result\": \"fail\"}, {\"sex\": \"M\", \"age\": 18, \"studytime\": 2, \"failures\": 1, \"goout\": 3, \"Dalc\": 2, \"Walc\": 2, \"absences\": 0, \"G3\": 0, \"result\": \"fail\"}, {\"sex\": \"F\", \"age\": 17, \"studytime\": 2, \"failures\": 1, \"goout\": 1, \"Dalc\": 1, \"Walc\": 2, \"absences\": 0, \"G3\": 0, \"result\": \"fail\"}, {\"sex\": \"M\", \"age\": 18, \"studytime\": 3, \"failures\": 0, \"goout\": 5, \"Dalc\": 2, \"Walc\": 3, \"absences\": 0, \"G3\": 9, \"result\": \"fail\"}, {\"sex\": \"M\", \"age\": 19, \"studytime\": 2, \"failures\": 3, \"goout\": 4, \"Dalc\": 3, \"Walc\": 3, \"absences\": 8, \"G3\": 8, \"result\": \"fail\"}, {\"sex\": \"M\", \"age\": 18, \"studytime\": 1, \"failures\": 1, \"goout\": 3, \"Dalc\": 2, \"Walc\": 3, \"absences\": 7, \"G3\": 8, \"result\": \"fail\"}, {\"sex\": \"M\", \"age\": 19, \"studytime\": 1, \"failures\": 1, \"goout\": 4, \"Dalc\": 3, \"Walc\": 3, \"absences\": 4, \"G3\": 8, \"result\": \"fail\"}, {\"sex\": \"F\", \"age\": 18, \"studytime\": 2, \"failures\": 0, \"goout\": 4, \"Dalc\": 1, \"Walc\": 1, \"absences\": 0, \"G3\": 9, \"result\": \"fail\"}, {\"sex\": \"F\", \"age\": 17, \"studytime\": 1, \"failures\": 1, \"goout\": 1, \"Dalc\": 1, \"Walc\": 2, \"absences\": 0, \"G3\": 0, \"result\": \"fail\"}, {\"sex\": \"F\", \"age\": 19, \"studytime\": 2, \"failures\": 2, \"goout\": 2, \"Dalc\": 1, \"Walc\": 1, \"absences\": 4, \"G3\": 9, \"result\": \"fail\"}, {\"sex\": \"F\", \"age\": 17, \"studytime\": 1, \"failures\": 0, \"goout\": 5, \"Dalc\": 1, \"Walc\": 3, \"absences\": 14, \"G3\": 5, \"result\": \"fail\"}, {\"sex\": \"M\", \"age\": 18, \"studytime\": 1, \"failures\": 0, \"goout\": 3, \"Dalc\": 1, \"Walc\": 3, \"absences\": 5, \"G3\": 7, \"result\": \"fail\"}, {\"sex\": \"M\", \"age\": 19, \"studytime\": 1, \"failures\": 1, \"goout\": 2, \"Dalc\": 1, \"Walc\": 3, \"absences\": 0, \"G3\": 0, \"result\": \"fail\"}, {\"sex\": \"M\", \"age\": 18, \"studytime\": 1, \"failures\": 1, \"goout\": 3, \"Dalc\": 4, \"Walc\": 3, \"absences\": 14, \"G3\": 5, \"result\": \"fail\"}, {\"sex\": \"F\", \"age\": 18, \"studytime\": 1, \"failures\": 0, \"goout\": 3, \"Dalc\": 2, \"Walc\": 2, \"absences\": 7, \"G3\": 6, \"result\": \"fail\"}, {\"sex\": \"F\", \"age\": 19, \"studytime\": 3, \"failures\": 1, \"goout\": 2, \"Dalc\": 1, \"Walc\": 2, \"absences\": 0, \"G3\": 0, \"result\": \"fail\"}, {\"sex\": \"F\", \"age\": 18, \"studytime\": 2, \"failures\": 0, \"goout\": 4, \"Dalc\": 1, \"Walc\": 1, \"absences\": 0, \"G3\": 8, \"result\": \"fail\"}, {\"sex\": \"F\", \"age\": 18, \"studytime\": 2, \"failures\": 1, \"goout\": 1, \"Dalc\": 1, \"Walc\": 1, \"absences\": 0, \"G3\": 0, \"result\": \"fail\"}, {\"sex\": \"M\", \"age\": 20, \"studytime\": 2, \"failures\": 2, \"goout\": 4, \"Dalc\": 4, \"Walc\": 5, \"absences\": 11, \"G3\": 9, \"result\": \"fail\"}, {\"sex\": \"M\", \"age\": 21, \"studytime\": 1, \"failures\": 3, \"goout\": 3, \"Dalc\": 3, \"Walc\": 3, \"absences\": 3, \"G3\": 7, \"result\": \"fail\"}, {\"sex\": \"M\", \"age\": 19, \"studytime\": 1, \"failures\": 0, \"goout\": 3, \"Dalc\": 3, \"Walc\": 3, \"absences\": 5, \"G3\": 9, \"result\": \"fail\"}]}}, {\"mode\": \"vega-lite\"});\n",
       "</script>"
      ],
      "text/plain": [
       "alt.Chart(...)"
      ]
     },
     "execution_count": 65,
     "metadata": {},
     "output_type": "execute_result"
    }
   ],
   "source": [
    "alt.Chart(feature_df).mark_bar().encode(\n",
    "    x='age:N',\n",
    "    y='mean(Dalc):Q',\n",
    "    color='sex:N',\n",
    "    column='result:N'\n",
    ")"
   ]
  },
  {
   "cell_type": "code",
   "execution_count": 66,
   "metadata": {},
   "outputs": [
    {
     "data": {
      "text/html": [
       "\n",
       "<div id=\"altair-viz-7d0995d67d3d417296468ea2ba651423\"></div>\n",
       "<script type=\"text/javascript\">\n",
       "  (function(spec, embedOpt){\n",
       "    let outputDiv = document.currentScript.previousElementSibling;\n",
       "    if (outputDiv.id !== \"altair-viz-7d0995d67d3d417296468ea2ba651423\") {\n",
       "      outputDiv = document.getElementById(\"altair-viz-7d0995d67d3d417296468ea2ba651423\");\n",
       "    }\n",
       "    const paths = {\n",
       "      \"vega\": \"https://cdn.jsdelivr.net/npm//vega@5?noext\",\n",
       "      \"vega-lib\": \"https://cdn.jsdelivr.net/npm//vega-lib?noext\",\n",
       "      \"vega-lite\": \"https://cdn.jsdelivr.net/npm//vega-lite@4.8.1?noext\",\n",
       "      \"vega-embed\": \"https://cdn.jsdelivr.net/npm//vega-embed@6?noext\",\n",
       "    };\n",
       "\n",
       "    function loadScript(lib) {\n",
       "      return new Promise(function(resolve, reject) {\n",
       "        var s = document.createElement('script');\n",
       "        s.src = paths[lib];\n",
       "        s.async = true;\n",
       "        s.onload = () => resolve(paths[lib]);\n",
       "        s.onerror = () => reject(`Error loading script: ${paths[lib]}`);\n",
       "        document.getElementsByTagName(\"head\")[0].appendChild(s);\n",
       "      });\n",
       "    }\n",
       "\n",
       "    function showError(err) {\n",
       "      outputDiv.innerHTML = `<div class=\"error\" style=\"color:red;\">${err}</div>`;\n",
       "      throw err;\n",
       "    }\n",
       "\n",
       "    function displayChart(vegaEmbed) {\n",
       "      vegaEmbed(outputDiv, spec, embedOpt)\n",
       "        .catch(err => showError(`Javascript Error: ${err.message}<br>This usually means there's a typo in your chart specification. See the javascript console for the full traceback.`));\n",
       "    }\n",
       "\n",
       "    if(typeof define === \"function\" && define.amd) {\n",
       "      requirejs.config({paths});\n",
       "      require([\"vega-embed\"], displayChart, err => showError(`Error loading script: ${err.message}`));\n",
       "    } else if (typeof vegaEmbed === \"function\") {\n",
       "      displayChart(vegaEmbed);\n",
       "    } else {\n",
       "      loadScript(\"vega\")\n",
       "        .then(() => loadScript(\"vega-lite\"))\n",
       "        .then(() => loadScript(\"vega-embed\"))\n",
       "        .catch(showError)\n",
       "        .then(() => displayChart(vegaEmbed));\n",
       "    }\n",
       "  })({\"config\": {\"view\": {\"continuousWidth\": 400, \"continuousHeight\": 300}}, \"data\": {\"name\": \"data-ea72f5dcaea5cc0f15329fc2e06c629f\"}, \"mark\": \"bar\", \"encoding\": {\"color\": {\"type\": \"nominal\", \"field\": \"age\"}, \"column\": {\"type\": \"nominal\", \"field\": \"result\"}, \"x\": {\"type\": \"nominal\", \"field\": \"sex\"}, \"y\": {\"type\": \"quantitative\", \"aggregate\": \"mean\", \"field\": \"Dalc\"}}, \"$schema\": \"https://vega.github.io/schema/vega-lite/v4.8.1.json\", \"datasets\": {\"data-ea72f5dcaea5cc0f15329fc2e06c629f\": [{\"sex\": \"F\", \"age\": 15, \"studytime\": 2, \"failures\": 3, \"goout\": 2, \"Dalc\": 2, \"Walc\": 3, \"absences\": 10, \"G3\": 10, \"result\": \"pass\"}, {\"sex\": \"F\", \"age\": 15, \"studytime\": 3, \"failures\": 0, \"goout\": 2, \"Dalc\": 1, \"Walc\": 1, \"absences\": 2, \"G3\": 15, \"result\": \"pass\"}, {\"sex\": \"F\", \"age\": 16, \"studytime\": 2, \"failures\": 0, \"goout\": 2, \"Dalc\": 1, \"Walc\": 2, \"absences\": 4, \"G3\": 10, \"result\": \"pass\"}, {\"sex\": \"M\", \"age\": 16, \"studytime\": 2, \"failures\": 0, \"goout\": 2, \"Dalc\": 1, \"Walc\": 2, \"absences\": 10, \"G3\": 15, \"result\": \"pass\"}, {\"sex\": \"M\", \"age\": 16, \"studytime\": 2, \"failures\": 0, \"goout\": 4, \"Dalc\": 1, \"Walc\": 1, \"absences\": 0, \"G3\": 11, \"result\": \"pass\"}, {\"sex\": \"M\", \"age\": 15, \"studytime\": 2, \"failures\": 0, \"goout\": 2, \"Dalc\": 1, \"Walc\": 1, \"absences\": 0, \"G3\": 19, \"result\": \"pass\"}, {\"sex\": \"M\", \"age\": 15, \"studytime\": 2, \"failures\": 0, \"goout\": 1, \"Dalc\": 1, \"Walc\": 1, \"absences\": 0, \"G3\": 15, \"result\": \"pass\"}, {\"sex\": \"F\", \"age\": 15, \"studytime\": 3, \"failures\": 0, \"goout\": 2, \"Dalc\": 1, \"Walc\": 1, \"absences\": 4, \"G3\": 12, \"result\": \"pass\"}, {\"sex\": \"M\", \"age\": 15, \"studytime\": 1, \"failures\": 0, \"goout\": 3, \"Dalc\": 1, \"Walc\": 3, \"absences\": 2, \"G3\": 14, \"result\": \"pass\"}, {\"sex\": \"M\", \"age\": 15, \"studytime\": 2, \"failures\": 0, \"goout\": 3, \"Dalc\": 1, \"Walc\": 2, \"absences\": 2, \"G3\": 11, \"result\": \"pass\"}, {\"sex\": \"M\", \"age\": 15, \"studytime\": 3, \"failures\": 0, \"goout\": 2, \"Dalc\": 1, \"Walc\": 1, \"absences\": 0, \"G3\": 16, \"result\": \"pass\"}, {\"sex\": \"F\", \"age\": 16, \"studytime\": 1, \"failures\": 0, \"goout\": 4, \"Dalc\": 1, \"Walc\": 2, \"absences\": 4, \"G3\": 14, \"result\": \"pass\"}, {\"sex\": \"F\", \"age\": 16, \"studytime\": 3, \"failures\": 0, \"goout\": 3, \"Dalc\": 1, \"Walc\": 2, \"absences\": 6, \"G3\": 14, \"result\": \"pass\"}, {\"sex\": \"F\", \"age\": 16, \"studytime\": 2, \"failures\": 0, \"goout\": 2, \"Dalc\": 1, \"Walc\": 1, \"absences\": 4, \"G3\": 10, \"result\": \"pass\"}, {\"sex\": \"M\", \"age\": 16, \"studytime\": 1, \"failures\": 0, \"goout\": 3, \"Dalc\": 1, \"Walc\": 3, \"absences\": 4, \"G3\": 10, \"result\": \"pass\"}, {\"sex\": \"M\", \"age\": 15, \"studytime\": 2, \"failures\": 0, \"goout\": 1, \"Dalc\": 1, \"Walc\": 1, \"absences\": 0, \"G3\": 15, \"result\": \"pass\"}, {\"sex\": \"M\", \"age\": 15, \"studytime\": 1, \"failures\": 0, \"goout\": 2, \"Dalc\": 1, \"Walc\": 1, \"absences\": 0, \"G3\": 15, \"result\": \"pass\"}, {\"sex\": \"M\", \"age\": 16, \"studytime\": 2, \"failures\": 0, \"goout\": 1, \"Dalc\": 1, \"Walc\": 3, \"absences\": 2, \"G3\": 16, \"result\": \"pass\"}, {\"sex\": \"M\", \"age\": 16, \"studytime\": 2, \"failures\": 0, \"goout\": 4, \"Dalc\": 2, \"Walc\": 4, \"absences\": 0, \"G3\": 12, \"result\": \"pass\"}, {\"sex\": \"M\", \"age\": 15, \"studytime\": 1, \"failures\": 0, \"goout\": 2, \"Dalc\": 1, \"Walc\": 2, \"absences\": 2, \"G3\": 11, \"result\": \"pass\"}, {\"sex\": \"M\", \"age\": 15, \"studytime\": 1, \"failures\": 0, \"goout\": 4, \"Dalc\": 2, \"Walc\": 4, \"absences\": 4, \"G3\": 15, \"result\": \"pass\"}, {\"sex\": \"M\", \"age\": 16, \"studytime\": 2, \"failures\": 0, \"goout\": 3, \"Dalc\": 1, \"Walc\": 1, \"absences\": 4, \"G3\": 11, \"result\": \"pass\"}, {\"sex\": \"M\", \"age\": 16, \"studytime\": 2, \"failures\": 0, \"goout\": 5, \"Dalc\": 5, \"Walc\": 5, \"absences\": 16, \"G3\": 11, \"result\": \"pass\"}, {\"sex\": \"M\", \"age\": 15, \"studytime\": 2, \"failures\": 0, \"goout\": 2, \"Dalc\": 3, \"Walc\": 4, \"absences\": 0, \"G3\": 12, \"result\": \"pass\"}, {\"sex\": \"M\", \"age\": 15, \"studytime\": 2, \"failures\": 0, \"goout\": 1, \"Dalc\": 1, \"Walc\": 1, \"absences\": 0, \"G3\": 17, \"result\": \"pass\"}, {\"sex\": \"M\", \"age\": 15, \"studytime\": 2, \"failures\": 0, \"goout\": 2, \"Dalc\": 1, \"Walc\": 1, \"absences\": 0, \"G3\": 16, \"result\": \"pass\"}, {\"sex\": \"M\", \"age\": 15, \"studytime\": 2, \"failures\": 0, \"goout\": 2, \"Dalc\": 1, \"Walc\": 1, \"absences\": 0, \"G3\": 12, \"result\": \"pass\"}, {\"sex\": \"M\", \"age\": 16, \"studytime\": 1, \"failures\": 0, \"goout\": 3, \"Dalc\": 1, \"Walc\": 1, \"absences\": 0, \"G3\": 15, \"result\": \"pass\"}, {\"sex\": \"M\", \"age\": 15, \"studytime\": 3, \"failures\": 0, \"goout\": 3, \"Dalc\": 1, \"Walc\": 1, \"absences\": 2, \"G3\": 18, \"result\": \"pass\"}, {\"sex\": \"M\", \"age\": 16, \"studytime\": 3, \"failures\": 0, \"goout\": 3, \"Dalc\": 1, \"Walc\": 1, \"absences\": 7, \"G3\": 15, \"result\": \"pass\"}, {\"sex\": \"F\", \"age\": 15, \"studytime\": 3, \"failures\": 0, \"goout\": 2, \"Dalc\": 1, \"Walc\": 1, \"absences\": 2, \"G3\": 11, \"result\": \"pass\"}, {\"sex\": \"F\", \"age\": 15, \"studytime\": 1, \"failures\": 0, \"goout\": 1, \"Dalc\": 1, \"Walc\": 1, \"absences\": 8, \"G3\": 13, \"result\": \"pass\"}, {\"sex\": \"F\", \"age\": 16, \"studytime\": 2, \"failures\": 1, \"goout\": 3, \"Dalc\": 1, \"Walc\": 2, \"absences\": 25, \"G3\": 11, \"result\": \"pass\"}, {\"sex\": \"M\", \"age\": 15, \"studytime\": 1, \"failures\": 0, \"goout\": 3, \"Dalc\": 2, \"Walc\": 4, \"absences\": 8, \"G3\": 12, \"result\": \"pass\"}, {\"sex\": \"M\", \"age\": 15, \"studytime\": 2, \"failures\": 0, \"goout\": 3, \"Dalc\": 1, \"Walc\": 1, \"absences\": 2, \"G3\": 18, \"result\": \"pass\"}, {\"sex\": \"M\", \"age\": 15, \"studytime\": 1, \"failures\": 0, \"goout\": 1, \"Dalc\": 1, \"Walc\": 1, \"absences\": 0, \"G3\": 11, \"result\": \"pass\"}, {\"sex\": \"F\", \"age\": 16, \"studytime\": 2, \"failures\": 0, \"goout\": 5, \"Dalc\": 1, \"Walc\": 4, \"absences\": 12, \"G3\": 11, \"result\": \"pass\"}, {\"sex\": \"M\", \"age\": 16, \"studytime\": 4, \"failures\": 0, \"goout\": 2, \"Dalc\": 1, \"Walc\": 1, \"absences\": 4, \"G3\": 20, \"result\": \"pass\"}, {\"sex\": \"M\", \"age\": 15, \"studytime\": 2, \"failures\": 0, \"goout\": 3, \"Dalc\": 2, \"Walc\": 2, \"absences\": 2, \"G3\": 14, \"result\": \"pass\"}, {\"sex\": \"F\", \"age\": 16, \"studytime\": 2, \"failures\": 0, \"goout\": 3, \"Dalc\": 2, \"Walc\": 3, \"absences\": 2, \"G3\": 13, \"result\": \"pass\"}, {\"sex\": \"F\", \"age\": 15, \"studytime\": 2, \"failures\": 0, \"goout\": 3, \"Dalc\": 1, \"Walc\": 1, \"absences\": 2, \"G3\": 13, \"result\": \"pass\"}, {\"sex\": \"M\", \"age\": 15, \"studytime\": 1, \"failures\": 1, \"goout\": 5, \"Dalc\": 3, \"Walc\": 4, \"absences\": 6, \"G3\": 10, \"result\": \"pass\"}, {\"sex\": \"F\", \"age\": 15, \"studytime\": 1, \"failures\": 0, \"goout\": 4, \"Dalc\": 2, \"Walc\": 3, \"absences\": 0, \"G3\": 11, \"result\": \"pass\"}, {\"sex\": \"F\", \"age\": 15, \"studytime\": 1, \"failures\": 0, \"goout\": 4, \"Dalc\": 4, \"Walc\": 4, \"absences\": 6, \"G3\": 13, \"result\": \"pass\"}, {\"sex\": \"F\", \"age\": 16, \"studytime\": 2, \"failures\": 0, \"goout\": 4, \"Dalc\": 1, \"Walc\": 1, \"absences\": 8, \"G3\": 10, \"result\": \"pass\"}, {\"sex\": \"F\", \"age\": 15, \"studytime\": 2, \"failures\": 0, \"goout\": 2, \"Dalc\": 1, \"Walc\": 1, \"absences\": 0, \"G3\": 15, \"result\": \"pass\"}, {\"sex\": \"M\", \"age\": 15, \"studytime\": 2, \"failures\": 0, \"goout\": 2, \"Dalc\": 1, \"Walc\": 1, \"absences\": 4, \"G3\": 15, \"result\": \"pass\"}, {\"sex\": \"F\", \"age\": 16, \"studytime\": 2, \"failures\": 0, \"goout\": 3, \"Dalc\": 1, \"Walc\": 1, \"absences\": 2, \"G3\": 16, \"result\": \"pass\"}, {\"sex\": \"F\", \"age\": 16, \"studytime\": 2, \"failures\": 0, \"goout\": 4, \"Dalc\": 2, \"Walc\": 3, \"absences\": 6, \"G3\": 11, \"result\": \"pass\"}, {\"sex\": \"F\", \"age\": 16, \"studytime\": 1, \"failures\": 0, \"goout\": 5, \"Dalc\": 5, \"Walc\": 5, \"absences\": 6, \"G3\": 11, \"result\": \"pass\"}, {\"sex\": \"F\", \"age\": 15, \"studytime\": 2, \"failures\": 0, \"goout\": 4, \"Dalc\": 2, \"Walc\": 4, \"absences\": 0, \"G3\": 10, \"result\": \"pass\"}, {\"sex\": \"F\", \"age\": 16, \"studytime\": 2, \"failures\": 0, \"goout\": 3, \"Dalc\": 1, \"Walc\": 2, \"absences\": 2, \"G3\": 15, \"result\": \"pass\"}, {\"sex\": \"M\", \"age\": 15, \"studytime\": 4, \"failures\": 0, \"goout\": 3, \"Dalc\": 5, \"Walc\": 5, \"absences\": 4, \"G3\": 12, \"result\": \"pass\"}, {\"sex\": \"F\", \"age\": 15, \"studytime\": 4, \"failures\": 0, \"goout\": 2, \"Dalc\": 2, \"Walc\": 3, \"absences\": 12, \"G3\": 16, \"result\": \"pass\"}, {\"sex\": \"M\", \"age\": 16, \"studytime\": 4, \"failures\": 0, \"goout\": 2, \"Dalc\": 1, \"Walc\": 1, \"absences\": 0, \"G3\": 15, \"result\": \"pass\"}, {\"sex\": \"M\", \"age\": 15, \"studytime\": 4, \"failures\": 0, \"goout\": 3, \"Dalc\": 1, \"Walc\": 1, \"absences\": 0, \"G3\": 10, \"result\": \"pass\"}, {\"sex\": \"M\", \"age\": 16, \"studytime\": 1, \"failures\": 0, \"goout\": 2, \"Dalc\": 2, \"Walc\": 2, \"absences\": 2, \"G3\": 14, \"result\": \"pass\"}, {\"sex\": \"F\", \"age\": 16, \"studytime\": 2, \"failures\": 0, \"goout\": 3, \"Dalc\": 2, \"Walc\": 4, \"absences\": 54, \"G3\": 11, \"result\": \"pass\"}, {\"sex\": \"M\", \"age\": 15, \"studytime\": 2, \"failures\": 0, \"goout\": 3, \"Dalc\": 2, \"Walc\": 3, \"absences\": 6, \"G3\": 10, \"result\": \"pass\"}, {\"sex\": \"M\", \"age\": 15, \"studytime\": 4, \"failures\": 0, \"goout\": 3, \"Dalc\": 1, \"Walc\": 1, \"absences\": 8, \"G3\": 10, \"result\": \"pass\"}, {\"sex\": \"F\", \"age\": 16, \"studytime\": 4, \"failures\": 0, \"goout\": 3, \"Dalc\": 1, \"Walc\": 3, \"absences\": 0, \"G3\": 11, \"result\": \"pass\"}, {\"sex\": \"M\", \"age\": 17, \"studytime\": 1, \"failures\": 3, \"goout\": 1, \"Dalc\": 1, \"Walc\": 1, \"absences\": 2, \"G3\": 10, \"result\": \"pass\"}, {\"sex\": \"M\", \"age\": 15, \"studytime\": 1, \"failures\": 0, \"goout\": 2, \"Dalc\": 1, \"Walc\": 3, \"absences\": 2, \"G3\": 12, \"result\": \"pass\"}, {\"sex\": \"M\", \"age\": 15, \"studytime\": 3, \"failures\": 0, \"goout\": 2, \"Dalc\": 1, \"Walc\": 2, \"absences\": 4, \"G3\": 11, \"result\": \"pass\"}, {\"sex\": \"M\", \"age\": 15, \"studytime\": 2, \"failures\": 0, \"goout\": 3, \"Dalc\": 1, \"Walc\": 3, \"absences\": 4, \"G3\": 15, \"result\": \"pass\"}, {\"sex\": \"F\", \"age\": 15, \"studytime\": 2, \"failures\": 0, \"goout\": 2, \"Dalc\": 2, \"Walc\": 3, \"absences\": 2, \"G3\": 10, \"result\": \"pass\"}, {\"sex\": \"F\", \"age\": 15, \"studytime\": 3, \"failures\": 0, \"goout\": 3, \"Dalc\": 1, \"Walc\": 3, \"absences\": 4, \"G3\": 14, \"result\": \"pass\"}, {\"sex\": \"M\", \"age\": 16, \"studytime\": 2, \"failures\": 1, \"goout\": 2, \"Dalc\": 1, \"Walc\": 1, \"absences\": 12, \"G3\": 10, \"result\": \"pass\"}, {\"sex\": \"F\", \"age\": 15, \"studytime\": 1, \"failures\": 0, \"goout\": 5, \"Dalc\": 1, \"Walc\": 3, \"absences\": 4, \"G3\": 18, \"result\": \"pass\"}, {\"sex\": \"F\", \"age\": 16, \"studytime\": 2, \"failures\": 0, \"goout\": 3, \"Dalc\": 1, \"Walc\": 1, \"absences\": 0, \"G3\": 10, \"result\": \"pass\"}, {\"sex\": \"M\", \"age\": 15, \"studytime\": 4, \"failures\": 0, \"goout\": 4, \"Dalc\": 1, \"Walc\": 1, \"absences\": 6, \"G3\": 14, \"result\": \"pass\"}, {\"sex\": \"F\", \"age\": 15, \"studytime\": 4, \"failures\": 1, \"goout\": 2, \"Dalc\": 1, \"Walc\": 1, \"absences\": 2, \"G3\": 10, \"result\": \"pass\"}, {\"sex\": \"M\", \"age\": 16, \"studytime\": 1, \"failures\": 0, \"goout\": 3, \"Dalc\": 1, \"Walc\": 1, \"absences\": 2, \"G3\": 15, \"result\": \"pass\"}, {\"sex\": \"F\", \"age\": 16, \"studytime\": 2, \"failures\": 0, \"goout\": 5, \"Dalc\": 1, \"Walc\": 1, \"absences\": 2, \"G3\": 10, \"result\": \"pass\"}, {\"sex\": \"F\", \"age\": 16, \"studytime\": 1, \"failures\": 0, \"goout\": 4, \"Dalc\": 1, \"Walc\": 2, \"absences\": 6, \"G3\": 14, \"result\": \"pass\"}, {\"sex\": \"M\", \"age\": 16, \"studytime\": 3, \"failures\": 0, \"goout\": 3, \"Dalc\": 1, \"Walc\": 1, \"absences\": 0, \"G3\": 17, \"result\": \"pass\"}, {\"sex\": \"M\", \"age\": 15, \"studytime\": 1, \"failures\": 0, \"goout\": 3, \"Dalc\": 1, \"Walc\": 1, \"absences\": 4, \"G3\": 14, \"result\": \"pass\"}, {\"sex\": \"M\", \"age\": 15, \"studytime\": 2, \"failures\": 0, \"goout\": 4, \"Dalc\": 1, \"Walc\": 1, \"absences\": 0, \"G3\": 18, \"result\": \"pass\"}, {\"sex\": \"F\", \"age\": 15, \"studytime\": 4, \"failures\": 0, \"goout\": 3, \"Dalc\": 1, \"Walc\": 1, \"absences\": 10, \"G3\": 11, \"result\": \"pass\"}, {\"sex\": \"M\", \"age\": 16, \"studytime\": 3, \"failures\": 0, \"goout\": 3, \"Dalc\": 1, \"Walc\": 1, \"absences\": 2, \"G3\": 18, \"result\": \"pass\"}, {\"sex\": \"M\", \"age\": 15, \"studytime\": 4, \"failures\": 0, \"goout\": 5, \"Dalc\": 3, \"Walc\": 5, \"absences\": 6, \"G3\": 13, \"result\": \"pass\"}, {\"sex\": \"F\", \"age\": 16, \"studytime\": 3, \"failures\": 0, \"goout\": 5, \"Dalc\": 1, \"Walc\": 1, \"absences\": 4, \"G3\": 16, \"result\": \"pass\"}, {\"sex\": \"M\", \"age\": 15, \"studytime\": 1, \"failures\": 0, \"goout\": 3, \"Dalc\": 1, \"Walc\": 1, \"absences\": 6, \"G3\": 19, \"result\": \"pass\"}, {\"sex\": \"F\", \"age\": 16, \"studytime\": 3, \"failures\": 1, \"goout\": 2, \"Dalc\": 1, \"Walc\": 1, \"absences\": 0, \"G3\": 10, \"result\": \"pass\"}, {\"sex\": \"F\", \"age\": 16, \"studytime\": 2, \"failures\": 1, \"goout\": 2, \"Dalc\": 1, \"Walc\": 1, \"absences\": 6, \"G3\": 13, \"result\": \"pass\"}, {\"sex\": \"M\", \"age\": 15, \"studytime\": 1, \"failures\": 0, \"goout\": 2, \"Dalc\": 1, \"Walc\": 1, \"absences\": 10, \"G3\": 19, \"result\": \"pass\"}, {\"sex\": \"M\", \"age\": 16, \"studytime\": 2, \"failures\": 0, \"goout\": 4, \"Dalc\": 1, \"Walc\": 2, \"absences\": 2, \"G3\": 16, \"result\": \"pass\"}, {\"sex\": \"M\", \"age\": 15, \"studytime\": 2, \"failures\": 0, \"goout\": 3, \"Dalc\": 1, \"Walc\": 1, \"absences\": 2, \"G3\": 14, \"result\": \"pass\"}, {\"sex\": \"M\", \"age\": 16, \"studytime\": 1, \"failures\": 0, \"goout\": 2, \"Dalc\": 1, \"Walc\": 1, \"absences\": 0, \"G3\": 13, \"result\": \"pass\"}, {\"sex\": \"M\", \"age\": 15, \"studytime\": 1, \"failures\": 0, \"goout\": 3, \"Dalc\": 1, \"Walc\": 2, \"absences\": 6, \"G3\": 13, \"result\": \"pass\"}, {\"sex\": \"F\", \"age\": 15, \"studytime\": 2, \"failures\": 0, \"goout\": 3, \"Dalc\": 1, \"Walc\": 2, \"absences\": 2, \"G3\": 15, \"result\": \"pass\"}, {\"sex\": \"M\", \"age\": 15, \"studytime\": 4, \"failures\": 0, \"goout\": 4, \"Dalc\": 1, \"Walc\": 2, \"absences\": 6, \"G3\": 15, \"result\": \"pass\"}, {\"sex\": \"F\", \"age\": 16, \"studytime\": 2, \"failures\": 0, \"goout\": 2, \"Dalc\": 1, \"Walc\": 2, \"absences\": 2, \"G3\": 13, \"result\": \"pass\"}, {\"sex\": \"M\", \"age\": 16, \"studytime\": 1, \"failures\": 0, \"goout\": 4, \"Dalc\": 1, \"Walc\": 4, \"absences\": 18, \"G3\": 13, \"result\": \"pass\"}, {\"sex\": \"M\", \"age\": 15, \"studytime\": 1, \"failures\": 0, \"goout\": 5, \"Dalc\": 3, \"Walc\": 2, \"absences\": 0, \"G3\": 12, \"result\": \"pass\"}, {\"sex\": \"F\", \"age\": 15, \"studytime\": 2, \"failures\": 0, \"goout\": 2, \"Dalc\": 1, \"Walc\": 1, \"absences\": 0, \"G3\": 11, \"result\": \"pass\"}, {\"sex\": \"M\", \"age\": 16, \"studytime\": 1, \"failures\": 0, \"goout\": 5, \"Dalc\": 2, \"Walc\": 5, \"absences\": 8, \"G3\": 18, \"result\": \"pass\"}, {\"sex\": \"F\", \"age\": 17, \"studytime\": 1, \"failures\": 0, \"goout\": 4, \"Dalc\": 1, \"Walc\": 3, \"absences\": 12, \"G3\": 12, \"result\": \"pass\"}, {\"sex\": \"F\", \"age\": 16, \"studytime\": 1, \"failures\": 0, \"goout\": 1, \"Dalc\": 1, \"Walc\": 4, \"absences\": 16, \"G3\": 11, \"result\": \"pass\"}, {\"sex\": \"M\", \"age\": 16, \"studytime\": 2, \"failures\": 1, \"goout\": 4, \"Dalc\": 1, \"Walc\": 3, \"absences\": 0, \"G3\": 12, \"result\": \"pass\"}, {\"sex\": \"F\", \"age\": 15, \"studytime\": 1, \"failures\": 0, \"goout\": 2, \"Dalc\": 1, \"Walc\": 1, \"absences\": 0, \"G3\": 15, \"result\": \"pass\"}, {\"sex\": \"F\", \"age\": 15, \"studytime\": 3, \"failures\": 0, \"goout\": 2, \"Dalc\": 1, \"Walc\": 1, \"absences\": 2, \"G3\": 11, \"result\": \"pass\"}, {\"sex\": \"F\", \"age\": 16, \"studytime\": 1, \"failures\": 0, \"goout\": 4, \"Dalc\": 3, \"Walc\": 3, \"absences\": 2, \"G3\": 13, \"result\": \"pass\"}, {\"sex\": \"F\", \"age\": 15, \"studytime\": 2, \"failures\": 0, \"goout\": 2, \"Dalc\": 1, \"Walc\": 2, \"absences\": 0, \"G3\": 11, \"result\": \"pass\"}, {\"sex\": \"F\", \"age\": 15, \"studytime\": 2, \"failures\": 0, \"goout\": 2, \"Dalc\": 1, \"Walc\": 1, \"absences\": 2, \"G3\": 11, \"result\": \"pass\"}, {\"sex\": \"M\", \"age\": 15, \"studytime\": 1, \"failures\": 3, \"goout\": 5, \"Dalc\": 2, \"Walc\": 5, \"absences\": 0, \"G3\": 10, \"result\": \"pass\"}, {\"sex\": \"M\", \"age\": 16, \"studytime\": 1, \"failures\": 1, \"goout\": 4, \"Dalc\": 3, \"Walc\": 5, \"absences\": 6, \"G3\": 14, \"result\": \"pass\"}, {\"sex\": \"F\", \"age\": 15, \"studytime\": 3, \"failures\": 2, \"goout\": 1, \"Dalc\": 2, \"Walc\": 3, \"absences\": 8, \"G3\": 10, \"result\": \"pass\"}, {\"sex\": \"F\", \"age\": 17, \"studytime\": 1, \"failures\": 0, \"goout\": 1, \"Dalc\": 1, \"Walc\": 1, \"absences\": 0, \"G3\": 12, \"result\": \"pass\"}, {\"sex\": \"M\", \"age\": 17, \"studytime\": 1, \"failures\": 0, \"goout\": 2, \"Dalc\": 3, \"Walc\": 3, \"absences\": 8, \"G3\": 13, \"result\": \"pass\"}, {\"sex\": \"F\", \"age\": 18, \"studytime\": 1, \"failures\": 3, \"goout\": 5, \"Dalc\": 1, \"Walc\": 5, \"absences\": 6, \"G3\": 10, \"result\": \"pass\"}, {\"sex\": \"M\", \"age\": 16, \"studytime\": 1, \"failures\": 0, \"goout\": 2, \"Dalc\": 1, \"Walc\": 2, \"absences\": 2, \"G3\": 15, \"result\": \"pass\"}, {\"sex\": \"M\", \"age\": 16, \"studytime\": 2, \"failures\": 1, \"goout\": 5, \"Dalc\": 4, \"Walc\": 4, \"absences\": 4, \"G3\": 12, \"result\": \"pass\"}, {\"sex\": \"M\", \"age\": 17, \"studytime\": 1, \"failures\": 0, \"goout\": 3, \"Dalc\": 1, \"Walc\": 4, \"absences\": 2, \"G3\": 10, \"result\": \"pass\"}, {\"sex\": \"M\", \"age\": 16, \"studytime\": 1, \"failures\": 1, \"goout\": 2, \"Dalc\": 1, \"Walc\": 1, \"absences\": 16, \"G3\": 12, \"result\": \"pass\"}, {\"sex\": \"M\", \"age\": 16, \"studytime\": 2, \"failures\": 0, \"goout\": 5, \"Dalc\": 2, \"Walc\": 4, \"absences\": 4, \"G3\": 10, \"result\": \"pass\"}, {\"sex\": \"F\", \"age\": 16, \"studytime\": 2, \"failures\": 0, \"goout\": 3, \"Dalc\": 1, \"Walc\": 1, \"absences\": 0, \"G3\": 16, \"result\": \"pass\"}, {\"sex\": \"F\", \"age\": 16, \"studytime\": 2, \"failures\": 0, \"goout\": 2, \"Dalc\": 1, \"Walc\": 1, \"absences\": 0, \"G3\": 14, \"result\": \"pass\"}, {\"sex\": \"M\", \"age\": 16, \"studytime\": 2, \"failures\": 0, \"goout\": 2, \"Dalc\": 1, \"Walc\": 1, \"absences\": 2, \"G3\": 16, \"result\": \"pass\"}, {\"sex\": \"M\", \"age\": 17, \"studytime\": 2, \"failures\": 0, \"goout\": 4, \"Dalc\": 1, \"Walc\": 3, \"absences\": 0, \"G3\": 10, \"result\": \"pass\"}, {\"sex\": \"F\", \"age\": 16, \"studytime\": 2, \"failures\": 0, \"goout\": 4, \"Dalc\": 1, \"Walc\": 4, \"absences\": 2, \"G3\": 11, \"result\": \"pass\"}, {\"sex\": \"M\", \"age\": 17, \"studytime\": 2, \"failures\": 0, \"goout\": 3, \"Dalc\": 1, \"Walc\": 1, \"absences\": 4, \"G3\": 11, \"result\": \"pass\"}, {\"sex\": \"M\", \"age\": 16, \"studytime\": 2, \"failures\": 0, \"goout\": 3, \"Dalc\": 1, \"Walc\": 2, \"absences\": 2, \"G3\": 12, \"result\": \"pass\"}, {\"sex\": \"F\", \"age\": 17, \"studytime\": 2, \"failures\": 0, \"goout\": 2, \"Dalc\": 2, \"Walc\": 3, \"absences\": 0, \"G3\": 17, \"result\": \"pass\"}, {\"sex\": \"F\", \"age\": 16, \"studytime\": 2, \"failures\": 0, \"goout\": 2, \"Dalc\": 1, \"Walc\": 2, \"absences\": 14, \"G3\": 12, \"result\": \"pass\"}, {\"sex\": \"M\", \"age\": 17, \"studytime\": 2, \"failures\": 0, \"goout\": 4, \"Dalc\": 2, \"Walc\": 3, \"absences\": 12, \"G3\": 11, \"result\": \"pass\"}, {\"sex\": \"M\", \"age\": 16, \"studytime\": 1, \"failures\": 0, \"goout\": 3, \"Dalc\": 1, \"Walc\": 2, \"absences\": 2, \"G3\": 11, \"result\": \"pass\"}, {\"sex\": \"M\", \"age\": 16, \"studytime\": 2, \"failures\": 0, \"goout\": 3, \"Dalc\": 1, \"Walc\": 2, \"absences\": 0, \"G3\": 15, \"result\": \"pass\"}, {\"sex\": \"M\", \"age\": 17, \"studytime\": 2, \"failures\": 0, \"goout\": 3, \"Dalc\": 1, \"Walc\": 5, \"absences\": 4, \"G3\": 10, \"result\": \"pass\"}, {\"sex\": \"F\", \"age\": 16, \"studytime\": 2, \"failures\": 0, \"goout\": 3, \"Dalc\": 1, \"Walc\": 1, \"absences\": 10, \"G3\": 13, \"result\": \"pass\"}, {\"sex\": \"M\", \"age\": 16, \"studytime\": 1, \"failures\": 0, \"goout\": 2, \"Dalc\": 3, \"Walc\": 4, \"absences\": 8, \"G3\": 10, \"result\": \"pass\"}, {\"sex\": \"M\", \"age\": 16, \"studytime\": 1, \"failures\": 0, \"goout\": 3, \"Dalc\": 1, \"Walc\": 1, \"absences\": 0, \"G3\": 14, \"result\": \"pass\"}, {\"sex\": \"F\", \"age\": 17, \"studytime\": 2, \"failures\": 0, \"goout\": 2, \"Dalc\": 1, \"Walc\": 1, \"absences\": 0, \"G3\": 15, \"result\": \"pass\"}, {\"sex\": \"M\", \"age\": 17, \"studytime\": 1, \"failures\": 0, \"goout\": 3, \"Dalc\": 1, \"Walc\": 2, \"absences\": 4, \"G3\": 16, \"result\": \"pass\"}, {\"sex\": \"M\", \"age\": 16, \"studytime\": 1, \"failures\": 0, \"goout\": 4, \"Dalc\": 3, \"Walc\": 5, \"absences\": 8, \"G3\": 10, \"result\": \"pass\"}, {\"sex\": \"F\", \"age\": 17, \"studytime\": 1, \"failures\": 1, \"goout\": 4, \"Dalc\": 2, \"Walc\": 3, \"absences\": 24, \"G3\": 18, \"result\": \"pass\"}, {\"sex\": \"F\", \"age\": 16, \"studytime\": 2, \"failures\": 0, \"goout\": 2, \"Dalc\": 1, \"Walc\": 2, \"absences\": 0, \"G3\": 10, \"result\": \"pass\"}, {\"sex\": \"F\", \"age\": 16, \"studytime\": 2, \"failures\": 0, \"goout\": 5, \"Dalc\": 1, \"Walc\": 5, \"absences\": 2, \"G3\": 16, \"result\": \"pass\"}, {\"sex\": \"F\", \"age\": 16, \"studytime\": 2, \"failures\": 0, \"goout\": 3, \"Dalc\": 1, \"Walc\": 3, \"absences\": 6, \"G3\": 10, \"result\": \"pass\"}, {\"sex\": \"F\", \"age\": 17, \"studytime\": 2, \"failures\": 0, \"goout\": 4, \"Dalc\": 1, \"Walc\": 3, \"absences\": 4, \"G3\": 10, \"result\": \"pass\"}, {\"sex\": \"F\", \"age\": 16, \"studytime\": 4, \"failures\": 0, \"goout\": 5, \"Dalc\": 1, \"Walc\": 1, \"absences\": 6, \"G3\": 11, \"result\": \"pass\"}, {\"sex\": \"F\", \"age\": 16, \"studytime\": 2, \"failures\": 0, \"goout\": 2, \"Dalc\": 1, \"Walc\": 1, \"absences\": 10, \"G3\": 13, \"result\": \"pass\"}, {\"sex\": \"F\", \"age\": 16, \"studytime\": 1, \"failures\": 0, \"goout\": 2, \"Dalc\": 1, \"Walc\": 4, \"absences\": 6, \"G3\": 10, \"result\": \"pass\"}, {\"sex\": \"M\", \"age\": 17, \"studytime\": 2, \"failures\": 0, \"goout\": 5, \"Dalc\": 4, \"Walc\": 5, \"absences\": 13, \"G3\": 13, \"result\": \"pass\"}, {\"sex\": \"F\", \"age\": 16, \"studytime\": 2, \"failures\": 0, \"goout\": 4, \"Dalc\": 1, \"Walc\": 1, \"absences\": 0, \"G3\": 14, \"result\": \"pass\"}, {\"sex\": \"F\", \"age\": 17, \"studytime\": 1, \"failures\": 0, \"goout\": 1, \"Dalc\": 1, \"Walc\": 2, \"absences\": 12, \"G3\": 10, \"result\": \"pass\"}, {\"sex\": \"F\", \"age\": 17, \"studytime\": 2, \"failures\": 0, \"goout\": 4, \"Dalc\": 1, \"Walc\": 3, \"absences\": 2, \"G3\": 15, \"result\": \"pass\"}, {\"sex\": \"F\", \"age\": 17, \"studytime\": 3, \"failures\": 0, \"goout\": 3, \"Dalc\": 1, \"Walc\": 1, \"absences\": 4, \"G3\": 10, \"result\": \"pass\"}, {\"sex\": \"F\", \"age\": 16, \"studytime\": 2, \"failures\": 0, \"goout\": 1, \"Dalc\": 1, \"Walc\": 1, \"absences\": 2, \"G3\": 17, \"result\": \"pass\"}, {\"sex\": \"M\", \"age\": 18, \"studytime\": 2, \"failures\": 0, \"goout\": 3, \"Dalc\": 5, \"Walc\": 5, \"absences\": 0, \"G3\": 13, \"result\": \"pass\"}, {\"sex\": \"F\", \"age\": 16, \"studytime\": 3, \"failures\": 0, \"goout\": 2, \"Dalc\": 1, \"Walc\": 1, \"absences\": 0, \"G3\": 14, \"result\": \"pass\"}, {\"sex\": \"F\", \"age\": 17, \"studytime\": 2, \"failures\": 0, \"goout\": 4, \"Dalc\": 1, \"Walc\": 3, \"absences\": 10, \"G3\": 15, \"result\": \"pass\"}, {\"sex\": \"M\", \"age\": 17, \"studytime\": 2, \"failures\": 0, \"goout\": 3, \"Dalc\": 1, \"Walc\": 3, \"absences\": 2, \"G3\": 12, \"result\": \"pass\"}, {\"sex\": \"F\", \"age\": 17, \"studytime\": 3, \"failures\": 0, \"goout\": 3, \"Dalc\": 1, \"Walc\": 2, \"absences\": 10, \"G3\": 12, \"result\": \"pass\"}, {\"sex\": \"F\", \"age\": 17, \"studytime\": 2, \"failures\": 0, \"goout\": 3, \"Dalc\": 1, \"Walc\": 2, \"absences\": 14, \"G3\": 14, \"result\": \"pass\"}, {\"sex\": \"M\", \"age\": 17, \"studytime\": 2, \"failures\": 0, \"goout\": 2, \"Dalc\": 1, \"Walc\": 1, \"absences\": 4, \"G3\": 11, \"result\": \"pass\"}, {\"sex\": \"M\", \"age\": 16, \"studytime\": 2, \"failures\": 0, \"goout\": 4, \"Dalc\": 2, \"Walc\": 4, \"absences\": 2, \"G3\": 13, \"result\": \"pass\"}, {\"sex\": \"M\", \"age\": 16, \"studytime\": 3, \"failures\": 0, \"goout\": 3, \"Dalc\": 1, \"Walc\": 3, \"absences\": 10, \"G3\": 10, \"result\": \"pass\"}, {\"sex\": \"M\", \"age\": 17, \"studytime\": 2, \"failures\": 0, \"goout\": 2, \"Dalc\": 5, \"Walc\": 5, \"absences\": 4, \"G3\": 13, \"result\": \"pass\"}, {\"sex\": \"F\", \"age\": 16, \"studytime\": 1, \"failures\": 0, \"goout\": 2, \"Dalc\": 1, \"Walc\": 1, \"absences\": 20, \"G3\": 12, \"result\": \"pass\"}, {\"sex\": \"F\", \"age\": 17, \"studytime\": 2, \"failures\": 0, \"goout\": 1, \"Dalc\": 1, \"Walc\": 1, \"absences\": 2, \"G3\": 11, \"result\": \"pass\"}, {\"sex\": \"M\", \"age\": 17, \"studytime\": 2, \"failures\": 0, \"goout\": 5, \"Dalc\": 1, \"Walc\": 4, \"absences\": 14, \"G3\": 12, \"result\": \"pass\"}, {\"sex\": \"M\", \"age\": 17, \"studytime\": 2, \"failures\": 0, \"goout\": 3, \"Dalc\": 2, \"Walc\": 3, \"absences\": 2, \"G3\": 12, \"result\": \"pass\"}, {\"sex\": \"M\", \"age\": 16, \"studytime\": 1, \"failures\": 0, \"goout\": 2, \"Dalc\": 1, \"Walc\": 2, \"absences\": 0, \"G3\": 12, \"result\": \"pass\"}, {\"sex\": \"M\", \"age\": 16, \"studytime\": 1, \"failures\": 0, \"goout\": 3, \"Dalc\": 1, \"Walc\": 1, \"absences\": 6, \"G3\": 18, \"result\": \"pass\"}, {\"sex\": \"M\", \"age\": 17, \"studytime\": 1, \"failures\": 0, \"goout\": 2, \"Dalc\": 1, \"Walc\": 1, \"absences\": 4, \"G3\": 13, \"result\": \"pass\"}, {\"sex\": \"M\", \"age\": 16, \"studytime\": 1, \"failures\": 0, \"goout\": 2, \"Dalc\": 2, \"Walc\": 4, \"absences\": 0, \"G3\": 15, \"result\": \"pass\"}, {\"sex\": \"M\", \"age\": 16, \"studytime\": 2, \"failures\": 0, \"goout\": 3, \"Dalc\": 1, \"Walc\": 3, \"absences\": 6, \"G3\": 10, \"result\": \"pass\"}, {\"sex\": \"M\", \"age\": 17, \"studytime\": 1, \"failures\": 0, \"goout\": 2, \"Dalc\": 2, \"Walc\": 4, \"absences\": 0, \"G3\": 12, \"result\": \"pass\"}, {\"sex\": \"F\", \"age\": 17, \"studytime\": 4, \"failures\": 0, \"goout\": 3, \"Dalc\": 1, \"Walc\": 1, \"absences\": 6, \"G3\": 13, \"result\": \"pass\"}, {\"sex\": \"M\", \"age\": 19, \"studytime\": 2, \"failures\": 0, \"goout\": 1, \"Dalc\": 1, \"Walc\": 1, \"absences\": 12, \"G3\": 11, \"result\": \"pass\"}, {\"sex\": \"M\", \"age\": 18, \"studytime\": 2, \"failures\": 0, \"goout\": 4, \"Dalc\": 1, \"Walc\": 2, \"absences\": 8, \"G3\": 14, \"result\": \"pass\"}, {\"sex\": \"F\", \"age\": 18, \"studytime\": 2, \"failures\": 0, \"goout\": 2, \"Dalc\": 1, \"Walc\": 3, \"absences\": 21, \"G3\": 18, \"result\": \"pass\"}, {\"sex\": \"M\", \"age\": 18, \"studytime\": 3, \"failures\": 0, \"goout\": 2, \"Dalc\": 1, \"Walc\": 1, \"absences\": 1, \"G3\": 12, \"result\": \"pass\"}, {\"sex\": \"M\", \"age\": 18, \"studytime\": 2, \"failures\": 0, \"goout\": 5, \"Dalc\": 3, \"Walc\": 4, \"absences\": 13, \"G3\": 17, \"result\": \"pass\"}, {\"sex\": \"M\", \"age\": 17, \"studytime\": 2, \"failures\": 0, \"goout\": 4, \"Dalc\": 3, \"Walc\": 4, \"absences\": 2, \"G3\": 10, \"result\": \"pass\"}, {\"sex\": \"F\", \"age\": 18, \"studytime\": 2, \"failures\": 0, \"goout\": 4, \"Dalc\": 2, \"Walc\": 2, \"absences\": 8, \"G3\": 11, \"result\": \"pass\"}, {\"sex\": \"M\", \"age\": 18, \"studytime\": 2, \"failures\": 0, \"goout\": 5, \"Dalc\": 1, \"Walc\": 3, \"absences\": 10, \"G3\": 10, \"result\": \"pass\"}, {\"sex\": \"F\", \"age\": 18, \"studytime\": 4, \"failures\": 0, \"goout\": 5, \"Dalc\": 1, \"Walc\": 3, \"absences\": 4, \"G3\": 14, \"result\": \"pass\"}, {\"sex\": \"F\", \"age\": 18, \"studytime\": 2, \"failures\": 0, \"goout\": 3, \"Dalc\": 1, \"Walc\": 1, \"absences\": 2, \"G3\": 11, \"result\": \"pass\"}, {\"sex\": \"M\", \"age\": 17, \"studytime\": 2, \"failures\": 0, \"goout\": 2, \"Dalc\": 2, \"Walc\": 2, \"absences\": 2, \"G3\": 14, \"result\": \"pass\"}, {\"sex\": \"F\", \"age\": 17, \"studytime\": 2, \"failures\": 0, \"goout\": 3, \"Dalc\": 1, \"Walc\": 1, \"absences\": 2, \"G3\": 10, \"result\": \"pass\"}, {\"sex\": \"F\", \"age\": 17, \"studytime\": 2, \"failures\": 0, \"goout\": 4, \"Dalc\": 2, \"Walc\": 3, \"absences\": 6, \"G3\": 12, \"result\": \"pass\"}, {\"sex\": \"M\", \"age\": 18, \"studytime\": 1, \"failures\": 0, \"goout\": 3, \"Dalc\": 1, \"Walc\": 2, \"absences\": 8, \"G3\": 10, \"result\": \"pass\"}, {\"sex\": \"M\", \"age\": 17, \"studytime\": 1, \"failures\": 1, \"goout\": 4, \"Dalc\": 3, \"Walc\": 4, \"absences\": 19, \"G3\": 10, \"result\": \"pass\"}, {\"sex\": \"F\", \"age\": 18, \"studytime\": 4, \"failures\": 0, \"goout\": 2, \"Dalc\": 1, \"Walc\": 1, \"absences\": 1, \"G3\": 12, \"result\": \"pass\"}, {\"sex\": \"F\", \"age\": 18, \"studytime\": 2, \"failures\": 0, \"goout\": 4, \"Dalc\": 1, \"Walc\": 1, \"absences\": 4, \"G3\": 10, \"result\": \"pass\"}, {\"sex\": \"F\", \"age\": 17, \"studytime\": 2, \"failures\": 0, \"goout\": 5, \"Dalc\": 1, \"Walc\": 2, \"absences\": 4, \"G3\": 11, \"result\": \"pass\"}, {\"sex\": \"M\", \"age\": 17, \"studytime\": 2, \"failures\": 0, \"goout\": 3, \"Dalc\": 1, \"Walc\": 2, \"absences\": 2, \"G3\": 11, \"result\": \"pass\"}, {\"sex\": \"F\", \"age\": 18, \"studytime\": 3, \"failures\": 0, \"goout\": 3, \"Dalc\": 1, \"Walc\": 2, \"absences\": 5, \"G3\": 19, \"result\": \"pass\"}, {\"sex\": \"F\", \"age\": 17, \"studytime\": 3, \"failures\": 0, \"goout\": 3, \"Dalc\": 1, \"Walc\": 1, \"absences\": 6, \"G3\": 12, \"result\": \"pass\"}, {\"sex\": \"M\", \"age\": 18, \"studytime\": 3, \"failures\": 0, \"goout\": 4, \"Dalc\": 1, \"Walc\": 3, \"absences\": 6, \"G3\": 14, \"result\": \"pass\"}, {\"sex\": \"M\", \"age\": 18, \"studytime\": 2, \"failures\": 0, \"goout\": 3, \"Dalc\": 1, \"Walc\": 1, \"absences\": 9, \"G3\": 15, \"result\": \"pass\"}, {\"sex\": \"M\", \"age\": 18, \"studytime\": 2, \"failures\": 0, \"goout\": 2, \"Dalc\": 1, \"Walc\": 4, \"absences\": 11, \"G3\": 11, \"result\": \"pass\"}, {\"sex\": \"F\", \"age\": 17, \"studytime\": 3, \"failures\": 0, \"goout\": 2, \"Dalc\": 1, \"Walc\": 2, \"absences\": 0, \"G3\": 15, \"result\": \"pass\"}, {\"sex\": \"F\", \"age\": 18, \"studytime\": 2, \"failures\": 1, \"goout\": 3, \"Dalc\": 1, \"Walc\": 1, \"absences\": 12, \"G3\": 13, \"result\": \"pass\"}, {\"sex\": \"F\", \"age\": 17, \"studytime\": 4, \"failures\": 0, \"goout\": 2, \"Dalc\": 1, \"Walc\": 1, \"absences\": 6, \"G3\": 18, \"result\": \"pass\"}, {\"sex\": \"M\", \"age\": 18, \"studytime\": 3, \"failures\": 0, \"goout\": 2, \"Dalc\": 1, \"Walc\": 1, \"absences\": 8, \"G3\": 14, \"result\": \"pass\"}, {\"sex\": \"M\", \"age\": 17, \"studytime\": 1, \"failures\": 0, \"goout\": 3, \"Dalc\": 1, \"Walc\": 3, \"absences\": 4, \"G3\": 11, \"result\": \"pass\"}, {\"sex\": \"F\", \"age\": 18, \"studytime\": 4, \"failures\": 0, \"goout\": 3, \"Dalc\": 1, \"Walc\": 1, \"absences\": 0, \"G3\": 14, \"result\": \"pass\"}, {\"sex\": \"M\", \"age\": 18, \"studytime\": 1, \"failures\": 0, \"goout\": 2, \"Dalc\": 2, \"Walc\": 2, \"absences\": 5, \"G3\": 16, \"result\": \"pass\"}, {\"sex\": \"F\", \"age\": 18, \"studytime\": 2, \"failures\": 0, \"goout\": 4, \"Dalc\": 1, \"Walc\": 1, \"absences\": 14, \"G3\": 11, \"result\": \"pass\"}, {\"sex\": \"M\", \"age\": 17, \"studytime\": 1, \"failures\": 0, \"goout\": 1, \"Dalc\": 2, \"Walc\": 2, \"absences\": 0, \"G3\": 10, \"result\": \"pass\"}, {\"sex\": \"F\", \"age\": 17, \"studytime\": 3, \"failures\": 0, \"goout\": 3, \"Dalc\": 1, \"Walc\": 1, \"absences\": 0, \"G3\": 14, \"result\": \"pass\"}, {\"sex\": \"F\", \"age\": 17, \"studytime\": 4, \"failures\": 0, \"goout\": 2, \"Dalc\": 1, \"Walc\": 2, \"absences\": 0, \"G3\": 18, \"result\": \"pass\"}, {\"sex\": \"M\", \"age\": 19, \"studytime\": 2, \"failures\": 1, \"goout\": 4, \"Dalc\": 1, \"Walc\": 1, \"absences\": 20, \"G3\": 13, \"result\": \"pass\"}, {\"sex\": \"F\", \"age\": 18, \"studytime\": 2, \"failures\": 1, \"goout\": 3, \"Dalc\": 1, \"Walc\": 1, \"absences\": 8, \"G3\": 12, \"result\": \"pass\"}, {\"sex\": \"M\", \"age\": 20, \"studytime\": 1, \"failures\": 0, \"goout\": 3, \"Dalc\": 1, \"Walc\": 1, \"absences\": 0, \"G3\": 18, \"result\": \"pass\"}, {\"sex\": \"M\", \"age\": 19, \"studytime\": 2, \"failures\": 1, \"goout\": 3, \"Dalc\": 1, \"Walc\": 2, \"absences\": 0, \"G3\": 12, \"result\": \"pass\"}, {\"sex\": \"F\", \"age\": 19, \"studytime\": 2, \"failures\": 1, \"goout\": 3, \"Dalc\": 1, \"Walc\": 3, \"absences\": 18, \"G3\": 10, \"result\": \"pass\"}, {\"sex\": \"F\", \"age\": 19, \"studytime\": 2, \"failures\": 0, \"goout\": 1, \"Dalc\": 1, \"Walc\": 1, \"absences\": 20, \"G3\": 13, \"result\": \"pass\"}, {\"sex\": \"M\", \"age\": 19, \"studytime\": 2, \"failures\": 1, \"goout\": 2, \"Dalc\": 2, \"Walc\": 2, \"absences\": 3, \"G3\": 11, \"result\": \"pass\"}, {\"sex\": \"F\", \"age\": 19, \"studytime\": 2, \"failures\": 1, \"goout\": 2, \"Dalc\": 1, \"Walc\": 2, \"absences\": 22, \"G3\": 11, \"result\": \"pass\"}, {\"sex\": \"F\", \"age\": 19, \"studytime\": 3, \"failures\": 2, \"goout\": 2, \"Dalc\": 1, \"Walc\": 1, \"absences\": 14, \"G3\": 13, \"result\": \"pass\"}, {\"sex\": \"F\", \"age\": 19, \"studytime\": 3, \"failures\": 1, \"goout\": 2, \"Dalc\": 1, \"Walc\": 1, \"absences\": 40, \"G3\": 11, \"result\": \"pass\"}, {\"sex\": \"F\", \"age\": 17, \"studytime\": 3, \"failures\": 0, \"goout\": 4, \"Dalc\": 2, \"Walc\": 5, \"absences\": 0, \"G3\": 10, \"result\": \"pass\"}, {\"sex\": \"F\", \"age\": 18, \"studytime\": 2, \"failures\": 0, \"goout\": 4, \"Dalc\": 3, \"Walc\": 3, \"absences\": 2, \"G3\": 11, \"result\": \"pass\"}, {\"sex\": \"F\", \"age\": 17, \"studytime\": 2, \"failures\": 0, \"goout\": 2, \"Dalc\": 1, \"Walc\": 2, \"absences\": 23, \"G3\": 13, \"result\": \"pass\"}, {\"sex\": \"F\", \"age\": 17, \"studytime\": 3, \"failures\": 0, \"goout\": 2, \"Dalc\": 2, \"Walc\": 2, \"absences\": 3, \"G3\": 11, \"result\": \"pass\"}, {\"sex\": \"F\", \"age\": 17, \"studytime\": 3, \"failures\": 0, \"goout\": 3, \"Dalc\": 2, \"Walc\": 3, \"absences\": 1, \"G3\": 15, \"result\": \"pass\"}, {\"sex\": \"F\", \"age\": 17, \"studytime\": 3, \"failures\": 0, \"goout\": 3, \"Dalc\": 2, \"Walc\": 3, \"absences\": 0, \"G3\": 15, \"result\": \"pass\"}, {\"sex\": \"M\", \"age\": 18, \"studytime\": 3, \"failures\": 0, \"goout\": 3, \"Dalc\": 2, \"Walc\": 2, \"absences\": 3, \"G3\": 11, \"result\": \"pass\"}, {\"sex\": \"M\", \"age\": 17, \"studytime\": 1, \"failures\": 0, \"goout\": 5, \"Dalc\": 3, \"Walc\": 5, \"absences\": 3, \"G3\": 16, \"result\": \"pass\"}, {\"sex\": \"M\", \"age\": 17, \"studytime\": 1, \"failures\": 0, \"goout\": 5, \"Dalc\": 5, \"Walc\": 5, \"absences\": 8, \"G3\": 10, \"result\": \"pass\"}, {\"sex\": \"F\", \"age\": 17, \"studytime\": 3, \"failures\": 0, \"goout\": 3, \"Dalc\": 1, \"Walc\": 2, \"absences\": 4, \"G3\": 14, \"result\": \"pass\"}, {\"sex\": \"F\", \"age\": 17, \"studytime\": 3, \"failures\": 0, \"goout\": 3, \"Dalc\": 1, \"Walc\": 1, \"absences\": 7, \"G3\": 14, \"result\": \"pass\"}, {\"sex\": \"F\", \"age\": 17, \"studytime\": 3, \"failures\": 0, \"goout\": 5, \"Dalc\": 1, \"Walc\": 3, \"absences\": 16, \"G3\": 15, \"result\": \"pass\"}, {\"sex\": \"F\", \"age\": 19, \"studytime\": 3, \"failures\": 1, \"goout\": 3, \"Dalc\": 1, \"Walc\": 2, \"absences\": 12, \"G3\": 13, \"result\": \"pass\"}, {\"sex\": \"F\", \"age\": 18, \"studytime\": 4, \"failures\": 0, \"goout\": 3, \"Dalc\": 1, \"Walc\": 1, \"absences\": 7, \"G3\": 17, \"result\": \"pass\"}, {\"sex\": \"F\", \"age\": 17, \"studytime\": 2, \"failures\": 0, \"goout\": 3, \"Dalc\": 2, \"Walc\": 3, \"absences\": 4, \"G3\": 10, \"result\": \"pass\"}, {\"sex\": \"F\", \"age\": 19, \"studytime\": 3, \"failures\": 1, \"goout\": 4, \"Dalc\": 1, \"Walc\": 3, \"absences\": 4, \"G3\": 11, \"result\": \"pass\"}, {\"sex\": \"M\", \"age\": 18, \"studytime\": 2, \"failures\": 0, \"goout\": 3, \"Dalc\": 1, \"Walc\": 3, \"absences\": 11, \"G3\": 15, \"result\": \"pass\"}, {\"sex\": \"F\", \"age\": 18, \"studytime\": 3, \"failures\": 0, \"goout\": 3, \"Dalc\": 1, \"Walc\": 2, \"absences\": 4, \"G3\": 10, \"result\": \"pass\"}, {\"sex\": \"F\", \"age\": 18, \"studytime\": 3, \"failures\": 0, \"goout\": 3, \"Dalc\": 2, \"Walc\": 3, \"absences\": 7, \"G3\": 14, \"result\": \"pass\"}, {\"sex\": \"M\", \"age\": 18, \"studytime\": 3, \"failures\": 0, \"goout\": 2, \"Dalc\": 1, \"Walc\": 2, \"absences\": 9, \"G3\": 16, \"result\": \"pass\"}, {\"sex\": \"F\", \"age\": 17, \"studytime\": 3, \"failures\": 0, \"goout\": 3, \"Dalc\": 1, \"Walc\": 3, \"absences\": 0, \"G3\": 15, \"result\": \"pass\"}, {\"sex\": \"M\", \"age\": 18, \"studytime\": 1, \"failures\": 1, \"goout\": 5, \"Dalc\": 5, \"Walc\": 5, \"absences\": 10, \"G3\": 13, \"result\": \"pass\"}, {\"sex\": \"M\", \"age\": 17, \"studytime\": 2, \"failures\": 0, \"goout\": 4, \"Dalc\": 2, \"Walc\": 3, \"absences\": 2, \"G3\": 13, \"result\": \"pass\"}, {\"sex\": \"M\", \"age\": 17, \"studytime\": 2, \"failures\": 0, \"goout\": 5, \"Dalc\": 1, \"Walc\": 3, \"absences\": 4, \"G3\": 11, \"result\": \"pass\"}, {\"sex\": \"F\", \"age\": 17, \"studytime\": 2, \"failures\": 0, \"goout\": 3, \"Dalc\": 1, \"Walc\": 2, \"absences\": 4, \"G3\": 13, \"result\": \"pass\"}, {\"sex\": \"F\", \"age\": 17, \"studytime\": 2, \"failures\": 0, \"goout\": 3, \"Dalc\": 1, \"Walc\": 2, \"absences\": 2, \"G3\": 11, \"result\": \"pass\"}, {\"sex\": \"M\", \"age\": 18, \"studytime\": 1, \"failures\": 0, \"goout\": 2, \"Dalc\": 1, \"Walc\": 2, \"absences\": 4, \"G3\": 10, \"result\": \"pass\"}, {\"sex\": \"F\", \"age\": 18, \"studytime\": 3, \"failures\": 0, \"goout\": 2, \"Dalc\": 1, \"Walc\": 1, \"absences\": 0, \"G3\": 16, \"result\": \"pass\"}, {\"sex\": \"F\", \"age\": 18, \"studytime\": 2, \"failures\": 0, \"goout\": 4, \"Dalc\": 1, \"Walc\": 4, \"absences\": 0, \"G3\": 13, \"result\": \"pass\"}, {\"sex\": \"M\", \"age\": 18, \"studytime\": 2, \"failures\": 1, \"goout\": 3, \"Dalc\": 2, \"Walc\": 3, \"absences\": 2, \"G3\": 12, \"result\": \"pass\"}, {\"sex\": \"F\", \"age\": 18, \"studytime\": 2, \"failures\": 0, \"goout\": 2, \"Dalc\": 1, \"Walc\": 3, \"absences\": 0, \"G3\": 10, \"result\": \"pass\"}, {\"sex\": \"F\", \"age\": 17, \"studytime\": 2, \"failures\": 0, \"goout\": 4, \"Dalc\": 1, \"Walc\": 1, \"absences\": 0, \"G3\": 15, \"result\": \"pass\"}, {\"sex\": \"F\", \"age\": 17, \"studytime\": 2, \"failures\": 0, \"goout\": 2, \"Dalc\": 1, \"Walc\": 2, \"absences\": 0, \"G3\": 12, \"result\": \"pass\"}, {\"sex\": \"M\", \"age\": 18, \"studytime\": 2, \"failures\": 0, \"goout\": 4, \"Dalc\": 2, \"Walc\": 4, \"absences\": 4, \"G3\": 10, \"result\": \"pass\"}, {\"sex\": \"M\", \"age\": 18, \"studytime\": 3, \"failures\": 0, \"goout\": 2, \"Dalc\": 2, \"Walc\": 2, \"absences\": 0, \"G3\": 13, \"result\": \"pass\"}, {\"sex\": \"F\", \"age\": 18, \"studytime\": 1, \"failures\": 0, \"goout\": 3, \"Dalc\": 1, \"Walc\": 2, \"absences\": 0, \"G3\": 10, \"result\": \"pass\"}, {\"sex\": \"F\", \"age\": 18, \"studytime\": 2, \"failures\": 0, \"goout\": 2, \"Dalc\": 4, \"Walc\": 2, \"absences\": 10, \"G3\": 11, \"result\": \"pass\"}, {\"sex\": \"M\", \"age\": 18, \"studytime\": 1, \"failures\": 0, \"goout\": 3, \"Dalc\": 2, \"Walc\": 3, \"absences\": 3, \"G3\": 12, \"result\": \"pass\"}, {\"sex\": \"F\", \"age\": 17, \"studytime\": 3, \"failures\": 0, \"goout\": 3, \"Dalc\": 1, \"Walc\": 1, \"absences\": 8, \"G3\": 11, \"result\": \"pass\"}, {\"sex\": \"F\", \"age\": 18, \"studytime\": 3, \"failures\": 0, \"goout\": 4, \"Dalc\": 1, \"Walc\": 1, \"absences\": 0, \"G3\": 19, \"result\": \"pass\"}, {\"sex\": \"F\", \"age\": 18, \"studytime\": 3, \"failures\": 0, \"goout\": 2, \"Dalc\": 1, \"Walc\": 2, \"absences\": 2, \"G3\": 10, \"result\": \"pass\"}, {\"sex\": \"F\", \"age\": 20, \"studytime\": 3, \"failures\": 2, \"goout\": 3, \"Dalc\": 1, \"Walc\": 1, \"absences\": 4, \"G3\": 15, \"result\": \"pass\"}, {\"sex\": \"F\", \"age\": 18, \"studytime\": 2, \"failures\": 0, \"goout\": 3, \"Dalc\": 3, \"Walc\": 4, \"absences\": 4, \"G3\": 10, \"result\": \"pass\"}, {\"sex\": \"F\", \"age\": 18, \"studytime\": 2, \"failures\": 0, \"goout\": 3, \"Dalc\": 1, \"Walc\": 2, \"absences\": 0, \"G3\": 15, \"result\": \"pass\"}, {\"sex\": \"F\", \"age\": 17, \"studytime\": 2, \"failures\": 0, \"goout\": 4, \"Dalc\": 2, \"Walc\": 3, \"absences\": 17, \"G3\": 10, \"result\": \"pass\"}, {\"sex\": \"M\", \"age\": 18, \"studytime\": 2, \"failures\": 0, \"goout\": 4, \"Dalc\": 1, \"Walc\": 4, \"absences\": 4, \"G3\": 14, \"result\": \"pass\"}, {\"sex\": \"M\", \"age\": 17, \"studytime\": 2, \"failures\": 0, \"goout\": 3, \"Dalc\": 1, \"Walc\": 1, \"absences\": 2, \"G3\": 10, \"result\": \"pass\"}, {\"sex\": \"F\", \"age\": 18, \"studytime\": 3, \"failures\": 0, \"goout\": 3, \"Dalc\": 1, \"Walc\": 3, \"absences\": 2, \"G3\": 10, \"result\": \"pass\"}, {\"sex\": \"M\", \"age\": 17, \"studytime\": 1, \"failures\": 0, \"goout\": 5, \"Dalc\": 3, \"Walc\": 4, \"absences\": 3, \"G3\": 16, \"result\": \"pass\"}, {\"sex\": \"M\", \"age\": 18, \"studytime\": 1, \"failures\": 0, \"goout\": 1, \"Dalc\": 3, \"Walc\": 4, \"absences\": 0, \"G3\": 10, \"result\": \"pass\"}, {\"sex\": \"F\", \"age\": 18, \"studytime\": 2, \"failures\": 0, \"goout\": 4, \"Dalc\": 1, \"Walc\": 1, \"absences\": 6, \"G3\": 6, \"result\": \"fail\"}, {\"sex\": \"F\", \"age\": 17, \"studytime\": 2, \"failures\": 0, \"goout\": 3, \"Dalc\": 1, \"Walc\": 1, \"absences\": 4, \"G3\": 6, \"result\": \"fail\"}, {\"sex\": \"F\", \"age\": 17, \"studytime\": 2, \"failures\": 0, \"goout\": 4, \"Dalc\": 1, \"Walc\": 1, \"absences\": 6, \"G3\": 6, \"result\": \"fail\"}, {\"sex\": \"F\", \"age\": 15, \"studytime\": 2, \"failures\": 0, \"goout\": 3, \"Dalc\": 1, \"Walc\": 2, \"absences\": 0, \"G3\": 9, \"result\": \"fail\"}, {\"sex\": \"M\", \"age\": 17, \"studytime\": 1, \"failures\": 3, \"goout\": 5, \"Dalc\": 2, \"Walc\": 4, \"absences\": 16, \"G3\": 5, \"result\": \"fail\"}, {\"sex\": \"F\", \"age\": 15, \"studytime\": 3, \"failures\": 0, \"goout\": 2, \"Dalc\": 1, \"Walc\": 1, \"absences\": 2, \"G3\": 8, \"result\": \"fail\"}, {\"sex\": \"F\", \"age\": 16, \"studytime\": 1, \"failures\": 2, \"goout\": 2, \"Dalc\": 1, \"Walc\": 3, \"absences\": 14, \"G3\": 8, \"result\": \"fail\"}, {\"sex\": \"F\", \"age\": 15, \"studytime\": 1, \"failures\": 0, \"goout\": 1, \"Dalc\": 1, \"Walc\": 1, \"absences\": 0, \"G3\": 6, \"result\": \"fail\"}, {\"sex\": \"F\", \"age\": 16, \"studytime\": 2, \"failures\": 1, \"goout\": 3, \"Dalc\": 2, \"Walc\": 2, \"absences\": 14, \"G3\": 9, \"result\": \"fail\"}, {\"sex\": \"F\", \"age\": 15, \"studytime\": 2, \"failures\": 0, \"goout\": 2, \"Dalc\": 1, \"Walc\": 1, \"absences\": 8, \"G3\": 6, \"result\": \"fail\"}, {\"sex\": \"F\", \"age\": 15, \"studytime\": 2, \"failures\": 1, \"goout\": 4, \"Dalc\": 1, \"Walc\": 1, \"absences\": 2, \"G3\": 7, \"result\": \"fail\"}, {\"sex\": \"M\", \"age\": 15, \"studytime\": 2, \"failures\": 0, \"goout\": 2, \"Dalc\": 1, \"Walc\": 1, \"absences\": 2, \"G3\": 9, \"result\": \"fail\"}, {\"sex\": \"F\", \"age\": 16, \"studytime\": 2, \"failures\": 0, \"goout\": 3, \"Dalc\": 1, \"Walc\": 1, \"absences\": 4, \"G3\": 9, \"result\": \"fail\"}, {\"sex\": \"F\", \"age\": 16, \"studytime\": 3, \"failures\": 0, \"goout\": 4, \"Dalc\": 2, \"Walc\": 4, \"absences\": 2, \"G3\": 9, \"result\": \"fail\"}, {\"sex\": \"F\", \"age\": 16, \"studytime\": 4, \"failures\": 0, \"goout\": 3, \"Dalc\": 1, \"Walc\": 2, \"absences\": 4, \"G3\": 6, \"result\": \"fail\"}, {\"sex\": \"F\", \"age\": 15, \"studytime\": 2, \"failures\": 0, \"goout\": 3, \"Dalc\": 1, \"Walc\": 3, \"absences\": 2, \"G3\": 8, \"result\": \"fail\"}, {\"sex\": \"F\", \"age\": 15, \"studytime\": 2, \"failures\": 2, \"goout\": 4, \"Dalc\": 2, \"Walc\": 4, \"absences\": 2, \"G3\": 5, \"result\": \"fail\"}, {\"sex\": \"F\", \"age\": 16, \"studytime\": 2, \"failures\": 0, \"goout\": 3, \"Dalc\": 1, \"Walc\": 2, \"absences\": 12, \"G3\": 5, \"result\": \"fail\"}, {\"sex\": \"F\", \"age\": 15, \"studytime\": 2, \"failures\": 0, \"goout\": 4, \"Dalc\": 1, \"Walc\": 1, \"absences\": 10, \"G3\": 6, \"result\": \"fail\"}, {\"sex\": \"F\", \"age\": 15, \"studytime\": 2, \"failures\": 2, \"goout\": 4, \"Dalc\": 2, \"Walc\": 3, \"absences\": 6, \"G3\": 8, \"result\": \"fail\"}, {\"sex\": \"F\", \"age\": 16, \"studytime\": 2, \"failures\": 0, \"goout\": 4, \"Dalc\": 1, \"Walc\": 2, \"absences\": 4, \"G3\": 6, \"result\": \"fail\"}, {\"sex\": \"M\", \"age\": 16, \"studytime\": 2, \"failures\": 0, \"goout\": 3, \"Dalc\": 3, \"Walc\": 5, \"absences\": 18, \"G3\": 7, \"result\": \"fail\"}, {\"sex\": \"F\", \"age\": 16, \"studytime\": 3, \"failures\": 0, \"goout\": 3, \"Dalc\": 1, \"Walc\": 3, \"absences\": 0, \"G3\": 8, \"result\": \"fail\"}, {\"sex\": \"F\", \"age\": 16, \"studytime\": 2, \"failures\": 0, \"goout\": 3, \"Dalc\": 2, \"Walc\": 3, \"absences\": 4, \"G3\": 6, \"result\": \"fail\"}, {\"sex\": \"F\", \"age\": 16, \"studytime\": 3, \"failures\": 0, \"goout\": 5, \"Dalc\": 1, \"Walc\": 1, \"absences\": 0, \"G3\": 8, \"result\": \"fail\"}, {\"sex\": \"M\", \"age\": 16, \"studytime\": 1, \"failures\": 0, \"goout\": 5, \"Dalc\": 5, \"Walc\": 5, \"absences\": 14, \"G3\": 5, \"result\": \"fail\"}, {\"sex\": \"F\", \"age\": 15, \"studytime\": 2, \"failures\": 0, \"goout\": 5, \"Dalc\": 1, \"Walc\": 1, \"absences\": 26, \"G3\": 6, \"result\": \"fail\"}, {\"sex\": \"F\", \"age\": 15, \"studytime\": 4, \"failures\": 0, \"goout\": 2, \"Dalc\": 1, \"Walc\": 1, \"absences\": 8, \"G3\": 8, \"result\": \"fail\"}, {\"sex\": \"M\", \"age\": 15, \"studytime\": 2, \"failures\": 0, \"goout\": 2, \"Dalc\": 1, \"Walc\": 1, \"absences\": 8, \"G3\": 9, \"result\": \"fail\"}, {\"sex\": \"M\", \"age\": 17, \"studytime\": 2, \"failures\": 1, \"goout\": 4, \"Dalc\": 1, \"Walc\": 4, \"absences\": 20, \"G3\": 8, \"result\": \"fail\"}, {\"sex\": \"F\", \"age\": 16, \"studytime\": 2, \"failures\": 0, \"goout\": 4, \"Dalc\": 1, \"Walc\": 1, \"absences\": 0, \"G3\": 8, \"result\": \"fail\"}, {\"sex\": \"F\", \"age\": 19, \"studytime\": 2, \"failures\": 3, \"goout\": 2, \"Dalc\": 1, \"Walc\": 1, \"absences\": 2, \"G3\": 9, \"result\": \"fail\"}, {\"sex\": \"M\", \"age\": 18, \"studytime\": 1, \"failures\": 2, \"goout\": 3, \"Dalc\": 1, \"Walc\": 2, \"absences\": 0, \"G3\": 0, \"result\": \"fail\"}, {\"sex\": \"F\", \"age\": 15, \"studytime\": 3, \"failures\": 2, \"goout\": 2, \"Dalc\": 2, \"Walc\": 2, \"absences\": 0, \"G3\": 0, \"result\": \"fail\"}, {\"sex\": \"F\", \"age\": 15, \"studytime\": 1, \"failures\": 0, \"goout\": 3, \"Dalc\": 1, \"Walc\": 2, \"absences\": 0, \"G3\": 0, \"result\": \"fail\"}, {\"sex\": \"M\", \"age\": 15, \"studytime\": 2, \"failures\": 0, \"goout\": 3, \"Dalc\": 1, \"Walc\": 1, \"absences\": 0, \"G3\": 0, \"result\": \"fail\"}, {\"sex\": \"F\", \"age\": 15, \"studytime\": 3, \"failures\": 0, \"goout\": 3, \"Dalc\": 1, \"Walc\": 1, \"absences\": 0, \"G3\": 0, \"result\": \"fail\"}, {\"sex\": \"M\", \"age\": 17, \"studytime\": 2, \"failures\": 0, \"goout\": 5, \"Dalc\": 2, \"Walc\": 4, \"absences\": 0, \"G3\": 0, \"result\": \"fail\"}, {\"sex\": \"F\", \"age\": 16, \"studytime\": 1, \"failures\": 2, \"goout\": 2, \"Dalc\": 1, \"Walc\": 1, \"absences\": 0, \"G3\": 0, \"result\": \"fail\"}, {\"sex\": \"M\", \"age\": 15, \"studytime\": 4, \"failures\": 0, \"goout\": 2, \"Dalc\": 1, \"Walc\": 1, \"absences\": 0, \"G3\": 0, \"result\": \"fail\"}, {\"sex\": \"M\", \"age\": 16, \"studytime\": 1, \"failures\": 2, \"goout\": 3, \"Dalc\": 2, \"Walc\": 2, \"absences\": 8, \"G3\": 9, \"result\": \"fail\"}, {\"sex\": \"M\", \"age\": 17, \"studytime\": 1, \"failures\": 3, \"goout\": 5, \"Dalc\": 1, \"Walc\": 2, \"absences\": 0, \"G3\": 0, \"result\": \"fail\"}, {\"sex\": \"F\", \"age\": 15, \"studytime\": 2, \"failures\": 3, \"goout\": 2, \"Dalc\": 1, \"Walc\": 1, \"absences\": 0, \"G3\": 0, \"result\": \"fail\"}, {\"sex\": \"M\", \"age\": 16, \"studytime\": 1, \"failures\": 0, \"goout\": 2, \"Dalc\": 2, \"Walc\": 1, \"absences\": 0, \"G3\": 0, \"result\": \"fail\"}, {\"sex\": \"M\", \"age\": 18, \"studytime\": 1, \"failures\": 3, \"goout\": 5, \"Dalc\": 2, \"Walc\": 5, \"absences\": 0, \"G3\": 0, \"result\": \"fail\"}, {\"sex\": \"M\", \"age\": 19, \"studytime\": 1, \"failures\": 3, \"goout\": 4, \"Dalc\": 1, \"Walc\": 1, \"absences\": 0, \"G3\": 0, \"result\": \"fail\"}, {\"sex\": \"M\", \"age\": 15, \"studytime\": 2, \"failures\": 0, \"goout\": 4, \"Dalc\": 1, \"Walc\": 1, \"absences\": 2, \"G3\": 8, \"result\": \"fail\"}, {\"sex\": \"M\", \"age\": 17, \"studytime\": 1, \"failures\": 2, \"goout\": 2, \"Dalc\": 2, \"Walc\": 2, \"absences\": 0, \"G3\": 0, \"result\": \"fail\"}, {\"sex\": \"M\", \"age\": 15, \"studytime\": 2, \"failures\": 2, \"goout\": 4, \"Dalc\": 1, \"Walc\": 4, \"absences\": 6, \"G3\": 7, \"result\": \"fail\"}, {\"sex\": \"M\", \"age\": 16, \"studytime\": 1, \"failures\": 1, \"goout\": 4, \"Dalc\": 2, \"Walc\": 4, \"absences\": 0, \"G3\": 0, \"result\": \"fail\"}, {\"sex\": \"M\", \"age\": 17, \"studytime\": 2, \"failures\": 3, \"goout\": 5, \"Dalc\": 1, \"Walc\": 5, \"absences\": 0, \"G3\": 7, \"result\": \"fail\"}, {\"sex\": \"F\", \"age\": 16, \"studytime\": 2, \"failures\": 0, \"goout\": 5, \"Dalc\": 1, \"Walc\": 1, \"absences\": 0, \"G3\": 0, \"result\": \"fail\"}, {\"sex\": \"M\", \"age\": 16, \"studytime\": 1, \"failures\": 2, \"goout\": 5, \"Dalc\": 2, \"Walc\": 4, \"absences\": 0, \"G3\": 0, \"result\": \"fail\"}, {\"sex\": \"F\", \"age\": 16, \"studytime\": 2, \"failures\": 3, \"goout\": 5, \"Dalc\": 1, \"Walc\": 1, \"absences\": 0, \"G3\": 0, \"result\": \"fail\"}, {\"sex\": \"F\", \"age\": 16, \"studytime\": 2, \"failures\": 0, \"goout\": 5, \"Dalc\": 1, \"Walc\": 1, \"absences\": 4, \"G3\": 9, \"result\": \"fail\"}, {\"sex\": \"M\", \"age\": 17, \"studytime\": 2, \"failures\": 0, \"goout\": 4, \"Dalc\": 4, \"Walc\": 4, \"absences\": 4, \"G3\": 9, \"result\": \"fail\"}, {\"sex\": \"M\", \"age\": 17, \"studytime\": 2, \"failures\": 0, \"goout\": 4, \"Dalc\": 1, \"Walc\": 4, \"absences\": 4, \"G3\": 6, \"result\": \"fail\"}, {\"sex\": \"M\", \"age\": 16, \"studytime\": 1, \"failures\": 0, \"goout\": 3, \"Dalc\": 3, \"Walc\": 4, \"absences\": 10, \"G3\": 9, \"result\": \"fail\"}, {\"sex\": \"M\", \"age\": 16, \"studytime\": 2, \"failures\": 0, \"goout\": 3, \"Dalc\": 2, \"Walc\": 3, \"absences\": 10, \"G3\": 8, \"result\": \"fail\"}, {\"sex\": \"F\", \"age\": 17, \"studytime\": 2, \"failures\": 0, \"goout\": 3, \"Dalc\": 2, \"Walc\": 3, \"absences\": 56, \"G3\": 8, \"result\": \"fail\"}, {\"sex\": \"F\", \"age\": 17, \"studytime\": 2, \"failures\": 0, \"goout\": 3, \"Dalc\": 1, \"Walc\": 3, \"absences\": 6, \"G3\": 9, \"result\": \"fail\"}, {\"sex\": \"F\", \"age\": 17, \"studytime\": 2, \"failures\": 0, \"goout\": 3, \"Dalc\": 1, \"Walc\": 1, \"absences\": 0, \"G3\": 9, \"result\": \"fail\"}, {\"sex\": \"M\", \"age\": 17, \"studytime\": 2, \"failures\": 0, \"goout\": 4, \"Dalc\": 4, \"Walc\": 5, \"absences\": 12, \"G3\": 8, \"result\": \"fail\"}, {\"sex\": \"F\", \"age\": 17, \"studytime\": 1, \"failures\": 0, \"goout\": 2, \"Dalc\": 1, \"Walc\": 2, \"absences\": 18, \"G3\": 6, \"result\": \"fail\"}, {\"sex\": \"F\", \"age\": 17, \"studytime\": 3, \"failures\": 1, \"goout\": 3, \"Dalc\": 3, \"Walc\": 4, \"absences\": 28, \"G3\": 9, \"result\": \"fail\"}, {\"sex\": \"F\", \"age\": 16, \"studytime\": 2, \"failures\": 3, \"goout\": 3, \"Dalc\": 2, \"Walc\": 2, \"absences\": 5, \"G3\": 7, \"result\": \"fail\"}, {\"sex\": \"F\", \"age\": 17, \"studytime\": 3, \"failures\": 0, \"goout\": 2, \"Dalc\": 1, \"Walc\": 1, \"absences\": 6, \"G3\": 7, \"result\": \"fail\"}, {\"sex\": \"F\", \"age\": 19, \"studytime\": 4, \"failures\": 0, \"goout\": 3, \"Dalc\": 1, \"Walc\": 2, \"absences\": 10, \"G3\": 8, \"result\": \"fail\"}, {\"sex\": \"M\", \"age\": 18, \"studytime\": 2, \"failures\": 1, \"goout\": 4, \"Dalc\": 2, \"Walc\": 4, \"absences\": 15, \"G3\": 8, \"result\": \"fail\"}, {\"sex\": \"F\", \"age\": 17, \"studytime\": 2, \"failures\": 2, \"goout\": 5, \"Dalc\": 2, \"Walc\": 4, \"absences\": 22, \"G3\": 4, \"result\": \"fail\"}, {\"sex\": \"M\", \"age\": 18, \"studytime\": 2, \"failures\": 1, \"goout\": 4, \"Dalc\": 2, \"Walc\": 4, \"absences\": 13, \"G3\": 8, \"result\": \"fail\"}, {\"sex\": \"F\", \"age\": 17, \"studytime\": 1, \"failures\": 0, \"goout\": 3, \"Dalc\": 1, \"Walc\": 4, \"absences\": 3, \"G3\": 8, \"result\": \"fail\"}, {\"sex\": \"F\", \"age\": 17, \"studytime\": 2, \"failures\": 0, \"goout\": 5, \"Dalc\": 1, \"Walc\": 2, \"absences\": 2, \"G3\": 6, \"result\": \"fail\"}, {\"sex\": \"F\", \"age\": 17, \"studytime\": 3, \"failures\": 1, \"goout\": 4, \"Dalc\": 1, \"Walc\": 1, \"absences\": 0, \"G3\": 0, \"result\": \"fail\"}, {\"sex\": \"F\", \"age\": 18, \"studytime\": 2, \"failures\": 1, \"goout\": 3, \"Dalc\": 1, \"Walc\": 1, \"absences\": 16, \"G3\": 7, \"result\": \"fail\"}, {\"sex\": \"M\", \"age\": 18, \"studytime\": 2, \"failures\": 0, \"goout\": 2, \"Dalc\": 4, \"Walc\": 5, \"absences\": 14, \"G3\": 9, \"result\": \"fail\"}, {\"sex\": \"M\", \"age\": 17, \"studytime\": 2, \"failures\": 0, \"goout\": 5, \"Dalc\": 1, \"Walc\": 3, \"absences\": 14, \"G3\": 9, \"result\": \"fail\"}, {\"sex\": \"M\", \"age\": 16, \"studytime\": 2, \"failures\": 0, \"goout\": 2, \"Dalc\": 1, \"Walc\": 1, \"absences\": 18, \"G3\": 6, \"result\": \"fail\"}, {\"sex\": \"M\", \"age\": 18, \"studytime\": 2, \"failures\": 1, \"goout\": 4, \"Dalc\": 3, \"Walc\": 5, \"absences\": 0, \"G3\": 0, \"result\": \"fail\"}, {\"sex\": \"M\", \"age\": 16, \"studytime\": 1, \"failures\": 0, \"goout\": 5, \"Dalc\": 1, \"Walc\": 1, \"absences\": 0, \"G3\": 0, \"result\": \"fail\"}, {\"sex\": \"F\", \"age\": 18, \"studytime\": 3, \"failures\": 0, \"goout\": 4, \"Dalc\": 1, \"Walc\": 1, \"absences\": 0, \"G3\": 0, \"result\": \"fail\"}, {\"sex\": \"M\", \"age\": 22, \"studytime\": 1, \"failures\": 3, \"goout\": 5, \"Dalc\": 5, \"Walc\": 5, \"absences\": 16, \"G3\": 8, \"result\": \"fail\"}, {\"sex\": \"M\", \"age\": 18, \"studytime\": 2, \"failures\": 1, \"goout\": 3, \"Dalc\": 1, \"Walc\": 3, \"absences\": 8, \"G3\": 5, \"result\": \"fail\"}, {\"sex\": \"M\", \"age\": 18, \"studytime\": 1, \"failures\": 1, \"goout\": 5, \"Dalc\": 2, \"Walc\": 4, \"absences\": 0, \"G3\": 8, \"result\": \"fail\"}, {\"sex\": \"M\", \"age\": 18, \"studytime\": 1, \"failures\": 1, \"goout\": 5, \"Dalc\": 2, \"Walc\": 5, \"absences\": 4, \"G3\": 8, \"result\": \"fail\"}, {\"sex\": \"M\", \"age\": 16, \"studytime\": 1, \"failures\": 0, \"goout\": 2, \"Dalc\": 1, \"Walc\": 3, \"absences\": 0, \"G3\": 8, \"result\": \"fail\"}, {\"sex\": \"M\", \"age\": 17, \"studytime\": 1, \"failures\": 1, \"goout\": 4, \"Dalc\": 1, \"Walc\": 2, \"absences\": 2, \"G3\": 8, \"result\": \"fail\"}, {\"sex\": \"F\", \"age\": 17, \"studytime\": 4, \"failures\": 0, \"goout\": 1, \"Dalc\": 1, \"Walc\": 1, \"absences\": 0, \"G3\": 0, \"result\": \"fail\"}, {\"sex\": \"M\", \"age\": 18, \"studytime\": 2, \"failures\": 0, \"goout\": 2, \"Dalc\": 1, \"Walc\": 1, \"absences\": 2, \"G3\": 8, \"result\": \"fail\"}, {\"sex\": \"F\", \"age\": 17, \"studytime\": 3, \"failures\": 0, \"goout\": 3, \"Dalc\": 1, \"Walc\": 1, \"absences\": 4, \"G3\": 9, \"result\": \"fail\"}, {\"sex\": \"F\", \"age\": 18, \"studytime\": 3, \"failures\": 0, \"goout\": 3, \"Dalc\": 1, \"Walc\": 1, \"absences\": 0, \"G3\": 0, \"result\": \"fail\"}, {\"sex\": \"F\", \"age\": 18, \"studytime\": 2, \"failures\": 0, \"goout\": 5, \"Dalc\": 1, \"Walc\": 2, \"absences\": 0, \"G3\": 0, \"result\": \"fail\"}, {\"sex\": \"F\", \"age\": 19, \"studytime\": 2, \"failures\": 2, \"goout\": 5, \"Dalc\": 3, \"Walc\": 3, \"absences\": 15, \"G3\": 9, \"result\": \"fail\"}, {\"sex\": \"F\", \"age\": 18, \"studytime\": 2, \"failures\": 0, \"goout\": 1, \"Dalc\": 1, \"Walc\": 1, \"absences\": 75, \"G3\": 9, \"result\": \"fail\"}, {\"sex\": \"M\", \"age\": 18, \"studytime\": 1, \"failures\": 0, \"goout\": 4, \"Dalc\": 1, \"Walc\": 4, \"absences\": 22, \"G3\": 9, \"result\": \"fail\"}, {\"sex\": \"F\", \"age\": 18, \"studytime\": 2, \"failures\": 1, \"goout\": 4, \"Dalc\": 1, \"Walc\": 1, \"absences\": 15, \"G3\": 8, \"result\": \"fail\"}, {\"sex\": \"M\", \"age\": 17, \"studytime\": 1, \"failures\": 0, \"goout\": 4, \"Dalc\": 2, \"Walc\": 4, \"absences\": 30, \"G3\": 8, \"result\": \"fail\"}, {\"sex\": \"F\", \"age\": 19, \"studytime\": 2, \"failures\": 0, \"goout\": 4, \"Dalc\": 2, \"Walc\": 3, \"absences\": 0, \"G3\": 0, \"result\": \"fail\"}, {\"sex\": \"F\", \"age\": 18, \"studytime\": 2, \"failures\": 0, \"goout\": 5, \"Dalc\": 1, \"Walc\": 2, \"absences\": 10, \"G3\": 8, \"result\": \"fail\"}, {\"sex\": \"M\", \"age\": 19, \"studytime\": 1, \"failures\": 1, \"goout\": 4, \"Dalc\": 1, \"Walc\": 1, \"absences\": 38, \"G3\": 8, \"result\": \"fail\"}, {\"sex\": \"F\", \"age\": 19, \"studytime\": 2, \"failures\": 1, \"goout\": 4, \"Dalc\": 2, \"Walc\": 2, \"absences\": 0, \"G3\": 0, \"result\": \"fail\"}, {\"sex\": \"F\", \"age\": 18, \"studytime\": 2, \"failures\": 0, \"goout\": 3, \"Dalc\": 1, \"Walc\": 2, \"absences\": 0, \"G3\": 0, \"result\": \"fail\"}, {\"sex\": \"F\", \"age\": 18, \"studytime\": 3, \"failures\": 0, \"goout\": 4, \"Dalc\": 1, \"Walc\": 1, \"absences\": 9, \"G3\": 9, \"result\": \"fail\"}, {\"sex\": \"F\", \"age\": 17, \"studytime\": 2, \"failures\": 0, \"goout\": 2, \"Dalc\": 1, \"Walc\": 1, \"absences\": 12, \"G3\": 9, \"result\": \"fail\"}, {\"sex\": \"F\", \"age\": 17, \"studytime\": 3, \"failures\": 0, \"goout\": 4, \"Dalc\": 1, \"Walc\": 3, \"absences\": 7, \"G3\": 9, \"result\": \"fail\"}, {\"sex\": \"M\", \"age\": 18, \"studytime\": 4, \"failures\": 0, \"goout\": 5, \"Dalc\": 2, \"Walc\": 4, \"absences\": 2, \"G3\": 8, \"result\": \"fail\"}, {\"sex\": \"F\", \"age\": 18, \"studytime\": 2, \"failures\": 0, \"goout\": 4, \"Dalc\": 1, \"Walc\": 1, \"absences\": 0, \"G3\": 0, \"result\": \"fail\"}, {\"sex\": \"F\", \"age\": 18, \"studytime\": 2, \"failures\": 0, \"goout\": 3, \"Dalc\": 1, \"Walc\": 1, \"absences\": 0, \"G3\": 0, \"result\": \"fail\"}, {\"sex\": \"F\", \"age\": 18, \"studytime\": 4, \"failures\": 0, \"goout\": 4, \"Dalc\": 1, \"Walc\": 1, \"absences\": 0, \"G3\": 0, \"result\": \"fail\"}, {\"sex\": \"F\", \"age\": 17, \"studytime\": 2, \"failures\": 0, \"goout\": 2, \"Dalc\": 2, \"Walc\": 3, \"absences\": 0, \"G3\": 0, \"result\": \"fail\"}, {\"sex\": \"M\", \"age\": 18, \"studytime\": 2, \"failures\": 1, \"goout\": 3, \"Dalc\": 2, \"Walc\": 2, \"absences\": 0, \"G3\": 0, \"result\": \"fail\"}, {\"sex\": \"F\", \"age\": 17, \"studytime\": 2, \"failures\": 1, \"goout\": 1, \"Dalc\": 1, \"Walc\": 2, \"absences\": 0, \"G3\": 0, \"result\": \"fail\"}, {\"sex\": \"M\", \"age\": 18, \"studytime\": 3, \"failures\": 0, \"goout\": 5, \"Dalc\": 2, \"Walc\": 3, \"absences\": 0, \"G3\": 9, \"result\": \"fail\"}, {\"sex\": \"M\", \"age\": 19, \"studytime\": 2, \"failures\": 3, \"goout\": 4, \"Dalc\": 3, \"Walc\": 3, \"absences\": 8, \"G3\": 8, \"result\": \"fail\"}, {\"sex\": \"M\", \"age\": 18, \"studytime\": 1, \"failures\": 1, \"goout\": 3, \"Dalc\": 2, \"Walc\": 3, \"absences\": 7, \"G3\": 8, \"result\": \"fail\"}, {\"sex\": \"M\", \"age\": 19, \"studytime\": 1, \"failures\": 1, \"goout\": 4, \"Dalc\": 3, \"Walc\": 3, \"absences\": 4, \"G3\": 8, \"result\": \"fail\"}, {\"sex\": \"F\", \"age\": 18, \"studytime\": 2, \"failures\": 0, \"goout\": 4, \"Dalc\": 1, \"Walc\": 1, \"absences\": 0, \"G3\": 9, \"result\": \"fail\"}, {\"sex\": \"F\", \"age\": 17, \"studytime\": 1, \"failures\": 1, \"goout\": 1, \"Dalc\": 1, \"Walc\": 2, \"absences\": 0, \"G3\": 0, \"result\": \"fail\"}, {\"sex\": \"F\", \"age\": 19, \"studytime\": 2, \"failures\": 2, \"goout\": 2, \"Dalc\": 1, \"Walc\": 1, \"absences\": 4, \"G3\": 9, \"result\": \"fail\"}, {\"sex\": \"F\", \"age\": 17, \"studytime\": 1, \"failures\": 0, \"goout\": 5, \"Dalc\": 1, \"Walc\": 3, \"absences\": 14, \"G3\": 5, \"result\": \"fail\"}, {\"sex\": \"M\", \"age\": 18, \"studytime\": 1, \"failures\": 0, \"goout\": 3, \"Dalc\": 1, \"Walc\": 3, \"absences\": 5, \"G3\": 7, \"result\": \"fail\"}, {\"sex\": \"M\", \"age\": 19, \"studytime\": 1, \"failures\": 1, \"goout\": 2, \"Dalc\": 1, \"Walc\": 3, \"absences\": 0, \"G3\": 0, \"result\": \"fail\"}, {\"sex\": \"M\", \"age\": 18, \"studytime\": 1, \"failures\": 1, \"goout\": 3, \"Dalc\": 4, \"Walc\": 3, \"absences\": 14, \"G3\": 5, \"result\": \"fail\"}, {\"sex\": \"F\", \"age\": 18, \"studytime\": 1, \"failures\": 0, \"goout\": 3, \"Dalc\": 2, \"Walc\": 2, \"absences\": 7, \"G3\": 6, \"result\": \"fail\"}, {\"sex\": \"F\", \"age\": 19, \"studytime\": 3, \"failures\": 1, \"goout\": 2, \"Dalc\": 1, \"Walc\": 2, \"absences\": 0, \"G3\": 0, \"result\": \"fail\"}, {\"sex\": \"F\", \"age\": 18, \"studytime\": 2, \"failures\": 0, \"goout\": 4, \"Dalc\": 1, \"Walc\": 1, \"absences\": 0, \"G3\": 8, \"result\": \"fail\"}, {\"sex\": \"F\", \"age\": 18, \"studytime\": 2, \"failures\": 1, \"goout\": 1, \"Dalc\": 1, \"Walc\": 1, \"absences\": 0, \"G3\": 0, \"result\": \"fail\"}, {\"sex\": \"M\", \"age\": 20, \"studytime\": 2, \"failures\": 2, \"goout\": 4, \"Dalc\": 4, \"Walc\": 5, \"absences\": 11, \"G3\": 9, \"result\": \"fail\"}, {\"sex\": \"M\", \"age\": 21, \"studytime\": 1, \"failures\": 3, \"goout\": 3, \"Dalc\": 3, \"Walc\": 3, \"absences\": 3, \"G3\": 7, \"result\": \"fail\"}, {\"sex\": \"M\", \"age\": 19, \"studytime\": 1, \"failures\": 0, \"goout\": 3, \"Dalc\": 3, \"Walc\": 3, \"absences\": 5, \"G3\": 9, \"result\": \"fail\"}]}}, {\"mode\": \"vega-lite\"});\n",
       "</script>"
      ],
      "text/plain": [
       "alt.Chart(...)"
      ]
     },
     "execution_count": 66,
     "metadata": {},
     "output_type": "execute_result"
    }
   ],
   "source": [
    "alt.Chart(feature_df).mark_bar().encode(\n",
    "    x='sex:N',\n",
    "    y='mean(Dalc):Q',\n",
    "    color='age:N',\n",
    "    column='result:N'\n",
    ")"
   ]
  },
  {
   "cell_type": "code",
   "execution_count": null,
   "metadata": {},
   "outputs": [],
   "source": []
  },
  {
   "cell_type": "code",
   "execution_count": null,
   "metadata": {},
   "outputs": [],
   "source": []
  },
  {
   "cell_type": "code",
   "execution_count": null,
   "metadata": {},
   "outputs": [],
   "source": []
  },
  {
   "cell_type": "code",
   "execution_count": null,
   "metadata": {},
   "outputs": [],
   "source": []
  },
  {
   "cell_type": "code",
   "execution_count": null,
   "metadata": {},
   "outputs": [],
   "source": []
  },
  {
   "cell_type": "code",
   "execution_count": 19,
   "metadata": {},
   "outputs": [
    {
     "data": {
      "text/html": [
       "<div>\n",
       "<style scoped>\n",
       "    .dataframe tbody tr th:only-of-type {\n",
       "        vertical-align: middle;\n",
       "    }\n",
       "\n",
       "    .dataframe tbody tr th {\n",
       "        vertical-align: top;\n",
       "    }\n",
       "\n",
       "    .dataframe thead th {\n",
       "        text-align: right;\n",
       "    }\n",
       "</style>\n",
       "<table border=\"1\" class=\"dataframe\">\n",
       "  <thead>\n",
       "    <tr style=\"text-align: right;\">\n",
       "      <th></th>\n",
       "      <th>yield</th>\n",
       "      <th>variety</th>\n",
       "      <th>year</th>\n",
       "      <th>site</th>\n",
       "    </tr>\n",
       "  </thead>\n",
       "  <tbody>\n",
       "    <tr>\n",
       "      <th>0</th>\n",
       "      <td>27.00000</td>\n",
       "      <td>Manchuria</td>\n",
       "      <td>1931</td>\n",
       "      <td>University Farm</td>\n",
       "    </tr>\n",
       "    <tr>\n",
       "      <th>1</th>\n",
       "      <td>48.86667</td>\n",
       "      <td>Manchuria</td>\n",
       "      <td>1931</td>\n",
       "      <td>Waseca</td>\n",
       "    </tr>\n",
       "    <tr>\n",
       "      <th>2</th>\n",
       "      <td>27.43334</td>\n",
       "      <td>Manchuria</td>\n",
       "      <td>1931</td>\n",
       "      <td>Morris</td>\n",
       "    </tr>\n",
       "    <tr>\n",
       "      <th>3</th>\n",
       "      <td>39.93333</td>\n",
       "      <td>Manchuria</td>\n",
       "      <td>1931</td>\n",
       "      <td>Crookston</td>\n",
       "    </tr>\n",
       "    <tr>\n",
       "      <th>4</th>\n",
       "      <td>32.96667</td>\n",
       "      <td>Manchuria</td>\n",
       "      <td>1931</td>\n",
       "      <td>Grand Rapids</td>\n",
       "    </tr>\n",
       "    <tr>\n",
       "      <th>...</th>\n",
       "      <td>...</td>\n",
       "      <td>...</td>\n",
       "      <td>...</td>\n",
       "      <td>...</td>\n",
       "    </tr>\n",
       "    <tr>\n",
       "      <th>115</th>\n",
       "      <td>58.16667</td>\n",
       "      <td>Wisconsin No. 38</td>\n",
       "      <td>1932</td>\n",
       "      <td>Waseca</td>\n",
       "    </tr>\n",
       "    <tr>\n",
       "      <th>116</th>\n",
       "      <td>47.16667</td>\n",
       "      <td>Wisconsin No. 38</td>\n",
       "      <td>1932</td>\n",
       "      <td>Morris</td>\n",
       "    </tr>\n",
       "    <tr>\n",
       "      <th>117</th>\n",
       "      <td>35.90000</td>\n",
       "      <td>Wisconsin No. 38</td>\n",
       "      <td>1932</td>\n",
       "      <td>Crookston</td>\n",
       "    </tr>\n",
       "    <tr>\n",
       "      <th>118</th>\n",
       "      <td>20.66667</td>\n",
       "      <td>Wisconsin No. 38</td>\n",
       "      <td>1932</td>\n",
       "      <td>Grand Rapids</td>\n",
       "    </tr>\n",
       "    <tr>\n",
       "      <th>119</th>\n",
       "      <td>29.33333</td>\n",
       "      <td>Wisconsin No. 38</td>\n",
       "      <td>1932</td>\n",
       "      <td>Duluth</td>\n",
       "    </tr>\n",
       "  </tbody>\n",
       "</table>\n",
       "<p>120 rows × 4 columns</p>\n",
       "</div>"
      ],
      "text/plain": [
       "        yield           variety  year             site\n",
       "0    27.00000         Manchuria  1931  University Farm\n",
       "1    48.86667         Manchuria  1931           Waseca\n",
       "2    27.43334         Manchuria  1931           Morris\n",
       "3    39.93333         Manchuria  1931        Crookston\n",
       "4    32.96667         Manchuria  1931     Grand Rapids\n",
       "..        ...               ...   ...              ...\n",
       "115  58.16667  Wisconsin No. 38  1932           Waseca\n",
       "116  47.16667  Wisconsin No. 38  1932           Morris\n",
       "117  35.90000  Wisconsin No. 38  1932        Crookston\n",
       "118  20.66667  Wisconsin No. 38  1932     Grand Rapids\n",
       "119  29.33333  Wisconsin No. 38  1932           Duluth\n",
       "\n",
       "[120 rows x 4 columns]"
      ]
     },
     "execution_count": 19,
     "metadata": {},
     "output_type": "execute_result"
    }
   ],
   "source": [
    "import altair as alt\n",
    "from vega_datasets import data\n",
    "\n",
    "source = data.barley()\n",
    "\n",
    "source"
   ]
  },
  {
   "cell_type": "code",
   "execution_count": 18,
   "metadata": {},
   "outputs": [
    {
     "data": {
      "text/html": [
       "\n",
       "<div id=\"altair-viz-46267df3b7b8433099f67ec2069b6982\"></div>\n",
       "<script type=\"text/javascript\">\n",
       "  (function(spec, embedOpt){\n",
       "    let outputDiv = document.currentScript.previousElementSibling;\n",
       "    if (outputDiv.id !== \"altair-viz-46267df3b7b8433099f67ec2069b6982\") {\n",
       "      outputDiv = document.getElementById(\"altair-viz-46267df3b7b8433099f67ec2069b6982\");\n",
       "    }\n",
       "    const paths = {\n",
       "      \"vega\": \"https://cdn.jsdelivr.net/npm//vega@5?noext\",\n",
       "      \"vega-lib\": \"https://cdn.jsdelivr.net/npm//vega-lib?noext\",\n",
       "      \"vega-lite\": \"https://cdn.jsdelivr.net/npm//vega-lite@4.8.1?noext\",\n",
       "      \"vega-embed\": \"https://cdn.jsdelivr.net/npm//vega-embed@6?noext\",\n",
       "    };\n",
       "\n",
       "    function loadScript(lib) {\n",
       "      return new Promise(function(resolve, reject) {\n",
       "        var s = document.createElement('script');\n",
       "        s.src = paths[lib];\n",
       "        s.async = true;\n",
       "        s.onload = () => resolve(paths[lib]);\n",
       "        s.onerror = () => reject(`Error loading script: ${paths[lib]}`);\n",
       "        document.getElementsByTagName(\"head\")[0].appendChild(s);\n",
       "      });\n",
       "    }\n",
       "\n",
       "    function showError(err) {\n",
       "      outputDiv.innerHTML = `<div class=\"error\" style=\"color:red;\">${err}</div>`;\n",
       "      throw err;\n",
       "    }\n",
       "\n",
       "    function displayChart(vegaEmbed) {\n",
       "      vegaEmbed(outputDiv, spec, embedOpt)\n",
       "        .catch(err => showError(`Javascript Error: ${err.message}<br>This usually means there's a typo in your chart specification. See the javascript console for the full traceback.`));\n",
       "    }\n",
       "\n",
       "    if(typeof define === \"function\" && define.amd) {\n",
       "      requirejs.config({paths});\n",
       "      require([\"vega-embed\"], displayChart, err => showError(`Error loading script: ${err.message}`));\n",
       "    } else if (typeof vegaEmbed === \"function\") {\n",
       "      displayChart(vegaEmbed);\n",
       "    } else {\n",
       "      loadScript(\"vega\")\n",
       "        .then(() => loadScript(\"vega-lite\"))\n",
       "        .then(() => loadScript(\"vega-embed\"))\n",
       "        .catch(showError)\n",
       "        .then(() => displayChart(vegaEmbed));\n",
       "    }\n",
       "  })({\"config\": {\"view\": {\"continuousWidth\": 400, \"continuousHeight\": 300}}, \"data\": {\"name\": \"data-093ece8c35bb2d41094cfb6138ec810b\"}, \"mark\": \"bar\", \"encoding\": {\"color\": {\"type\": \"nominal\", \"field\": \"year\"}, \"column\": {\"type\": \"nominal\", \"field\": \"site\"}, \"x\": {\"type\": \"ordinal\", \"field\": \"year\"}, \"y\": {\"type\": \"quantitative\", \"aggregate\": \"sum\", \"field\": \"yield\"}}, \"$schema\": \"https://vega.github.io/schema/vega-lite/v4.8.1.json\", \"datasets\": {\"data-093ece8c35bb2d41094cfb6138ec810b\": [{\"yield\": 27.0, \"variety\": \"Manchuria\", \"year\": 1931, \"site\": \"University Farm\"}, {\"yield\": 48.86667, \"variety\": \"Manchuria\", \"year\": 1931, \"site\": \"Waseca\"}, {\"yield\": 27.43334, \"variety\": \"Manchuria\", \"year\": 1931, \"site\": \"Morris\"}, {\"yield\": 39.93333, \"variety\": \"Manchuria\", \"year\": 1931, \"site\": \"Crookston\"}, {\"yield\": 32.96667, \"variety\": \"Manchuria\", \"year\": 1931, \"site\": \"Grand Rapids\"}, {\"yield\": 28.96667, \"variety\": \"Manchuria\", \"year\": 1931, \"site\": \"Duluth\"}, {\"yield\": 43.06666, \"variety\": \"Glabron\", \"year\": 1931, \"site\": \"University Farm\"}, {\"yield\": 55.2, \"variety\": \"Glabron\", \"year\": 1931, \"site\": \"Waseca\"}, {\"yield\": 28.76667, \"variety\": \"Glabron\", \"year\": 1931, \"site\": \"Morris\"}, {\"yield\": 38.13333, \"variety\": \"Glabron\", \"year\": 1931, \"site\": \"Crookston\"}, {\"yield\": 29.13333, \"variety\": \"Glabron\", \"year\": 1931, \"site\": \"Grand Rapids\"}, {\"yield\": 29.66667, \"variety\": \"Glabron\", \"year\": 1931, \"site\": \"Duluth\"}, {\"yield\": 35.13333, \"variety\": \"Svansota\", \"year\": 1931, \"site\": \"University Farm\"}, {\"yield\": 47.33333, \"variety\": \"Svansota\", \"year\": 1931, \"site\": \"Waseca\"}, {\"yield\": 25.76667, \"variety\": \"Svansota\", \"year\": 1931, \"site\": \"Morris\"}, {\"yield\": 40.46667, \"variety\": \"Svansota\", \"year\": 1931, \"site\": \"Crookston\"}, {\"yield\": 29.66667, \"variety\": \"Svansota\", \"year\": 1931, \"site\": \"Grand Rapids\"}, {\"yield\": 25.7, \"variety\": \"Svansota\", \"year\": 1931, \"site\": \"Duluth\"}, {\"yield\": 39.9, \"variety\": \"Velvet\", \"year\": 1931, \"site\": \"University Farm\"}, {\"yield\": 50.23333, \"variety\": \"Velvet\", \"year\": 1931, \"site\": \"Waseca\"}, {\"yield\": 26.13333, \"variety\": \"Velvet\", \"year\": 1931, \"site\": \"Morris\"}, {\"yield\": 41.33333, \"variety\": \"Velvet\", \"year\": 1931, \"site\": \"Crookston\"}, {\"yield\": 23.03333, \"variety\": \"Velvet\", \"year\": 1931, \"site\": \"Grand Rapids\"}, {\"yield\": 26.3, \"variety\": \"Velvet\", \"year\": 1931, \"site\": \"Duluth\"}, {\"yield\": 36.56666, \"variety\": \"Trebi\", \"year\": 1931, \"site\": \"University Farm\"}, {\"yield\": 63.8333, \"variety\": \"Trebi\", \"year\": 1931, \"site\": \"Waseca\"}, {\"yield\": 43.76667, \"variety\": \"Trebi\", \"year\": 1931, \"site\": \"Morris\"}, {\"yield\": 46.93333, \"variety\": \"Trebi\", \"year\": 1931, \"site\": \"Crookston\"}, {\"yield\": 29.76667, \"variety\": \"Trebi\", \"year\": 1931, \"site\": \"Grand Rapids\"}, {\"yield\": 33.93333, \"variety\": \"Trebi\", \"year\": 1931, \"site\": \"Duluth\"}, {\"yield\": 43.26667, \"variety\": \"No. 457\", \"year\": 1931, \"site\": \"University Farm\"}, {\"yield\": 58.1, \"variety\": \"No. 457\", \"year\": 1931, \"site\": \"Waseca\"}, {\"yield\": 28.7, \"variety\": \"No. 457\", \"year\": 1931, \"site\": \"Morris\"}, {\"yield\": 45.66667, \"variety\": \"No. 457\", \"year\": 1931, \"site\": \"Crookston\"}, {\"yield\": 32.16667, \"variety\": \"No. 457\", \"year\": 1931, \"site\": \"Grand Rapids\"}, {\"yield\": 33.6, \"variety\": \"No. 457\", \"year\": 1931, \"site\": \"Duluth\"}, {\"yield\": 36.6, \"variety\": \"No. 462\", \"year\": 1931, \"site\": \"University Farm\"}, {\"yield\": 65.7667, \"variety\": \"No. 462\", \"year\": 1931, \"site\": \"Waseca\"}, {\"yield\": 30.36667, \"variety\": \"No. 462\", \"year\": 1931, \"site\": \"Morris\"}, {\"yield\": 48.56666, \"variety\": \"No. 462\", \"year\": 1931, \"site\": \"Crookston\"}, {\"yield\": 24.93334, \"variety\": \"No. 462\", \"year\": 1931, \"site\": \"Grand Rapids\"}, {\"yield\": 28.1, \"variety\": \"No. 462\", \"year\": 1931, \"site\": \"Duluth\"}, {\"yield\": 32.76667, \"variety\": \"Peatland\", \"year\": 1931, \"site\": \"University Farm\"}, {\"yield\": 48.56666, \"variety\": \"Peatland\", \"year\": 1931, \"site\": \"Waseca\"}, {\"yield\": 29.86667, \"variety\": \"Peatland\", \"year\": 1931, \"site\": \"Morris\"}, {\"yield\": 41.6, \"variety\": \"Peatland\", \"year\": 1931, \"site\": \"Crookston\"}, {\"yield\": 34.7, \"variety\": \"Peatland\", \"year\": 1931, \"site\": \"Grand Rapids\"}, {\"yield\": 32.0, \"variety\": \"Peatland\", \"year\": 1931, \"site\": \"Duluth\"}, {\"yield\": 24.66667, \"variety\": \"No. 475\", \"year\": 1931, \"site\": \"University Farm\"}, {\"yield\": 46.76667, \"variety\": \"No. 475\", \"year\": 1931, \"site\": \"Waseca\"}, {\"yield\": 22.6, \"variety\": \"No. 475\", \"year\": 1931, \"site\": \"Morris\"}, {\"yield\": 44.1, \"variety\": \"No. 475\", \"year\": 1931, \"site\": \"Crookston\"}, {\"yield\": 19.7, \"variety\": \"No. 475\", \"year\": 1931, \"site\": \"Grand Rapids\"}, {\"yield\": 33.06666, \"variety\": \"No. 475\", \"year\": 1931, \"site\": \"Duluth\"}, {\"yield\": 39.3, \"variety\": \"Wisconsin No. 38\", \"year\": 1931, \"site\": \"University Farm\"}, {\"yield\": 58.8, \"variety\": \"Wisconsin No. 38\", \"year\": 1931, \"site\": \"Waseca\"}, {\"yield\": 29.46667, \"variety\": \"Wisconsin No. 38\", \"year\": 1931, \"site\": \"Morris\"}, {\"yield\": 49.86667, \"variety\": \"Wisconsin No. 38\", \"year\": 1931, \"site\": \"Crookston\"}, {\"yield\": 34.46667, \"variety\": \"Wisconsin No. 38\", \"year\": 1931, \"site\": \"Grand Rapids\"}, {\"yield\": 31.6, \"variety\": \"Wisconsin No. 38\", \"year\": 1931, \"site\": \"Duluth\"}, {\"yield\": 26.9, \"variety\": \"Manchuria\", \"year\": 1932, \"site\": \"University Farm\"}, {\"yield\": 33.46667, \"variety\": \"Manchuria\", \"year\": 1932, \"site\": \"Waseca\"}, {\"yield\": 34.36666, \"variety\": \"Manchuria\", \"year\": 1932, \"site\": \"Morris\"}, {\"yield\": 32.96667, \"variety\": \"Manchuria\", \"year\": 1932, \"site\": \"Crookston\"}, {\"yield\": 22.13333, \"variety\": \"Manchuria\", \"year\": 1932, \"site\": \"Grand Rapids\"}, {\"yield\": 22.56667, \"variety\": \"Manchuria\", \"year\": 1932, \"site\": \"Duluth\"}, {\"yield\": 36.8, \"variety\": \"Glabron\", \"year\": 1932, \"site\": \"University Farm\"}, {\"yield\": 37.73333, \"variety\": \"Glabron\", \"year\": 1932, \"site\": \"Waseca\"}, {\"yield\": 35.13333, \"variety\": \"Glabron\", \"year\": 1932, \"site\": \"Morris\"}, {\"yield\": 26.16667, \"variety\": \"Glabron\", \"year\": 1932, \"site\": \"Crookston\"}, {\"yield\": 14.43333, \"variety\": \"Glabron\", \"year\": 1932, \"site\": \"Grand Rapids\"}, {\"yield\": 25.86667, \"variety\": \"Glabron\", \"year\": 1932, \"site\": \"Duluth\"}, {\"yield\": 27.43334, \"variety\": \"Svansota\", \"year\": 1932, \"site\": \"University Farm\"}, {\"yield\": 38.5, \"variety\": \"Svansota\", \"year\": 1932, \"site\": \"Waseca\"}, {\"yield\": 35.03333, \"variety\": \"Svansota\", \"year\": 1932, \"site\": \"Morris\"}, {\"yield\": 20.63333, \"variety\": \"Svansota\", \"year\": 1932, \"site\": \"Crookston\"}, {\"yield\": 16.63333, \"variety\": \"Svansota\", \"year\": 1932, \"site\": \"Grand Rapids\"}, {\"yield\": 22.23333, \"variety\": \"Svansota\", \"year\": 1932, \"site\": \"Duluth\"}, {\"yield\": 26.8, \"variety\": \"Velvet\", \"year\": 1932, \"site\": \"University Farm\"}, {\"yield\": 37.4, \"variety\": \"Velvet\", \"year\": 1932, \"site\": \"Waseca\"}, {\"yield\": 38.83333, \"variety\": \"Velvet\", \"year\": 1932, \"site\": \"Morris\"}, {\"yield\": 32.06666, \"variety\": \"Velvet\", \"year\": 1932, \"site\": \"Crookston\"}, {\"yield\": 32.23333, \"variety\": \"Velvet\", \"year\": 1932, \"site\": \"Grand Rapids\"}, {\"yield\": 22.46667, \"variety\": \"Velvet\", \"year\": 1932, \"site\": \"Duluth\"}, {\"yield\": 29.06667, \"variety\": \"Trebi\", \"year\": 1932, \"site\": \"University Farm\"}, {\"yield\": 49.2333, \"variety\": \"Trebi\", \"year\": 1932, \"site\": \"Waseca\"}, {\"yield\": 46.63333, \"variety\": \"Trebi\", \"year\": 1932, \"site\": \"Morris\"}, {\"yield\": 41.83333, \"variety\": \"Trebi\", \"year\": 1932, \"site\": \"Crookston\"}, {\"yield\": 20.63333, \"variety\": \"Trebi\", \"year\": 1932, \"site\": \"Grand Rapids\"}, {\"yield\": 30.6, \"variety\": \"Trebi\", \"year\": 1932, \"site\": \"Duluth\"}, {\"yield\": 26.43334, \"variety\": \"No. 457\", \"year\": 1932, \"site\": \"University Farm\"}, {\"yield\": 42.2, \"variety\": \"No. 457\", \"year\": 1932, \"site\": \"Waseca\"}, {\"yield\": 43.53334, \"variety\": \"No. 457\", \"year\": 1932, \"site\": \"Morris\"}, {\"yield\": 34.33333, \"variety\": \"No. 457\", \"year\": 1932, \"site\": \"Crookston\"}, {\"yield\": 19.46667, \"variety\": \"No. 457\", \"year\": 1932, \"site\": \"Grand Rapids\"}, {\"yield\": 22.7, \"variety\": \"No. 457\", \"year\": 1932, \"site\": \"Duluth\"}, {\"yield\": 25.56667, \"variety\": \"No. 462\", \"year\": 1932, \"site\": \"University Farm\"}, {\"yield\": 44.7, \"variety\": \"No. 462\", \"year\": 1932, \"site\": \"Waseca\"}, {\"yield\": 47.0, \"variety\": \"No. 462\", \"year\": 1932, \"site\": \"Morris\"}, {\"yield\": 30.53333, \"variety\": \"No. 462\", \"year\": 1932, \"site\": \"Crookston\"}, {\"yield\": 19.9, \"variety\": \"No. 462\", \"year\": 1932, \"site\": \"Grand Rapids\"}, {\"yield\": 22.5, \"variety\": \"No. 462\", \"year\": 1932, \"site\": \"Duluth\"}, {\"yield\": 28.06667, \"variety\": \"Peatland\", \"year\": 1932, \"site\": \"University Farm\"}, {\"yield\": 36.03333, \"variety\": \"Peatland\", \"year\": 1932, \"site\": \"Waseca\"}, {\"yield\": 43.2, \"variety\": \"Peatland\", \"year\": 1932, \"site\": \"Morris\"}, {\"yield\": 25.23333, \"variety\": \"Peatland\", \"year\": 1932, \"site\": \"Crookston\"}, {\"yield\": 26.76667, \"variety\": \"Peatland\", \"year\": 1932, \"site\": \"Grand Rapids\"}, {\"yield\": 31.36667, \"variety\": \"Peatland\", \"year\": 1932, \"site\": \"Duluth\"}, {\"yield\": 30.0, \"variety\": \"No. 475\", \"year\": 1932, \"site\": \"University Farm\"}, {\"yield\": 41.26667, \"variety\": \"No. 475\", \"year\": 1932, \"site\": \"Waseca\"}, {\"yield\": 44.23333, \"variety\": \"No. 475\", \"year\": 1932, \"site\": \"Morris\"}, {\"yield\": 32.13333, \"variety\": \"No. 475\", \"year\": 1932, \"site\": \"Crookston\"}, {\"yield\": 15.23333, \"variety\": \"No. 475\", \"year\": 1932, \"site\": \"Grand Rapids\"}, {\"yield\": 27.36667, \"variety\": \"No. 475\", \"year\": 1932, \"site\": \"Duluth\"}, {\"yield\": 38.0, \"variety\": \"Wisconsin No. 38\", \"year\": 1932, \"site\": \"University Farm\"}, {\"yield\": 58.16667, \"variety\": \"Wisconsin No. 38\", \"year\": 1932, \"site\": \"Waseca\"}, {\"yield\": 47.16667, \"variety\": \"Wisconsin No. 38\", \"year\": 1932, \"site\": \"Morris\"}, {\"yield\": 35.9, \"variety\": \"Wisconsin No. 38\", \"year\": 1932, \"site\": \"Crookston\"}, {\"yield\": 20.66667, \"variety\": \"Wisconsin No. 38\", \"year\": 1932, \"site\": \"Grand Rapids\"}, {\"yield\": 29.33333, \"variety\": \"Wisconsin No. 38\", \"year\": 1932, \"site\": \"Duluth\"}]}}, {\"mode\": \"vega-lite\"});\n",
       "</script>"
      ],
      "text/plain": [
       "alt.Chart(...)"
      ]
     },
     "execution_count": 18,
     "metadata": {},
     "output_type": "execute_result"
    }
   ],
   "source": [
    "alt.Chart(source).mark_bar().encode(\n",
    "    x='year:O',\n",
    "    y='sum(yield):Q',\n",
    "    color='year:N',\n",
    "    column='site:N'\n",
    ")"
   ]
  },
  {
   "cell_type": "code",
   "execution_count": null,
   "metadata": {},
   "outputs": [],
   "source": []
  },
  {
   "cell_type": "code",
   "execution_count": null,
   "metadata": {},
   "outputs": [],
   "source": []
  },
  {
   "cell_type": "code",
   "execution_count": null,
   "metadata": {},
   "outputs": [],
   "source": []
  },
  {
   "cell_type": "code",
   "execution_count": null,
   "metadata": {},
   "outputs": [],
   "source": []
  },
  {
   "cell_type": "code",
   "execution_count": 10,
   "metadata": {},
   "outputs": [
    {
     "data": {
      "image/png": "[encoded data removed]",
      "text/plain": [
       "<Figure size 432x288 with 1 Axes>"
      ]
     },
     "metadata": {
      "needs_background": "light"
     },
     "output_type": "display_data"
    }
   ],
   "source": [
    "_= sns.distplot(df['Dalc'], kde=False)"
   ]
  },
  {
   "cell_type": "code",
   "execution_count": 11,
   "metadata": {},
   "outputs": [
    {
     "data": {
      "image/png": "[encoded data removed]",
      "text/plain": [
       "<Figure size 432x288 with 1 Axes>"
      ]
     },
     "metadata": {
      "needs_background": "light"
     },
     "output_type": "display_data"
    }
   ],
   "source": [
    "_= sns.distplot(df['Walc'], kde=False)"
   ]
  },
  {
   "cell_type": "code",
   "execution_count": 13,
   "metadata": {},
   "outputs": [
    {
     "data": {
      "image/png": "[encoded data removed]",
      "text/plain": [
       "<Figure size 432x288 with 1 Axes>"
      ]
     },
     "metadata": {
      "needs_background": "light"
     },
     "output_type": "display_data"
    }
   ],
   "source": [
    "_= sns.distplot(df['G3'], kde=True)"
   ]
  },
  {
   "cell_type": "code",
   "execution_count": 14,
   "metadata": {},
   "outputs": [
    {
     "data": {
      "image/png": "[encoded data removed]",
      "text/plain": [
       "<Figure size 432x288 with 1 Axes>"
      ]
     },
     "metadata": {
      "needs_background": "light"
     },
     "output_type": "display_data"
    }
   ],
   "source": [
    "_= sns.distplot(df['studytime'], kde=False)"
   ]
  },
  {
   "cell_type": "code",
   "execution_count": 15,
   "metadata": {},
   "outputs": [
    {
     "data": {
      "image/png": "[encoded data removed]",
      "text/plain": [
       "<Figure size 432x288 with 1 Axes>"
      ]
     },
     "metadata": {
      "needs_background": "light"
     },
     "output_type": "display_data"
    }
   ],
   "source": [
    "_= sns.distplot(df['famrel'], kde=False)"
   ]
  },
  {
   "cell_type": "code",
   "execution_count": 16,
   "metadata": {},
   "outputs": [
    {
     "ename": "ValueError",
     "evalue": "could not convert string to float: 'GP'",
     "output_type": "error",
     "traceback": [
      "\u001b[0;31m---------------------------------------------------------------------------\u001b[0m",
      "\u001b[0;31mModuleNotFoundError\u001b[0m                       Traceback (most recent call last)",
      "\u001b[0;32m/usr/local/lib/python3.7/site-packages/seaborn/matrix.py\u001b[0m in \u001b[0;36mcalculated_linkage\u001b[0;34m(self)\u001b[0m\n\u001b[1;32m    625\u001b[0m         \u001b[0;32mtry\u001b[0m\u001b[0;34m:\u001b[0m\u001b[0;34m\u001b[0m\u001b[0;34m\u001b[0m\u001b[0m\n\u001b[0;32m--> 626\u001b[0;31m             \u001b[0;32mreturn\u001b[0m \u001b[0mself\u001b[0m\u001b[0;34m.\u001b[0m\u001b[0m_calculate_linkage_fastcluster\u001b[0m\u001b[0;34m(\u001b[0m\u001b[0;34m)\u001b[0m\u001b[0;34m\u001b[0m\u001b[0;34m\u001b[0m\u001b[0m\n\u001b[0m\u001b[1;32m    627\u001b[0m         \u001b[0;32mexcept\u001b[0m \u001b[0mImportError\u001b[0m\u001b[0;34m:\u001b[0m\u001b[0;34m\u001b[0m\u001b[0;34m\u001b[0m\u001b[0m\n",
      "\u001b[0;32m/usr/local/lib/python3.7/site-packages/seaborn/matrix.py\u001b[0m in \u001b[0;36m_calculate_linkage_fastcluster\u001b[0;34m(self)\u001b[0m\n\u001b[1;32m    606\u001b[0m     \u001b[0;32mdef\u001b[0m \u001b[0m_calculate_linkage_fastcluster\u001b[0m\u001b[0;34m(\u001b[0m\u001b[0mself\u001b[0m\u001b[0;34m)\u001b[0m\u001b[0;34m:\u001b[0m\u001b[0;34m\u001b[0m\u001b[0;34m\u001b[0m\u001b[0m\n\u001b[0;32m--> 607\u001b[0;31m         \u001b[0;32mimport\u001b[0m \u001b[0mfastcluster\u001b[0m\u001b[0;34m\u001b[0m\u001b[0;34m\u001b[0m\u001b[0m\n\u001b[0m\u001b[1;32m    608\u001b[0m         \u001b[0;31m# Fastcluster has a memory-saving vectorized version, but only\u001b[0m\u001b[0;34m\u001b[0m\u001b[0;34m\u001b[0m\u001b[0;34m\u001b[0m\u001b[0m\n",
      "\u001b[0;31mModuleNotFoundError\u001b[0m: No module named 'fastcluster'",
      "\nDuring handling of the above exception, another exception occurred:\n",
      "\u001b[0;31mValueError\u001b[0m                                Traceback (most recent call last)",
      "\u001b[0;32m<ipython-input-16-17609e66f548>\u001b[0m in \u001b[0;36m<module>\u001b[0;34m\u001b[0m\n\u001b[0;32m----> 1\u001b[0;31m \u001b[0msns\u001b[0m\u001b[0;34m.\u001b[0m\u001b[0mclustermap\u001b[0m\u001b[0;34m(\u001b[0m\u001b[0mdf\u001b[0m\u001b[0;34m)\u001b[0m\u001b[0;34m\u001b[0m\u001b[0;34m\u001b[0m\u001b[0m\n\u001b[0m",
      "\u001b[0;32m/usr/local/lib/python3.7/site-packages/seaborn/matrix.py\u001b[0m in \u001b[0;36mclustermap\u001b[0;34m(data, pivot_kws, method, metric, z_score, standard_scale, figsize, cbar_kws, row_cluster, col_cluster, row_linkage, col_linkage, row_colors, col_colors, mask, **kwargs)\u001b[0m\n\u001b[1;32m   1299\u001b[0m                         \u001b[0mrow_cluster\u001b[0m\u001b[0;34m=\u001b[0m\u001b[0mrow_cluster\u001b[0m\u001b[0;34m,\u001b[0m \u001b[0mcol_cluster\u001b[0m\u001b[0;34m=\u001b[0m\u001b[0mcol_cluster\u001b[0m\u001b[0;34m,\u001b[0m\u001b[0;34m\u001b[0m\u001b[0;34m\u001b[0m\u001b[0m\n\u001b[1;32m   1300\u001b[0m                         \u001b[0mrow_linkage\u001b[0m\u001b[0;34m=\u001b[0m\u001b[0mrow_linkage\u001b[0m\u001b[0;34m,\u001b[0m \u001b[0mcol_linkage\u001b[0m\u001b[0;34m=\u001b[0m\u001b[0mcol_linkage\u001b[0m\u001b[0;34m,\u001b[0m\u001b[0;34m\u001b[0m\u001b[0;34m\u001b[0m\u001b[0m\n\u001b[0;32m-> 1301\u001b[0;31m                         **kwargs)\n\u001b[0m",
      "\u001b[0;32m/usr/local/lib/python3.7/site-packages/seaborn/matrix.py\u001b[0m in \u001b[0;36mplot\u001b[0;34m(self, metric, method, colorbar_kws, row_cluster, col_cluster, row_linkage, col_linkage, **kws)\u001b[0m\n\u001b[1;32m   1126\u001b[0m         \u001b[0mcolorbar_kws\u001b[0m \u001b[0;34m=\u001b[0m \u001b[0;34m{\u001b[0m\u001b[0;34m}\u001b[0m \u001b[0;32mif\u001b[0m \u001b[0mcolorbar_kws\u001b[0m \u001b[0;32mis\u001b[0m \u001b[0;32mNone\u001b[0m \u001b[0;32melse\u001b[0m \u001b[0mcolorbar_kws\u001b[0m\u001b[0;34m\u001b[0m\u001b[0;34m\u001b[0m\u001b[0m\n\u001b[1;32m   1127\u001b[0m         self.plot_dendrograms(row_cluster, col_cluster, metric, method,\n\u001b[0;32m-> 1128\u001b[0;31m                               row_linkage=row_linkage, col_linkage=col_linkage)\n\u001b[0m\u001b[1;32m   1129\u001b[0m         \u001b[0;32mtry\u001b[0m\u001b[0;34m:\u001b[0m\u001b[0;34m\u001b[0m\u001b[0;34m\u001b[0m\u001b[0m\n\u001b[1;32m   1130\u001b[0m             \u001b[0mxind\u001b[0m \u001b[0;34m=\u001b[0m \u001b[0mself\u001b[0m\u001b[0;34m.\u001b[0m\u001b[0mdendrogram_col\u001b[0m\u001b[0;34m.\u001b[0m\u001b[0mreordered_ind\u001b[0m\u001b[0;34m\u001b[0m\u001b[0;34m\u001b[0m\u001b[0m\n",
      "\u001b[0;32m/usr/local/lib/python3.7/site-packages/seaborn/matrix.py\u001b[0m in \u001b[0;36mplot_dendrograms\u001b[0;34m(self, row_cluster, col_cluster, metric, method, row_linkage, col_linkage)\u001b[0m\n\u001b[1;32m   1019\u001b[0m             self.dendrogram_row = dendrogram(\n\u001b[1;32m   1020\u001b[0m                 \u001b[0mself\u001b[0m\u001b[0;34m.\u001b[0m\u001b[0mdata2d\u001b[0m\u001b[0;34m,\u001b[0m \u001b[0mmetric\u001b[0m\u001b[0;34m=\u001b[0m\u001b[0mmetric\u001b[0m\u001b[0;34m,\u001b[0m \u001b[0mmethod\u001b[0m\u001b[0;34m=\u001b[0m\u001b[0mmethod\u001b[0m\u001b[0;34m,\u001b[0m \u001b[0mlabel\u001b[0m\u001b[0;34m=\u001b[0m\u001b[0;32mFalse\u001b[0m\u001b[0;34m,\u001b[0m \u001b[0maxis\u001b[0m\u001b[0;34m=\u001b[0m\u001b[0;36m0\u001b[0m\u001b[0;34m,\u001b[0m\u001b[0;34m\u001b[0m\u001b[0;34m\u001b[0m\u001b[0m\n\u001b[0;32m-> 1021\u001b[0;31m                 ax=self.ax_row_dendrogram, rotate=True, linkage=row_linkage)\n\u001b[0m\u001b[1;32m   1022\u001b[0m         \u001b[0;32melse\u001b[0m\u001b[0;34m:\u001b[0m\u001b[0;34m\u001b[0m\u001b[0;34m\u001b[0m\u001b[0m\n\u001b[1;32m   1023\u001b[0m             \u001b[0mself\u001b[0m\u001b[0;34m.\u001b[0m\u001b[0max_row_dendrogram\u001b[0m\u001b[0;34m.\u001b[0m\u001b[0mset_xticks\u001b[0m\u001b[0;34m(\u001b[0m\u001b[0;34m[\u001b[0m\u001b[0;34m]\u001b[0m\u001b[0;34m)\u001b[0m\u001b[0;34m\u001b[0m\u001b[0;34m\u001b[0m\u001b[0m\n",
      "\u001b[0;32m/usr/local/lib/python3.7/site-packages/seaborn/matrix.py\u001b[0m in \u001b[0;36mdendrogram\u001b[0;34m(data, linkage, axis, label, metric, method, rotate, ax)\u001b[0m\n\u001b[1;32m    745\u001b[0m     plotter = _DendrogramPlotter(data, linkage=linkage, axis=axis,\n\u001b[1;32m    746\u001b[0m                                  \u001b[0mmetric\u001b[0m\u001b[0;34m=\u001b[0m\u001b[0mmetric\u001b[0m\u001b[0;34m,\u001b[0m \u001b[0mmethod\u001b[0m\u001b[0;34m=\u001b[0m\u001b[0mmethod\u001b[0m\u001b[0;34m,\u001b[0m\u001b[0;34m\u001b[0m\u001b[0;34m\u001b[0m\u001b[0m\n\u001b[0;32m--> 747\u001b[0;31m                                  label=label, rotate=rotate)\n\u001b[0m\u001b[1;32m    748\u001b[0m     \u001b[0;32mif\u001b[0m \u001b[0max\u001b[0m \u001b[0;32mis\u001b[0m \u001b[0;32mNone\u001b[0m\u001b[0;34m:\u001b[0m\u001b[0;34m\u001b[0m\u001b[0;34m\u001b[0m\u001b[0m\n\u001b[1;32m    749\u001b[0m         \u001b[0max\u001b[0m \u001b[0;34m=\u001b[0m \u001b[0mplt\u001b[0m\u001b[0;34m.\u001b[0m\u001b[0mgca\u001b[0m\u001b[0;34m(\u001b[0m\u001b[0;34m)\u001b[0m\u001b[0;34m\u001b[0m\u001b[0;34m\u001b[0m\u001b[0m\n",
      "\u001b[0;32m/usr/local/lib/python3.7/site-packages/seaborn/matrix.py\u001b[0m in \u001b[0;36m__init__\u001b[0;34m(self, data, linkage, metric, method, axis, label, rotate)\u001b[0m\n\u001b[1;32m    562\u001b[0m \u001b[0;34m\u001b[0m\u001b[0m\n\u001b[1;32m    563\u001b[0m         \u001b[0;32mif\u001b[0m \u001b[0mlinkage\u001b[0m \u001b[0;32mis\u001b[0m \u001b[0;32mNone\u001b[0m\u001b[0;34m:\u001b[0m\u001b[0;34m\u001b[0m\u001b[0;34m\u001b[0m\u001b[0m\n\u001b[0;32m--> 564\u001b[0;31m             \u001b[0mself\u001b[0m\u001b[0;34m.\u001b[0m\u001b[0mlinkage\u001b[0m \u001b[0;34m=\u001b[0m \u001b[0mself\u001b[0m\u001b[0;34m.\u001b[0m\u001b[0mcalculated_linkage\u001b[0m\u001b[0;34m\u001b[0m\u001b[0;34m\u001b[0m\u001b[0m\n\u001b[0m\u001b[1;32m    565\u001b[0m         \u001b[0;32melse\u001b[0m\u001b[0;34m:\u001b[0m\u001b[0;34m\u001b[0m\u001b[0;34m\u001b[0m\u001b[0m\n\u001b[1;32m    566\u001b[0m             \u001b[0mself\u001b[0m\u001b[0;34m.\u001b[0m\u001b[0mlinkage\u001b[0m \u001b[0;34m=\u001b[0m \u001b[0mlinkage\u001b[0m\u001b[0;34m\u001b[0m\u001b[0;34m\u001b[0m\u001b[0m\n",
      "\u001b[0;32m/usr/local/lib/python3.7/site-packages/seaborn/matrix.py\u001b[0m in \u001b[0;36mcalculated_linkage\u001b[0;34m(self)\u001b[0m\n\u001b[1;32m    626\u001b[0m             \u001b[0;32mreturn\u001b[0m \u001b[0mself\u001b[0m\u001b[0;34m.\u001b[0m\u001b[0m_calculate_linkage_fastcluster\u001b[0m\u001b[0;34m(\u001b[0m\u001b[0;34m)\u001b[0m\u001b[0;34m\u001b[0m\u001b[0;34m\u001b[0m\u001b[0m\n\u001b[1;32m    627\u001b[0m         \u001b[0;32mexcept\u001b[0m \u001b[0mImportError\u001b[0m\u001b[0;34m:\u001b[0m\u001b[0;34m\u001b[0m\u001b[0;34m\u001b[0m\u001b[0m\n\u001b[0;32m--> 628\u001b[0;31m             \u001b[0;32mreturn\u001b[0m \u001b[0mself\u001b[0m\u001b[0;34m.\u001b[0m\u001b[0m_calculate_linkage_scipy\u001b[0m\u001b[0;34m(\u001b[0m\u001b[0;34m)\u001b[0m\u001b[0;34m\u001b[0m\u001b[0;34m\u001b[0m\u001b[0m\n\u001b[0m\u001b[1;32m    629\u001b[0m \u001b[0;34m\u001b[0m\u001b[0m\n\u001b[1;32m    630\u001b[0m     \u001b[0;32mdef\u001b[0m \u001b[0mcalculate_dendrogram\u001b[0m\u001b[0;34m(\u001b[0m\u001b[0mself\u001b[0m\u001b[0;34m)\u001b[0m\u001b[0;34m:\u001b[0m\u001b[0;34m\u001b[0m\u001b[0;34m\u001b[0m\u001b[0m\n",
      "\u001b[0;32m/usr/local/lib/python3.7/site-packages/seaborn/matrix.py\u001b[0m in \u001b[0;36m_calculate_linkage_scipy\u001b[0;34m(self)\u001b[0m\n\u001b[1;32m    601\u001b[0m                         '\"pip install fastcluster\")')\n\u001b[1;32m    602\u001b[0m         linkage = hierarchy.linkage(self.array, method=self.method,\n\u001b[0;32m--> 603\u001b[0;31m                                     metric=self.metric)\n\u001b[0m\u001b[1;32m    604\u001b[0m         \u001b[0;32mreturn\u001b[0m \u001b[0mlinkage\u001b[0m\u001b[0;34m\u001b[0m\u001b[0;34m\u001b[0m\u001b[0m\n\u001b[1;32m    605\u001b[0m \u001b[0;34m\u001b[0m\u001b[0m\n",
      "\u001b[0;32m/usr/local/lib/python3.7/site-packages/scipy/cluster/hierarchy.py\u001b[0m in \u001b[0;36mlinkage\u001b[0;34m(y, method, metric, optimal_ordering)\u001b[0m\n\u001b[1;32m   1040\u001b[0m         \u001b[0;32mraise\u001b[0m \u001b[0mValueError\u001b[0m\u001b[0;34m(\u001b[0m\u001b[0;34m\"Invalid method: {0}\"\u001b[0m\u001b[0;34m.\u001b[0m\u001b[0mformat\u001b[0m\u001b[0;34m(\u001b[0m\u001b[0mmethod\u001b[0m\u001b[0;34m)\u001b[0m\u001b[0;34m)\u001b[0m\u001b[0;34m\u001b[0m\u001b[0;34m\u001b[0m\u001b[0m\n\u001b[1;32m   1041\u001b[0m \u001b[0;34m\u001b[0m\u001b[0m\n\u001b[0;32m-> 1042\u001b[0;31m     \u001b[0my\u001b[0m \u001b[0;34m=\u001b[0m \u001b[0m_convert_to_double\u001b[0m\u001b[0;34m(\u001b[0m\u001b[0mnp\u001b[0m\u001b[0;34m.\u001b[0m\u001b[0masarray\u001b[0m\u001b[0;34m(\u001b[0m\u001b[0my\u001b[0m\u001b[0;34m,\u001b[0m \u001b[0morder\u001b[0m\u001b[0;34m=\u001b[0m\u001b[0;34m'c'\u001b[0m\u001b[0;34m)\u001b[0m\u001b[0;34m)\u001b[0m\u001b[0;34m\u001b[0m\u001b[0;34m\u001b[0m\u001b[0m\n\u001b[0m\u001b[1;32m   1043\u001b[0m \u001b[0;34m\u001b[0m\u001b[0m\n\u001b[1;32m   1044\u001b[0m     \u001b[0;32mif\u001b[0m \u001b[0my\u001b[0m\u001b[0;34m.\u001b[0m\u001b[0mndim\u001b[0m \u001b[0;34m==\u001b[0m \u001b[0;36m1\u001b[0m\u001b[0;34m:\u001b[0m\u001b[0;34m\u001b[0m\u001b[0;34m\u001b[0m\u001b[0m\n",
      "\u001b[0;32m/usr/local/lib/python3.7/site-packages/scipy/cluster/hierarchy.py\u001b[0m in \u001b[0;36m_convert_to_double\u001b[0;34m(X)\u001b[0m\n\u001b[1;32m   1562\u001b[0m \u001b[0;32mdef\u001b[0m \u001b[0m_convert_to_double\u001b[0m\u001b[0;34m(\u001b[0m\u001b[0mX\u001b[0m\u001b[0;34m)\u001b[0m\u001b[0;34m:\u001b[0m\u001b[0;34m\u001b[0m\u001b[0;34m\u001b[0m\u001b[0m\n\u001b[1;32m   1563\u001b[0m     \u001b[0;32mif\u001b[0m \u001b[0mX\u001b[0m\u001b[0;34m.\u001b[0m\u001b[0mdtype\u001b[0m \u001b[0;34m!=\u001b[0m \u001b[0mnp\u001b[0m\u001b[0;34m.\u001b[0m\u001b[0mdouble\u001b[0m\u001b[0;34m:\u001b[0m\u001b[0;34m\u001b[0m\u001b[0;34m\u001b[0m\u001b[0m\n\u001b[0;32m-> 1564\u001b[0;31m         \u001b[0mX\u001b[0m \u001b[0;34m=\u001b[0m \u001b[0mX\u001b[0m\u001b[0;34m.\u001b[0m\u001b[0mastype\u001b[0m\u001b[0;34m(\u001b[0m\u001b[0mnp\u001b[0m\u001b[0;34m.\u001b[0m\u001b[0mdouble\u001b[0m\u001b[0;34m)\u001b[0m\u001b[0;34m\u001b[0m\u001b[0;34m\u001b[0m\u001b[0m\n\u001b[0m\u001b[1;32m   1565\u001b[0m     \u001b[0;32mif\u001b[0m \u001b[0;32mnot\u001b[0m \u001b[0mX\u001b[0m\u001b[0;34m.\u001b[0m\u001b[0mflags\u001b[0m\u001b[0;34m.\u001b[0m\u001b[0mcontiguous\u001b[0m\u001b[0;34m:\u001b[0m\u001b[0;34m\u001b[0m\u001b[0;34m\u001b[0m\u001b[0m\n\u001b[1;32m   1566\u001b[0m         \u001b[0mX\u001b[0m \u001b[0;34m=\u001b[0m \u001b[0mX\u001b[0m\u001b[0;34m.\u001b[0m\u001b[0mcopy\u001b[0m\u001b[0;34m(\u001b[0m\u001b[0;34m)\u001b[0m\u001b[0;34m\u001b[0m\u001b[0;34m\u001b[0m\u001b[0m\n",
      "\u001b[0;31mValueError\u001b[0m: could not convert string to float: 'GP'"
     ]
    },
    {
     "data": {
      "image/png": "[encoded data removed]",
      "text/plain": [
       "<Figure size 720x720 with 4 Axes>"
      ]
     },
     "metadata": {
      "needs_background": "light"
     },
     "output_type": "display_data"
    }
   ],
   "source": [
    "sns.clustermap(df)"
   ]
  },
  {
   "cell_type": "code",
   "execution_count": null,
   "metadata": {},
   "outputs": [],
   "source": []
  }
 ],
 "metadata": {
  "kernelspec": {
   "display_name": "Python 3",
   "language": "python",
   "name": "python3"
  },
  "language_info": {
   "codemirror_mode": {
    "name": "ipython",
    "version": 3
   },
   "file_extension": ".py",
   "mimetype": "text/x-python",
   "name": "python",
   "nbconvert_exporter": "python",
   "pygments_lexer": "ipython3",
   "version": "3.7.6"
  }
 },
 "nbformat": 4,
 "nbformat_minor": 2
}
