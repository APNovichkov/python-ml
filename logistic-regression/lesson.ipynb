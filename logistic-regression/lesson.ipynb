{
 "cells": [
  {
   "cell_type": "code",
   "execution_count": 1,
   "metadata": {},
   "outputs": [],
   "source": [
    "import pandas as pd\n",
    "import numpy as np\n",
    "import matplotlib.pyplot as plt\n",
    "import seaborn as sns"
   ]
  },
  {
   "cell_type": "code",
   "execution_count": 2,
   "metadata": {},
   "outputs": [
    {
     "data": {
      "text/html": [
       "<div>\n",
       "<style scoped>\n",
       "    .dataframe tbody tr th:only-of-type {\n",
       "        vertical-align: middle;\n",
       "    }\n",
       "\n",
       "    .dataframe tbody tr th {\n",
       "        vertical-align: top;\n",
       "    }\n",
       "\n",
       "    .dataframe thead th {\n",
       "        text-align: right;\n",
       "    }\n",
       "</style>\n",
       "<table border=\"1\" class=\"dataframe\">\n",
       "  <thead>\n",
       "    <tr style=\"text-align: right;\">\n",
       "      <th></th>\n",
       "      <th>Pregnancies</th>\n",
       "      <th>Glucose</th>\n",
       "      <th>BloodPressure</th>\n",
       "      <th>SkinThickness</th>\n",
       "      <th>Insulin</th>\n",
       "      <th>BMI</th>\n",
       "      <th>DiabetesPedigreeFunction</th>\n",
       "      <th>Age</th>\n",
       "      <th>Outcome</th>\n",
       "    </tr>\n",
       "  </thead>\n",
       "  <tbody>\n",
       "    <tr>\n",
       "      <td>0</td>\n",
       "      <td>6</td>\n",
       "      <td>148</td>\n",
       "      <td>72</td>\n",
       "      <td>35</td>\n",
       "      <td>0</td>\n",
       "      <td>33.6</td>\n",
       "      <td>0.627</td>\n",
       "      <td>50</td>\n",
       "      <td>1</td>\n",
       "    </tr>\n",
       "    <tr>\n",
       "      <td>1</td>\n",
       "      <td>1</td>\n",
       "      <td>85</td>\n",
       "      <td>66</td>\n",
       "      <td>29</td>\n",
       "      <td>0</td>\n",
       "      <td>26.6</td>\n",
       "      <td>0.351</td>\n",
       "      <td>31</td>\n",
       "      <td>0</td>\n",
       "    </tr>\n",
       "    <tr>\n",
       "      <td>2</td>\n",
       "      <td>8</td>\n",
       "      <td>183</td>\n",
       "      <td>64</td>\n",
       "      <td>0</td>\n",
       "      <td>0</td>\n",
       "      <td>23.3</td>\n",
       "      <td>0.672</td>\n",
       "      <td>32</td>\n",
       "      <td>1</td>\n",
       "    </tr>\n",
       "    <tr>\n",
       "      <td>3</td>\n",
       "      <td>1</td>\n",
       "      <td>89</td>\n",
       "      <td>66</td>\n",
       "      <td>23</td>\n",
       "      <td>94</td>\n",
       "      <td>28.1</td>\n",
       "      <td>0.167</td>\n",
       "      <td>21</td>\n",
       "      <td>0</td>\n",
       "    </tr>\n",
       "    <tr>\n",
       "      <td>4</td>\n",
       "      <td>0</td>\n",
       "      <td>137</td>\n",
       "      <td>40</td>\n",
       "      <td>35</td>\n",
       "      <td>168</td>\n",
       "      <td>43.1</td>\n",
       "      <td>2.288</td>\n",
       "      <td>33</td>\n",
       "      <td>1</td>\n",
       "    </tr>\n",
       "  </tbody>\n",
       "</table>\n",
       "</div>"
      ],
      "text/plain": [
       "   Pregnancies  Glucose  BloodPressure  SkinThickness  Insulin   BMI  \\\n",
       "0            6      148             72             35        0  33.6   \n",
       "1            1       85             66             29        0  26.6   \n",
       "2            8      183             64              0        0  23.3   \n",
       "3            1       89             66             23       94  28.1   \n",
       "4            0      137             40             35      168  43.1   \n",
       "\n",
       "   DiabetesPedigreeFunction  Age  Outcome  \n",
       "0                     0.627   50        1  \n",
       "1                     0.351   31        0  \n",
       "2                     0.672   32        1  \n",
       "3                     0.167   21        0  \n",
       "4                     2.288   33        1  "
      ]
     },
     "execution_count": 2,
     "metadata": {},
     "output_type": "execute_result"
    }
   ],
   "source": [
    "df = pd.read_csv('diabetes.csv')\n",
    "df.head()"
   ]
  },
  {
   "cell_type": "code",
   "execution_count": 3,
   "metadata": {},
   "outputs": [],
   "source": [
    "# 1 means you have diabetes\n",
    "# 0 means you do not have diabetes"
   ]
  },
  {
   "cell_type": "code",
   "execution_count": 4,
   "metadata": {},
   "outputs": [],
   "source": [
    "feature_cols = ['Pregnancies', 'Insulin', 'BMI', 'Age']\n",
    "feature_df = df[feature_cols]\n",
    "\n",
    "X = feature_df.to_numpy()\n",
    "y = df['Outcome'].to_numpy()"
   ]
  },
  {
   "cell_type": "code",
   "execution_count": 5,
   "metadata": {},
   "outputs": [],
   "source": [
    "from sklearn.model_selection import train_test_split\n",
    "X_train, X_test, y_train, y_test = train_test_split(X, y, test_size=.25, random_state=0)"
   ]
  },
  {
   "cell_type": "code",
   "execution_count": 7,
   "metadata": {},
   "outputs": [
    {
     "name": "stderr",
     "output_type": "stream",
     "text": [
      "/usr/local/lib/python3.7/site-packages/sklearn/linear_model/logistic.py:432: FutureWarning: Default solver will be changed to 'lbfgs' in 0.22. Specify a solver to silence this warning.\n",
      "  FutureWarning)\n"
     ]
    },
    {
     "data": {
      "text/plain": [
       "LogisticRegression(C=1.0, class_weight=None, dual=False, fit_intercept=True,\n",
       "                   intercept_scaling=1, l1_ratio=None, max_iter=100,\n",
       "                   multi_class='warn', n_jobs=None, penalty='l2',\n",
       "                   random_state=None, solver='warn', tol=0.0001, verbose=0,\n",
       "                   warm_start=False)"
      ]
     },
     "execution_count": 7,
     "metadata": {},
     "output_type": "execute_result"
    }
   ],
   "source": [
    "from sklearn.linear_model import LogisticRegression\n",
    "\n",
    "log_reg = LogisticRegression()\n",
    "log_reg.fit(X_train, y_train)"
   ]
  },
  {
   "cell_type": "code",
   "execution_count": 8,
   "metadata": {},
   "outputs": [],
   "source": [
    "y_pred = log_reg.predict(X_test)"
   ]
  },
  {
   "cell_type": "code",
   "execution_count": 22,
   "metadata": {},
   "outputs": [
    {
     "data": {
      "text/plain": [
       "array([0, 0, 0, 0, 0, 0, 0, 1, 0, 1, 0, 1, 0, 0, 0, 0, 0, 0, 0, 0, 0, 0,\n",
       "       0, 0, 0, 0, 0, 1, 0, 0, 0, 0, 0, 0, 0, 0, 0, 0, 0, 0, 0, 0, 0, 0,\n",
       "       1, 0, 0, 0, 0, 0, 0, 0, 1, 0, 0, 0, 0, 1, 0, 0, 1, 0, 0, 0, 0, 0,\n",
       "       0, 0, 0, 0, 0, 0, 0, 1, 0, 0, 1, 0, 0, 0, 1, 0, 0, 0, 0, 0, 0, 0,\n",
       "       1, 0, 0, 0, 0, 0, 0, 0, 1, 0, 1, 0, 1, 0, 0, 0, 0, 0, 0, 0, 0, 0,\n",
       "       0, 1, 0, 0, 0, 0, 0, 0, 0, 1, 0, 1, 0, 1, 0, 0, 0, 0, 0, 0, 0, 0,\n",
       "       0, 1, 0, 0, 0, 0, 0, 0, 0, 0, 0, 0, 0, 0, 0, 0, 0, 0, 0, 0, 0, 0,\n",
       "       1, 0, 1, 0, 0, 1, 0, 0, 0, 0, 0, 0, 1, 0, 0, 0, 0, 0, 0, 0, 1, 0,\n",
       "       1, 0, 0, 0, 0, 1, 0, 0, 0, 0, 0, 0, 0, 0, 0, 0])"
      ]
     },
     "execution_count": 22,
     "metadata": {},
     "output_type": "execute_result"
    }
   ],
   "source": [
    "log_reg.predict(X_test)"
   ]
  },
  {
   "cell_type": "code",
   "execution_count": 24,
   "metadata": {},
   "outputs": [],
   "source": [
    "y_pred = log_reg.predict_proba(X_test)"
   ]
  },
  {
   "cell_type": "code",
   "execution_count": 35,
   "metadata": {},
   "outputs": [
    {
     "data": {
      "text/plain": [
       "array([[  1. ,   0. ,  42.9,  22. ],\n",
       "       [  2. , 100. ,  33.6,  23. ],\n",
       "       [  4. ,   0. ,  34. ,  25. ],\n",
       "       [  5. , 175. ,  25.8,  51. ],\n",
       "       [  0. ,   0. ,  24.6,  31. ],\n",
       "       [  1. ,  40. ,  26.6,  24. ],\n",
       "       [  9. , 171. ,  34.2,  33. ],\n",
       "       [  3. , 156. ,  33.3,  52. ],\n",
       "       [  2. , 275. ,  27.7,  25. ],\n",
       "       [  6. , 190. ,  37.7,  55. ],\n",
       "       [  3. , 245. ,  31.6,  28. ],\n",
       "       [  5. , 207. ,  43.6,  53. ],\n",
       "       [  5. ,   0. ,  24.9,  57. ],\n",
       "       [  2. , 115. ,  28.5,  25. ],\n",
       "       [  8. ,   0. ,  32. ,  42. ],\n",
       "       [  0. ,   0. ,  27.3,  32. ],\n",
       "       [  8. , 130. ,  32.7,  36. ],\n",
       "       [  1. ,   0. ,  23. ,  21. ],\n",
       "       [  4. ,   0. ,  28. ,  63. ],\n",
       "       [  5. ,  83. ,  34. ,  30. ],\n",
       "       [  4. ,   0. ,  38.5,  37. ],\n",
       "       [  2. ,   0. ,  42.9,  21. ],\n",
       "       [  2. ,   0. ,  28.9,  25. ],\n",
       "       [  3. ,   0. ,  34.4,  46. ],\n",
       "       [  1. , 140. ,  23.2,  22. ],\n",
       "       [  1. ,   0. ,  35.8,  21. ],\n",
       "       [  0. ,   0. ,  18.4,  27. ],\n",
       "       [ 13. , 140. ,  40.6,  39. ],\n",
       "       [  2. ,   0. ,  25. ,  24. ],\n",
       "       [  5. ,   0. ,  26. ,  30. ],\n",
       "       [  7. , 135. ,  26. ,  51. ],\n",
       "       [  0. ,  78. ,  40.6,  21. ],\n",
       "       [  0. , 105. ,  29.3,  27. ],\n",
       "       [  2. , 158. ,  36.2,  28. ],\n",
       "       [  1. ,  50. ,  22.3,  24. ],\n",
       "       [  5. ,   0. ,  32.9,  41. ],\n",
       "       [ 11. , 130. ,  28.3,  42. ],\n",
       "       [  2. ,  71. ,  25.2,  21. ],\n",
       "       [  1. ,  63. ,  35.5,  25. ],\n",
       "       [  3. ,  70. ,  34. ,  26. ],\n",
       "       [  0. ,  92. ,  34.9,  23. ],\n",
       "       [  3. ,   0. ,  42.7,  21. ],\n",
       "       [  6. ,  54. ,  26.9,  32. ],\n",
       "       [  3. ,   0. ,  34.9,  25. ],\n",
       "       [  2. , 543. ,  30.5,  53. ],\n",
       "       [  0. ,   0. ,   0. ,  21. ],\n",
       "       [  2. ,  56. ,  25.2,  21. ],\n",
       "       [  3. , 115. ,  26.4,  28. ],\n",
       "       [  4. ,  99. ,  34.8,  26. ],\n",
       "       [  4. ,   0. ,  32.3,  27. ],\n",
       "       [ 10. ,   0. ,  27. ,  36. ],\n",
       "       [  2. ,  63. ,  32.5,  22. ],\n",
       "       [ 12. , 271. ,  41.8,  38. ],\n",
       "       [  7. ,   0. ,  32. ,  39. ],\n",
       "       [  0. , 210. ,  39.9,  25. ],\n",
       "       [  1. ,   0. ,  24.7,  22. ],\n",
       "       [  1. ,   0. ,  26.6,  31. ],\n",
       "       [  5. ,   0. ,  52.9,  28. ],\n",
       "       [  2. ,   0. ,  28.9,  23. ],\n",
       "       [ 10. ,   0. ,   0. ,  30. ],\n",
       "       [  8. , 231. ,  37.6,  43. ],\n",
       "       [  4. , 293. ,  34.9,  30. ],\n",
       "       [  0. ,   0. ,  24.7,  21. ],\n",
       "       [  0. ,   0. ,  36.3,  25. ],\n",
       "       [  3. ,   0. ,  30.5,  29. ],\n",
       "       [  8. ,   0. ,  25.9,  39. ],\n",
       "       [  9. ,   0. ,  30.4,  49. ],\n",
       "       [  3. ,   0. ,  23. ,  40. ],\n",
       "       [  9. ,   0. ,  31.2,  42. ],\n",
       "       [  9. ,   0. ,  31.6,  38. ],\n",
       "       [  2. ,   0. ,  30.8,  21. ],\n",
       "       [  7. ,   0. ,  25.2,  37. ],\n",
       "       [  0. ,   0. ,  35.8,  25. ],\n",
       "       [  6. ,   0. ,  40.8,  45. ],\n",
       "       [  4. ,   0. ,  43.6,  26. ],\n",
       "       [  4. ,   0. ,  31.2,  30. ],\n",
       "       [ 10. ,  49. ,  35.5,  47. ],\n",
       "       [  6. , 193. ,  29.3,  39. ],\n",
       "       [  4. ,   0. ,  29.3,  34. ],\n",
       "       [  1. ,   0. ,  38.1,  30. ],\n",
       "       [  8. ,   0. ,  38.7,  42. ],\n",
       "       [  1. , 204. ,  37.4,  24. ],\n",
       "       [  2. , 125. ,  32.4,  27. ],\n",
       "       [  1. ,  82. ,  18.2,  21. ],\n",
       "       [  4. ,   0. ,  35.4,  28. ],\n",
       "       [  4. ,   0. ,  42.2,  29. ],\n",
       "       [  3. ,   0. ,  25.6,  22. ],\n",
       "       [  1. ,  83. ,  43.3,  33. ],\n",
       "       [  7. , 192. ,  35.9,  51. ],\n",
       "       [  0. , 115. ,  43.5,  21. ],\n",
       "       [  1. ,   0. ,  27.8,  30. ],\n",
       "       [  2. ,   0. ,  28. ,  27. ],\n",
       "       [  3. ,  85. ,  29.5,  25. ],\n",
       "       [  1. ,  82. ,  19.4,  22. ],\n",
       "       [  1. ,  67. ,  32.8,  50. ],\n",
       "       [  3. ,  44. ,  29.5,  22. ],\n",
       "       [  7. ,  91. ,  40.9,  32. ],\n",
       "       [  0. , 272. ,  41.5,  27. ],\n",
       "       [  4. , 207. ,  37.1,  56. ],\n",
       "       [  4. ,   0. ,  28.9,  46. ],\n",
       "       [  0. , 285. ,  44.2,  27. ],\n",
       "       [  2. ,  94. ,  24.6,  21. ],\n",
       "       [  4. ,   0. ,  37.6,  30. ],\n",
       "       [  1. ,  38. ,  19.6,  25. ],\n",
       "       [  2. ,   0. ,  40. ,  24. ],\n",
       "       [  8. ,   0. ,  30.5,  33. ],\n",
       "       [  0. , 120. ,  27.4,  21. ],\n",
       "       [  0. ,   0. ,  33.2,  22. ],\n",
       "       [  3. ,  64. ,  19.3,  30. ],\n",
       "       [  8. ,   0. ,  23.3,  32. ],\n",
       "       [  2. ,  16. ,  28.4,  22. ],\n",
       "       [  9. , 175. ,  34.2,  36. ],\n",
       "       [  8. ,   0. ,  34.9,  41. ],\n",
       "       [  1. ,  58. ,  32. ,  33. ],\n",
       "       [  3. , 474. ,  35.7,  22. ],\n",
       "       [  7. ,   0. ,  30.4,  47. ],\n",
       "       [  2. , 278. ,  25.3,  22. ],\n",
       "       [  1. , 375. ,  25.9,  24. ],\n",
       "       [  1. ,   0. ,  30.1,  23. ],\n",
       "       [ 11. , 150. ,  42.3,  48. ],\n",
       "       [  4. ,   0. ,  39.4,  38. ],\n",
       "       [  5. ,   0. ,  39.2,  65. ],\n",
       "       [  3. , 140. ,  38.1,  28. ],\n",
       "       [ 12. ,   0. ,  26.5,  62. ],\n",
       "       [  1. ,  61. ,  26.2,  21. ],\n",
       "       [  2. ,   0. ,  23.5,  25. ],\n",
       "       [  4. , 155. ,  34.5,  28. ],\n",
       "       [  5. ,   0. ,  32.3,  35. ],\n",
       "       [  1. ,   0. ,  26.7,  62. ],\n",
       "       [  2. ,   0. ,  22.9,  22. ],\n",
       "       [  5. , 140. ,  28.6,  26. ],\n",
       "       [  7. ,   0. ,   0. ,  24. ],\n",
       "       [  2. ,   0. ,  27.7,  25. ],\n",
       "       [  1. , 579. ,  42.4,  28. ],\n",
       "       [  7. ,  79. ,  33.3,  41. ],\n",
       "       [  9. ,   0. ,  32.9,  46. ],\n",
       "       [  1. ,   0. ,  28.3,  29. ],\n",
       "       [  7. ,   0. ,  39.1,  31. ],\n",
       "       [  3. ,   0. ,  30. ,  27. ],\n",
       "       [  2. ,   0. ,  26.8,  27. ],\n",
       "       [  2. ,  52. ,  32.7,  25. ],\n",
       "       [  4. , 126. ,  31.3,  37. ],\n",
       "       [  1. ,   0. ,  24.3,  21. ],\n",
       "       [  7. ,   0. ,  32.6,  41. ],\n",
       "       [  7. ,   0. ,  32.8,  42. ],\n",
       "       [  1. ,   0. ,  25.4,  21. ],\n",
       "       [  5. ,  23. ,  24.4,  30. ],\n",
       "       [  6. ,   0. ,  26.2,  41. ],\n",
       "       [  1. ,   0. ,  27.2,  22. ],\n",
       "       [  2. , 191. ,  33.7,  29. ],\n",
       "       [  4. ,  49. ,  27.8,  28. ],\n",
       "       [  4. ,   0. ,  44. ,  22. ],\n",
       "       [  3. , 105. ,  26.3,  24. ],\n",
       "       [  1. ,  82. ,  30.8,  24. ],\n",
       "       [  7. , 126. ,  35.2,  54. ],\n",
       "       [  4. ,   0. ,  28.2,  22. ],\n",
       "       [  0. , 680. ,  52.3,  23. ],\n",
       "       [  1. , 135. ,  25.2,  23. ],\n",
       "       [  8. ,   0. ,  30. ,  38. ],\n",
       "       [ 11. ,   0. ,  52.3,  40. ],\n",
       "       [ 10. , 132. ,  25.5,  47. ],\n",
       "       [  6. ,   0. ,  23.5,  59. ],\n",
       "       [  1. ,  76. ,  20.4,  22. ],\n",
       "       [  2. , 106. ,  29.8,  22. ],\n",
       "       [ 10. ,   0. ,  35.1,  37. ],\n",
       "       [  0. ,   0. ,  32.4,  24. ],\n",
       "       [ 13. ,   0. ,  32.8,  41. ],\n",
       "       [  2. ,   0. ,  26.2,  23. ],\n",
       "       [  3. ,   0. ,  31.6,  24. ],\n",
       "       [  0. ,   0. ,  29.6,  46. ],\n",
       "       [  1. ,  25. ,  27.8,  21. ],\n",
       "       [  8. ,  49. ,  35.3,  39. ],\n",
       "       [  7. ,   0. ,  29.6,  31. ],\n",
       "       [  1. ,   0. ,  39.5,  42. ],\n",
       "       [  3. ,   0. ,  32.4,  63. ],\n",
       "       [  4. ,  88. ,  33.1,  22. ],\n",
       "       [  8. ,   0. ,  36.8,  57. ],\n",
       "       [  5. ,  42. ,  35.8,  35. ],\n",
       "       [  4. , 100. ,  28.4,  27. ],\n",
       "       [  1. ,   0. ,  29.2,  21. ],\n",
       "       [  6. ,   0. ,  30.8,  36. ],\n",
       "       [ 13. ,   0. ,  42.3,  44. ],\n",
       "       [  2. ,  66. ,  36.8,  24. ],\n",
       "       [  0. ,   0. ,  42. ,  25. ],\n",
       "       [  4. ,   0. ,  31.2,  22. ],\n",
       "       [  5. ,   0. ,  25. ,  36. ],\n",
       "       [  0. ,   0. ,  43.2,  26. ],\n",
       "       [  6. ,   0. ,  27.6,  29. ],\n",
       "       [  2. , 135. ,  31.6,  25. ],\n",
       "       [  1. , 182. ,  25.4,  21. ],\n",
       "       [  3. ,   0. ,  21.1,  55. ],\n",
       "       [  5. ,   0. ,  27.6,  37. ]])"
      ]
     },
     "execution_count": 35,
     "metadata": {},
     "output_type": "execute_result"
    }
   ],
   "source": [
    "X_test"
   ]
  },
  {
   "cell_type": "code",
   "execution_count": 58,
   "metadata": {},
   "outputs": [],
   "source": [
    "def get_feature_list(feature_matrix, col_index):\n",
    "    feature_list = []\n",
    "    for row in feature_matrix:\n",
    "        feature_list.append(row[col_index])\n",
    "    return np.array(feature_list)"
   ]
  },
  {
   "cell_type": "code",
   "execution_count": 75,
   "metadata": {},
   "outputs": [],
   "source": [
    "f_list = get_feature_list(X_test, 2)"
   ]
  },
  {
   "cell_type": "code",
   "execution_count": 76,
   "metadata": {},
   "outputs": [
    {
     "data": {
      "text/plain": [
       "(192,)"
      ]
     },
     "execution_count": 76,
     "metadata": {},
     "output_type": "execute_result"
    }
   ],
   "source": [
    "f_list.shape"
   ]
  },
  {
   "cell_type": "code",
   "execution_count": 77,
   "metadata": {},
   "outputs": [],
   "source": [
    "y_pos_pred = y_pred[:,1]"
   ]
  },
  {
   "cell_type": "code",
   "execution_count": 78,
   "metadata": {},
   "outputs": [
    {
     "data": {
      "text/plain": [
       "(192,)"
      ]
     },
     "execution_count": 78,
     "metadata": {},
     "output_type": "execute_result"
    }
   ],
   "source": [
    "y_pos_pred.shape"
   ]
  },
  {
   "cell_type": "code",
   "execution_count": 79,
   "metadata": {},
   "outputs": [
    {
     "data": {
      "text/plain": [
       "<matplotlib.collections.PathCollection at 0x117a11250>"
      ]
     },
     "execution_count": 79,
     "metadata": {},
     "output_type": "execute_result"
    },
    {
     "data": {
      "image/png": "[encoded data removed]",
      "text/plain": [
       "<Figure size 432x288 with 1 Axes>"
      ]
     },
     "metadata": {
      "needs_background": "light"
     },
     "output_type": "display_data"
    }
   ],
   "source": [
    "plt.scatter(f_list, y_pos_pred)"
   ]
  },
  {
   "cell_type": "code",
   "execution_count": null,
   "metadata": {},
   "outputs": [],
   "source": []
  },
  {
   "cell_type": "code",
   "execution_count": 29,
   "metadata": {},
   "outputs": [
    {
     "ename": "ValueError",
     "evalue": "x and y must be the same size",
     "output_type": "error",
     "traceback": [
      "\u001b[0;31m---------------------------------------------------------------------------\u001b[0m",
      "\u001b[0;31mValueError\u001b[0m                                Traceback (most recent call last)",
      "\u001b[0;32m<ipython-input-29-ab1b17938fd1>\u001b[0m in \u001b[0;36m<module>\u001b[0;34m\u001b[0m\n\u001b[0;32m----> 1\u001b[0;31m \u001b[0mplt\u001b[0m\u001b[0;34m.\u001b[0m\u001b[0mscatter\u001b[0m\u001b[0;34m(\u001b[0m\u001b[0mX_test\u001b[0m\u001b[0;34m[\u001b[0m\u001b[0;36m1\u001b[0m\u001b[0;34m]\u001b[0m\u001b[0;34m,\u001b[0m \u001b[0my_pred\u001b[0m\u001b[0;34m)\u001b[0m\u001b[0;34m\u001b[0m\u001b[0;34m\u001b[0m\u001b[0m\n\u001b[0m",
      "\u001b[0;32m/usr/local/lib/python3.7/site-packages/matplotlib/pyplot.py\u001b[0m in \u001b[0;36mscatter\u001b[0;34m(x, y, s, c, marker, cmap, norm, vmin, vmax, alpha, linewidths, verts, edgecolors, plotnonfinite, data, **kwargs)\u001b[0m\n\u001b[1;32m   2839\u001b[0m         \u001b[0mverts\u001b[0m\u001b[0;34m=\u001b[0m\u001b[0mverts\u001b[0m\u001b[0;34m,\u001b[0m \u001b[0medgecolors\u001b[0m\u001b[0;34m=\u001b[0m\u001b[0medgecolors\u001b[0m\u001b[0;34m,\u001b[0m\u001b[0;34m\u001b[0m\u001b[0;34m\u001b[0m\u001b[0m\n\u001b[1;32m   2840\u001b[0m         plotnonfinite=plotnonfinite, **({\"data\": data} if data is not\n\u001b[0;32m-> 2841\u001b[0;31m         None else {}), **kwargs)\n\u001b[0m\u001b[1;32m   2842\u001b[0m     \u001b[0msci\u001b[0m\u001b[0;34m(\u001b[0m\u001b[0m__ret\u001b[0m\u001b[0;34m)\u001b[0m\u001b[0;34m\u001b[0m\u001b[0;34m\u001b[0m\u001b[0m\n\u001b[1;32m   2843\u001b[0m     \u001b[0;32mreturn\u001b[0m \u001b[0m__ret\u001b[0m\u001b[0;34m\u001b[0m\u001b[0;34m\u001b[0m\u001b[0m\n",
      "\u001b[0;32m/usr/local/lib/python3.7/site-packages/matplotlib/__init__.py\u001b[0m in \u001b[0;36minner\u001b[0;34m(ax, data, *args, **kwargs)\u001b[0m\n\u001b[1;32m   1597\u001b[0m     \u001b[0;32mdef\u001b[0m \u001b[0minner\u001b[0m\u001b[0;34m(\u001b[0m\u001b[0max\u001b[0m\u001b[0;34m,\u001b[0m \u001b[0;34m*\u001b[0m\u001b[0margs\u001b[0m\u001b[0;34m,\u001b[0m \u001b[0mdata\u001b[0m\u001b[0;34m=\u001b[0m\u001b[0;32mNone\u001b[0m\u001b[0;34m,\u001b[0m \u001b[0;34m**\u001b[0m\u001b[0mkwargs\u001b[0m\u001b[0;34m)\u001b[0m\u001b[0;34m:\u001b[0m\u001b[0;34m\u001b[0m\u001b[0;34m\u001b[0m\u001b[0m\n\u001b[1;32m   1598\u001b[0m         \u001b[0;32mif\u001b[0m \u001b[0mdata\u001b[0m \u001b[0;32mis\u001b[0m \u001b[0;32mNone\u001b[0m\u001b[0;34m:\u001b[0m\u001b[0;34m\u001b[0m\u001b[0;34m\u001b[0m\u001b[0m\n\u001b[0;32m-> 1599\u001b[0;31m             \u001b[0;32mreturn\u001b[0m \u001b[0mfunc\u001b[0m\u001b[0;34m(\u001b[0m\u001b[0max\u001b[0m\u001b[0;34m,\u001b[0m \u001b[0;34m*\u001b[0m\u001b[0mmap\u001b[0m\u001b[0;34m(\u001b[0m\u001b[0msanitize_sequence\u001b[0m\u001b[0;34m,\u001b[0m \u001b[0margs\u001b[0m\u001b[0;34m)\u001b[0m\u001b[0;34m,\u001b[0m \u001b[0;34m**\u001b[0m\u001b[0mkwargs\u001b[0m\u001b[0;34m)\u001b[0m\u001b[0;34m\u001b[0m\u001b[0;34m\u001b[0m\u001b[0m\n\u001b[0m\u001b[1;32m   1600\u001b[0m \u001b[0;34m\u001b[0m\u001b[0m\n\u001b[1;32m   1601\u001b[0m         \u001b[0mbound\u001b[0m \u001b[0;34m=\u001b[0m \u001b[0mnew_sig\u001b[0m\u001b[0;34m.\u001b[0m\u001b[0mbind\u001b[0m\u001b[0;34m(\u001b[0m\u001b[0max\u001b[0m\u001b[0;34m,\u001b[0m \u001b[0;34m*\u001b[0m\u001b[0margs\u001b[0m\u001b[0;34m,\u001b[0m \u001b[0;34m**\u001b[0m\u001b[0mkwargs\u001b[0m\u001b[0;34m)\u001b[0m\u001b[0;34m\u001b[0m\u001b[0;34m\u001b[0m\u001b[0m\n",
      "\u001b[0;32m/usr/local/lib/python3.7/site-packages/matplotlib/axes/_axes.py\u001b[0m in \u001b[0;36mscatter\u001b[0;34m(self, x, y, s, c, marker, cmap, norm, vmin, vmax, alpha, linewidths, verts, edgecolors, plotnonfinite, **kwargs)\u001b[0m\n\u001b[1;32m   4441\u001b[0m         \u001b[0my\u001b[0m \u001b[0;34m=\u001b[0m \u001b[0mnp\u001b[0m\u001b[0;34m.\u001b[0m\u001b[0mma\u001b[0m\u001b[0;34m.\u001b[0m\u001b[0mravel\u001b[0m\u001b[0;34m(\u001b[0m\u001b[0my\u001b[0m\u001b[0;34m)\u001b[0m\u001b[0;34m\u001b[0m\u001b[0;34m\u001b[0m\u001b[0m\n\u001b[1;32m   4442\u001b[0m         \u001b[0;32mif\u001b[0m \u001b[0mx\u001b[0m\u001b[0;34m.\u001b[0m\u001b[0msize\u001b[0m \u001b[0;34m!=\u001b[0m \u001b[0my\u001b[0m\u001b[0;34m.\u001b[0m\u001b[0msize\u001b[0m\u001b[0;34m:\u001b[0m\u001b[0;34m\u001b[0m\u001b[0;34m\u001b[0m\u001b[0m\n\u001b[0;32m-> 4443\u001b[0;31m             \u001b[0;32mraise\u001b[0m \u001b[0mValueError\u001b[0m\u001b[0;34m(\u001b[0m\u001b[0;34m\"x and y must be the same size\"\u001b[0m\u001b[0;34m)\u001b[0m\u001b[0;34m\u001b[0m\u001b[0;34m\u001b[0m\u001b[0m\n\u001b[0m\u001b[1;32m   4444\u001b[0m \u001b[0;34m\u001b[0m\u001b[0m\n\u001b[1;32m   4445\u001b[0m         \u001b[0;32mif\u001b[0m \u001b[0ms\u001b[0m \u001b[0;32mis\u001b[0m \u001b[0;32mNone\u001b[0m\u001b[0;34m:\u001b[0m\u001b[0;34m\u001b[0m\u001b[0;34m\u001b[0m\u001b[0m\n",
      "\u001b[0;31mValueError\u001b[0m: x and y must be the same size"
     ]
    },
    {
     "data": {
      "image/png": "[encoded data removed]",
      "text/plain": [
       "<Figure size 432x288 with 1 Axes>"
      ]
     },
     "metadata": {
      "needs_background": "light"
     },
     "output_type": "display_data"
    }
   ],
   "source": [
    "plt.scatter(X_test[1], y_pred)"
   ]
  },
  {
   "cell_type": "code",
   "execution_count": 9,
   "metadata": {},
   "outputs": [
    {
     "data": {
      "text/plain": [
       "0    165\n",
       "1     27\n",
       "Name: Outcome, dtype: int64"
      ]
     },
     "execution_count": 9,
     "metadata": {},
     "output_type": "execute_result"
    }
   ],
   "source": [
    "pd.DataFrame(data=y_pred, columns=['Outcome'])['Outcome'].value_counts()"
   ]
  },
  {
   "cell_type": "code",
   "execution_count": 10,
   "metadata": {},
   "outputs": [
    {
     "data": {
      "text/plain": [
       "0    130\n",
       "1     62\n",
       "Name: Outcome, dtype: int64"
      ]
     },
     "execution_count": 10,
     "metadata": {},
     "output_type": "execute_result"
    }
   ],
   "source": [
    "pd.DataFrame(data=y_test, columns=['Outcome'])['Outcome'].value_counts()"
   ]
  },
  {
   "cell_type": "code",
   "execution_count": 11,
   "metadata": {},
   "outputs": [],
   "source": [
    "def get_outcome_err(l1, l2):\n",
    "    assert(len(l1) == len(l2))\n",
    "    errors = 0\n",
    "    for i, j in zip(l1, l2):\n",
    "        if(i != j):\n",
    "            errors += 1\n",
    "    return errors/len(l1)"
   ]
  },
  {
   "cell_type": "code",
   "execution_count": 12,
   "metadata": {},
   "outputs": [
    {
     "data": {
      "text/plain": [
       "0.3072916666666667"
      ]
     },
     "execution_count": 12,
     "metadata": {},
     "output_type": "execute_result"
    }
   ],
   "source": [
    "get_outcome_err(y_pred, y_test)"
   ]
  },
  {
   "cell_type": "code",
   "execution_count": 13,
   "metadata": {},
   "outputs": [
    {
     "data": {
      "text/plain": [
       "0.25"
      ]
     },
     "execution_count": 13,
     "metadata": {},
     "output_type": "execute_result"
    }
   ],
   "source": [
    "len(y_test) / len(y)"
   ]
  },
  {
   "cell_type": "code",
   "execution_count": 14,
   "metadata": {},
   "outputs": [
    {
     "data": {
      "text/plain": [
       "0.75"
      ]
     },
     "execution_count": 14,
     "metadata": {},
     "output_type": "execute_result"
    }
   ],
   "source": [
    "len(y_train) / len(y)"
   ]
  },
  {
   "cell_type": "code",
   "execution_count": 15,
   "metadata": {},
   "outputs": [],
   "source": [
    "def generate_confusion_matrix(actual_list, predicted_list):\n",
    "    out = [[0, 0],[0, 0]]\n",
    "    # Predicted     0   1\n",
    "    # Actual:    0 TN  FP\n",
    "    # Actual:    1 FN  TP \n",
    "\n",
    "    assert(len(actual_list) == len(predicted_list))\n",
    "    \n",
    "    for actual,predicted in zip(actual_list, predicted_list):\n",
    "        # True Negatives/positives\n",
    "        if actual == predicted: # True {something}\n",
    "            if actual == 0: # True Negatices\n",
    "                out[0][0] += 1\n",
    "            else: # True Positives\n",
    "                out[1][1] += 1\n",
    "        else: # False {something}\n",
    "            if predicted == 1: # False Positives\n",
    "                out[0][1] += 1\n",
    "            else: # False negatives\n",
    "                out[1][0] += 1\n",
    "    \n",
    "    return pd.DataFrame(data=out, columns=['0', '1'], index=['0', '1'])"
   ]
  },
  {
   "cell_type": "code",
   "execution_count": 16,
   "metadata": {},
   "outputs": [
    {
     "data": {
      "text/html": [
       "<div>\n",
       "<style scoped>\n",
       "    .dataframe tbody tr th:only-of-type {\n",
       "        vertical-align: middle;\n",
       "    }\n",
       "\n",
       "    .dataframe tbody tr th {\n",
       "        vertical-align: top;\n",
       "    }\n",
       "\n",
       "    .dataframe thead th {\n",
       "        text-align: right;\n",
       "    }\n",
       "</style>\n",
       "<table border=\"1\" class=\"dataframe\">\n",
       "  <thead>\n",
       "    <tr style=\"text-align: right;\">\n",
       "      <th></th>\n",
       "      <th>0</th>\n",
       "      <th>1</th>\n",
       "    </tr>\n",
       "  </thead>\n",
       "  <tbody>\n",
       "    <tr>\n",
       "      <td>0</td>\n",
       "      <td>118</td>\n",
       "      <td>12</td>\n",
       "    </tr>\n",
       "    <tr>\n",
       "      <td>1</td>\n",
       "      <td>47</td>\n",
       "      <td>15</td>\n",
       "    </tr>\n",
       "  </tbody>\n",
       "</table>\n",
       "</div>"
      ],
      "text/plain": [
       "     0   1\n",
       "0  118  12\n",
       "1   47  15"
      ]
     },
     "execution_count": 16,
     "metadata": {},
     "output_type": "execute_result"
    }
   ],
   "source": [
    "c_matrix = generate_confusion_matrix(y_test, y_pred)\n",
    "c_matrix"
   ]
  },
  {
   "cell_type": "code",
   "execution_count": 17,
   "metadata": {},
   "outputs": [
    {
     "data": {
      "text/plain": [
       "0.3072916666666667"
      ]
     },
     "execution_count": 17,
     "metadata": {},
     "output_type": "execute_result"
    }
   ],
   "source": [
    "(c_matrix.loc['0', '1'] + c_matrix.loc['1','0']) / len(y_test)"
   ]
  },
  {
   "cell_type": "code",
   "execution_count": 18,
   "metadata": {},
   "outputs": [
    {
     "data": {
      "text/plain": [
       "192"
      ]
     },
     "execution_count": 18,
     "metadata": {},
     "output_type": "execute_result"
    }
   ],
   "source": [
    "c_matrix.sum().sum()"
   ]
  },
  {
   "cell_type": "code",
   "execution_count": 19,
   "metadata": {},
   "outputs": [
    {
     "name": "stdout",
     "output_type": "stream",
     "text": [
      "[[118  12]\n",
      " [ 47  15]]\n"
     ]
    }
   ],
   "source": [
    "from sklearn import metrics\n",
    "\n",
    "confusion = metrics.confusion_matrix(y_test, y_pred)\n",
    "print(confusion)"
   ]
  },
  {
   "cell_type": "code",
   "execution_count": null,
   "metadata": {},
   "outputs": [],
   "source": []
  },
  {
   "cell_type": "code",
   "execution_count": null,
   "metadata": {},
   "outputs": [],
   "source": []
  },
  {
   "cell_type": "code",
   "execution_count": null,
   "metadata": {},
   "outputs": [],
   "source": []
  },
  {
   "cell_type": "code",
   "execution_count": null,
   "metadata": {},
   "outputs": [],
   "source": []
  },
  {
   "cell_type": "code",
   "execution_count": null,
   "metadata": {},
   "outputs": [],
   "source": []
  },
  {
   "cell_type": "code",
   "execution_count": null,
   "metadata": {},
   "outputs": [],
   "source": []
  }
 ],
 "metadata": {
  "kernelspec": {
   "display_name": "Python 3",
   "language": "python",
   "name": "python3"
  },
  "language_info": {
   "codemirror_mode": {
    "name": "ipython",
    "version": 3
   },
   "file_extension": ".py",
   "mimetype": "text/x-python",
   "name": "python",
   "nbconvert_exporter": "python",
   "pygments_lexer": "ipython3",
   "version": "3.7.6"
  }
 },
 "nbformat": 4,
 "nbformat_minor": 2
}
