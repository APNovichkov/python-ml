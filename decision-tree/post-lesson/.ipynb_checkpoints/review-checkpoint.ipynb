{
 "cells": [
  {
   "cell_type": "code",
   "execution_count": 1,
   "metadata": {},
   "outputs": [],
   "source": [
    "import pandas as pd\n",
    "import numpy as np\n",
    "import seaborn as sns\n",
    "import matplotlib.pyplot as plt"
   ]
  },
  {
   "cell_type": "markdown",
   "metadata": {},
   "source": [
    "# Review of Decision Trees - yet another classifier model\n",
    "\n",
    "**Decision trees can be described by the following:**\n",
    "- Considered to be one of the most mature and traditional algorithms in predictive analytics\n",
    "- Used to solve classification problems through visual and explicit representations of decisions and decision making\n",
    "- Essentially a map where you can follow the path according to your decisions at every step, and at the end you get your prediction"
   ]
  },
  {
   "cell_type": "markdown",
   "metadata": {},
   "source": [
    "## Why and when do we need Decision Trees?\n",
    "\n",
    "- When features are catgorical: when we can classify data into known groups\n",
    "- When we want to model a set of sequential, heirarchical decisions that lead to some final result\n",
    "- When we need to explain (to a boss) the reasoning behind a specific decision"
   ]
  },
  {
   "cell_type": "markdown",
   "metadata": {},
   "source": [
    "## What are the components of Decision Trees?\n",
    "**Here is what makes up a decision tree:**\n",
    "- Root Node\n",
    "- Leaf Node\n",
    "\n",
    "We can obtain these root and leaf nodes via:\n",
    "- Conditional probability\n",
    "- Entropy\n",
    "- Information Gain"
   ]
  },
  {
   "cell_type": "markdown",
   "metadata": {},
   "source": [
    "# The steps and defenitions behind building a Decision Tree"
   ]
  },
  {
   "cell_type": "markdown",
   "metadata": {},
   "source": [
    "## Entropy\n",
    "Entropy is a measure of uncertainty for a random variable. The higher the entropy, the more uncertain we are of the variable value at a certain event\n",
    "\n",
    "$H(Coin) = \\sum -p(outcome) * log_2(p(outcome)$\n",
    "\n",
    "Where the coin has two outcomes, for example: p(H) = .5 and p(T) = .5"
   ]
  },
  {
   "cell_type": "code",
   "execution_count": 2,
   "metadata": {},
   "outputs": [
    {
     "name": "stdout",
     "output_type": "stream",
     "text": [
      "1.0\n"
     ]
    }
   ],
   "source": [
    "def entropy(p):\n",
    "    H = np.array([-i*np.log2(i) for i in p]).sum()\n",
    "    return H\n",
    "    \n",
    "p = [.5, .5]\n",
    "print(entropy(p))"
   ]
  },
  {
   "cell_type": "markdown",
   "metadata": {},
   "source": [
    "The entropy of the coin with probability of .5 has the most uncertainty when we flip it, so the entropy is at the max of 1.0"
   ]
  },
  {
   "cell_type": "code",
   "execution_count": 3,
   "metadata": {},
   "outputs": [
    {
     "name": "stdout",
     "output_type": "stream",
     "text": [
      "0.4689955935892812\n"
     ]
    }
   ],
   "source": [
    "p = [.9, .1]\n",
    "print(entropy(p))"
   ]
  },
  {
   "cell_type": "markdown",
   "metadata": {},
   "source": [
    "Here we can see that an unfair coin has a way lower entropy, meaning we are more certain of the outcome"
   ]
  },
  {
   "cell_type": "markdown",
   "metadata": {},
   "source": [
    "## Conditional Probability\n",
    "Conditional probability can be described as the answer to this question:  \n",
    ">Given that some friends like Chocolate, what is the probability that they like Strawberry as well?\n",
    "\n",
    "The formula that we can use to find that probability is this one:\n",
    "  \n",
    "  \n",
    "$ P( Strawberry \\mid Chocolate ) = \\frac{P( Chocolate \\cap Strawberry )}{P( Chocolate )} $"
   ]
  },
  {
   "cell_type": "code",
   "execution_count": null,
   "metadata": {},
   "outputs": [],
   "source": []
  }
 ],
 "metadata": {
  "kernelspec": {
   "display_name": "Python 3",
   "language": "python",
   "name": "python3"
  },
  "language_info": {
   "codemirror_mode": {
    "name": "ipython",
    "version": 3
   },
   "file_extension": ".py",
   "mimetype": "text/x-python",
   "name": "python",
   "nbconvert_exporter": "python",
   "pygments_lexer": "ipython3",
   "version": "3.7.6"
  }
 },
 "nbformat": 4,
 "nbformat_minor": 2
}
