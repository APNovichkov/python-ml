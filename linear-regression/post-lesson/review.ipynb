{
 "cells": [
  {
   "cell_type": "code",
   "execution_count": 3,
   "metadata": {},
   "outputs": [],
   "source": [
    "import pandas as pd\n",
    "import numpy as np\n",
    "import matplotlib.pyplot as plt"
   ]
  },
  {
   "cell_type": "markdown",
   "metadata": {},
   "source": [
    "# Review of class material on Linear Regression\n",
    "\n",
    "### Relevant Topics\n",
    "- Mean Square Error (MSE) \n",
    "- Linear Regression Models\n",
    "- Sklearn\n",
    "- R^2 Error"
   ]
  },
  {
   "cell_type": "markdown",
   "metadata": {},
   "source": [
    "## Mean Square Error (MSE)\n",
    "This is a metric that we can use to see how well we can fit the line of best fit. Linear regression should give us a line that has the smallest possible MSE"
   ]
  },
  {
   "cell_type": "code",
   "execution_count": 5,
   "metadata": {},
   "outputs": [
    {
     "data": {
      "image/png": "[encoded data removed]",
      "text/plain": [
       "<Figure size 432x288 with 1 Axes>"
      ]
     },
     "metadata": {
      "needs_background": "light"
     },
     "output_type": "display_data"
    }
   ],
   "source": [
    "# Running Distance in Mile\n",
    "x = np.array([3.3,4.4,5.5,6.71,6.93,4.168,9.779,6.182,7.59,2.167,\n",
    "                         7.042,10.791,5.313,7.997,5.654,9.27,3.1])\n",
    "\n",
    "# Water Drinks in Litre\n",
    "y = np.array([1.7,2.76,2.09,3.19,1.694,1.573,3.366,2.596,2.53,1.221,\n",
    "                         2.827,3.465,1.65,2.904,2.42,2.94,1.3])\n",
    "\n",
    "_= plt.scatter(x, y)\n",
    "_= plt.xlabel('Running Distance (Mile)')\n",
    "_= plt.ylabel('Water Drinks (Litre)')"
   ]
  },
  {
   "cell_type": "markdown",
   "metadata": {},
   "source": [
    "#### Linear Regression formula: y = w1 * x + w0\n",
    "We want to find w0 and w1 so that our MSE is minimized"
   ]
  },
  {
   "cell_type": "code",
   "execution_count": 16,
   "metadata": {},
   "outputs": [],
   "source": [
    "def min_sq_error(x, y, w1, w0):\n",
    "    # This is our predicted line based on w1 and w0 inputs\n",
    "    y_pred = [w1*i + w0 for i in x]\n",
    "    # Here we find the squared error between actual y and predicted y\n",
    "    sum_squared_error = sum([(i-j)**2 for i,j in zip(y_pred, y)])\n",
    "    n = len(y)\n",
    "    # Find the MEAN squared error.\n",
    "    mse = sum_squared_error/n\n",
    "    return y_pred, mse"
   ]
  },
  {
   "cell_type": "markdown",
   "metadata": {},
   "source": [
    "#### Let's see what w1 of .7 and w0 of 1 gives us!"
   ]
  },
  {
   "cell_type": "code",
   "execution_count": 17,
   "metadata": {},
   "outputs": [
    {
     "name": "stdout",
     "output_type": "stream",
     "text": [
      "MSE of w1: .7 and w0: 1 is: 10.220283689999999\n"
     ]
    }
   ],
   "source": [
    "print(f'MSE of w1: .7 and w0: 1 is: {min_sq_error(x, y, .7, 1)[1]}')"
   ]
  },
  {
   "cell_type": "markdown",
   "metadata": {},
   "source": [
    "#### Not that good, let's try w1: .2416 and w0: .798"
   ]
  },
  {
   "cell_type": "code",
   "execution_count": 18,
   "metadata": {},
   "outputs": [
    {
     "name": "stdout",
     "output_type": "stream",
     "text": [
      "MSE of w1: .2416 and w0: .798 is: 0.15841770274891293\n"
     ]
    }
   ],
   "source": [
    "print(f'MSE of w1: .2416 and w0: .798 is: {min_sq_error(x, y, .2416, .798)[1]}')"
   ]
  },
  {
   "cell_type": "markdown",
   "metadata": {},
   "source": [
    "### Sklearn.metrics has a MSE module that we can also use instead of writing our own function"
   ]
  },
  {
   "cell_type": "code",
   "execution_count": 19,
   "metadata": {},
   "outputs": [],
   "source": [
    "from sklearn.metrics import mean_squared_error"
   ]
  },
  {
   "cell_type": "code",
   "execution_count": 20,
   "metadata": {},
   "outputs": [
    {
     "name": "stdout",
     "output_type": "stream",
     "text": [
      "MSE of w1: .2416 and w0: .798 is: 0.15841770274891293\n"
     ]
    }
   ],
   "source": [
    "print(f'MSE of w1: .2416 and w0: .798 is: {mean_squared_error(y, min_sq_error(x, y, .2416, .798)[0])}')"
   ]
  },
  {
   "cell_type": "markdown",
   "metadata": {},
   "source": [
    "This function takes in the the original y, and then the y of line of best fit"
   ]
  },
  {
   "cell_type": "markdown",
   "metadata": {},
   "source": [
    "## Linear Regression Models\n",
    "We can use the Sklearn library to create our Regression models instead of writing our own, lets try it out! "
   ]
  },
  {
   "cell_type": "code",
   "execution_count": 21,
   "metadata": {},
   "outputs": [
    {
     "name": "stdout",
     "output_type": "stream",
     "text": [
      "W1: 0.25163494428355404 and W0: 0.7988012261753894\n"
     ]
    }
   ],
   "source": [
    "from sklearn.linear_model import LinearRegression\n",
    "\n",
    "regression_model = LinearRegression()\n",
    "\n",
    "# X has to be a matrix of features\n",
    "X = x.reshape(-1,1)\n",
    "\n",
    "# Fit the model\n",
    "fit = regression_model.fit(X,y)\n",
    "\n",
    "print(f'W1: {fit.coef_[0]} and W0: {fit.intercept_}')"
   ]
  },
  {
   "cell_type": "markdown",
   "metadata": {},
   "source": [
    "#### Now we can use this model to make predictions for us"
   ]
  },
  {
   "cell_type": "code",
   "execution_count": 27,
   "metadata": {},
   "outputs": [
    {
     "data": {
      "image/png": "[encoded data removed]",
      "text/plain": [
       "<Figure size 432x288 with 1 Axes>"
      ]
     },
     "metadata": {
      "needs_background": "light"
     },
     "output_type": "display_data"
    }
   ],
   "source": [
    "pred_y = fit.predict(X)\n",
    "\n",
    "# Plot Regression Line\n",
    "_= plt.scatter(x,y)\n",
    "_= plt.plot(x, pred_y, 'red')\n",
    "_= plt.xlabel('Running Distance (Mile)')\n",
    "_= plt.ylabel('Water Drinks (Litre)')"
   ]
  },
  {
   "cell_type": "markdown",
   "metadata": {},
   "source": [
    "## Let's try this on a real world dataset - Advertisement Dataset"
   ]
  },
  {
   "cell_type": "code",
   "execution_count": 30,
   "metadata": {},
   "outputs": [
    {
     "data": {
      "text/html": [
       "<div>\n",
       "<style scoped>\n",
       "    .dataframe tbody tr th:only-of-type {\n",
       "        vertical-align: middle;\n",
       "    }\n",
       "\n",
       "    .dataframe tbody tr th {\n",
       "        vertical-align: top;\n",
       "    }\n",
       "\n",
       "    .dataframe thead th {\n",
       "        text-align: right;\n",
       "    }\n",
       "</style>\n",
       "<table border=\"1\" class=\"dataframe\">\n",
       "  <thead>\n",
       "    <tr style=\"text-align: right;\">\n",
       "      <th></th>\n",
       "      <th>TV</th>\n",
       "      <th>radio</th>\n",
       "      <th>newspaper</th>\n",
       "      <th>sales</th>\n",
       "    </tr>\n",
       "  </thead>\n",
       "  <tbody>\n",
       "    <tr>\n",
       "      <td>0</td>\n",
       "      <td>230.1</td>\n",
       "      <td>37.8</td>\n",
       "      <td>69.2</td>\n",
       "      <td>22.1</td>\n",
       "    </tr>\n",
       "    <tr>\n",
       "      <td>1</td>\n",
       "      <td>44.5</td>\n",
       "      <td>39.3</td>\n",
       "      <td>45.1</td>\n",
       "      <td>10.4</td>\n",
       "    </tr>\n",
       "    <tr>\n",
       "      <td>2</td>\n",
       "      <td>17.2</td>\n",
       "      <td>45.9</td>\n",
       "      <td>69.3</td>\n",
       "      <td>9.3</td>\n",
       "    </tr>\n",
       "    <tr>\n",
       "      <td>3</td>\n",
       "      <td>151.5</td>\n",
       "      <td>41.3</td>\n",
       "      <td>58.5</td>\n",
       "      <td>18.5</td>\n",
       "    </tr>\n",
       "    <tr>\n",
       "      <td>4</td>\n",
       "      <td>180.8</td>\n",
       "      <td>10.8</td>\n",
       "      <td>58.4</td>\n",
       "      <td>12.9</td>\n",
       "    </tr>\n",
       "  </tbody>\n",
       "</table>\n",
       "</div>"
      ],
      "text/plain": [
       "      TV  radio  newspaper  sales\n",
       "0  230.1   37.8       69.2   22.1\n",
       "1   44.5   39.3       45.1   10.4\n",
       "2   17.2   45.9       69.3    9.3\n",
       "3  151.5   41.3       58.5   18.5\n",
       "4  180.8   10.8       58.4   12.9"
      ]
     },
     "execution_count": 30,
     "metadata": {},
     "output_type": "execute_result"
    }
   ],
   "source": [
    "df = pd.read_csv('advertising.csv')\n",
    "df = df[['TV', 'radio', 'newspaper', 'sales']]\n",
    "df.head()"
   ]
  },
  {
   "cell_type": "markdown",
   "metadata": {},
   "source": [
    "### We want to build a model that can predict sales based on 3 features:  TV, Radio and Newspaper ad spend\n",
    "We are going to train the model on the first 150 entries and test on the last 50, and look at the MSE and R^2 score"
   ]
  },
  {
   "cell_type": "code",
   "execution_count": 33,
   "metadata": {},
   "outputs": [],
   "source": [
    "# Define feature columns\n",
    "feature_cols = ['TV', 'radio', 'newspaper']\n",
    "\n",
    "# Define X and Y Train\n",
    "X_train = df[feature_cols][:150]\n",
    "Y_train = df['sales'][:150]"
   ]
  },
  {
   "cell_type": "code",
   "execution_count": 35,
   "metadata": {},
   "outputs": [
    {
     "name": "stdout",
     "output_type": "stream",
     "text": [
      "W1: 0.04700011922926804 and W0: 3.029766796293691\n"
     ]
    }
   ],
   "source": [
    "ad_regression_model = LinearRegression()\n",
    "ad_fit = ad_regression_model.fit(X_train, Y_train)\n",
    "\n",
    "print(f'W1: {ad_fit.coef_[0]} and W0: {ad_fit.intercept_}')"
   ]
  },
  {
   "cell_type": "code",
   "execution_count": 38,
   "metadata": {},
   "outputs": [],
   "source": [
    "# Define X and Y Test\n",
    "X_test = df[feature_cols][-50:]\n",
    "Y_test = df['sales'][-50:]\n",
    "\n",
    "sales_preds = ad_fit.predict(X_test)"
   ]
  },
  {
   "cell_type": "code",
   "execution_count": 40,
   "metadata": {},
   "outputs": [
    {
     "name": "stdout",
     "output_type": "stream",
     "text": [
      "MSE for model: 2.66702486838371\n"
     ]
    }
   ],
   "source": [
    "# Calculate MSE\n",
    "print(f'MSE for model: {mean_squared_error(Y_test, sales_preds)}')"
   ]
  },
  {
   "cell_type": "markdown",
   "metadata": {},
   "source": [
    "#### R^2 is another metric to measure accuracy of model, goes between -1 and 1, where the model gets better as r^2 goes towards 1"
   ]
  },
  {
   "cell_type": "code",
   "execution_count": 41,
   "metadata": {},
   "outputs": [
    {
     "name": "stdout",
     "output_type": "stream",
     "text": [
      "R^2 for model: 0.8963519785440216\n",
      "R^2 for model: 0.8963519785440216\n"
     ]
    }
   ],
   "source": [
    "from sklearn.metrics import r2_score\n",
    "\n",
    "# Calculate r^2 score in two ways for this prediction\n",
    "print(f'R^2 for model: {ad_fit.score(X_test, Y_test)}')\n",
    "print(f'R^2 for model: {r2_score(Y_test, sales_preds)}')"
   ]
  },
  {
   "cell_type": "markdown",
   "metadata": {},
   "source": [
    "### Overall, Sklearn is a very powerful package for machine learning and the goal is to learn how to leverage it's power, but also understand how everything works under the good.\n",
    "The model we build was pretty good tho! "
   ]
  }
 ],
 "metadata": {
  "kernelspec": {
   "display_name": "Python 3",
   "language": "python",
   "name": "python3"
  },
  "language_info": {
   "codemirror_mode": {
    "name": "ipython",
    "version": 3
   },
   "file_extension": ".py",
   "mimetype": "text/x-python",
   "name": "python",
   "nbconvert_exporter": "python",
   "pygments_lexer": "ipython3",
   "version": "3.7.6"
  }
 },
 "nbformat": 4,
 "nbformat_minor": 2
}
